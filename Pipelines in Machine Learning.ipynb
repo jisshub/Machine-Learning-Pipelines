{
 "cells": [
  {
   "cell_type": "markdown",
   "id": "ba1dbdf4",
   "metadata": {},
   "source": [
    "# Pipelines in Machine Learning"
   ]
  },
  {
   "cell_type": "markdown",
   "id": "b7b9313f",
   "metadata": {},
   "source": [
    "Video Link: \n",
    "    https://www.youtube.com/watch?v=HZ9MUzCRlzI&list=PLT6wrBlkasCNqKnKcs1hOoCEhtcUZiAqo&index=102&t=215s"
   ]
  },
  {
   "cell_type": "code",
   "execution_count": 1,
   "id": "877df91c",
   "metadata": {},
   "outputs": [],
   "source": [
    "from sklearn.pipeline import Pipeline"
   ]
  },
  {
   "cell_type": "markdown",
   "id": "1c5e554a",
   "metadata": {},
   "source": [
    "## Pipeline Implementation Basic Example"
   ]
  },
  {
   "cell_type": "markdown",
   "id": "cdbd810b",
   "metadata": {},
   "source": [
    "### 1. Import standard scaling and regression technique"
   ]
  },
  {
   "cell_type": "code",
   "execution_count": 2,
   "id": "1607d9bd",
   "metadata": {},
   "outputs": [],
   "source": [
    "from sklearn.preprocessing import StandardScaler\n",
    "from sklearn.linear_model import LogisticRegression"
   ]
  },
  {
   "cell_type": "markdown",
   "id": "a34f751d",
   "metadata": {},
   "source": [
    "### 2. Combine standard scalar with logistic regression\n",
    "\n",
    "standard scalar is a transformation technique and logistic regression is an estimator. Estimator basically means the kind of a model we want to apply. In order to apply the model we create a number of steps. steps are in the form of tuples."
   ]
  },
  {
   "cell_type": "code",
   "execution_count": 3,
   "id": "0099af3c",
   "metadata": {},
   "outputs": [],
   "source": [
    "steps=[(\"standard_scaler\", StandardScaler()),\n",
    "       (\"classifier\", LogisticRegression())\n",
    "    ]"
   ]
  },
  {
   "cell_type": "code",
   "execution_count": 4,
   "id": "eb568936",
   "metadata": {},
   "outputs": [
    {
     "data": {
      "text/plain": [
       "[('standard_scaler', StandardScaler()), ('classifier', LogisticRegression())]"
      ]
     },
     "execution_count": 4,
     "metadata": {},
     "output_type": "execute_result"
    }
   ],
   "source": [
    "steps"
   ]
  },
  {
   "cell_type": "markdown",
   "id": "6d0b006a",
   "metadata": {},
   "source": [
    "**Inference:**\n",
    "    \n",
    "    1. First step is a Standard scaler.\n",
    "    2. Seconda step is a classifier."
   ]
  },
  {
   "cell_type": "markdown",
   "id": "6b964bdb",
   "metadata": {},
   "source": [
    "### 3. Convert the steps into a pipeline."
   ]
  },
  {
   "cell_type": "code",
   "execution_count": 5,
   "id": "7871f231",
   "metadata": {},
   "outputs": [],
   "source": [
    "pipe=Pipeline(steps)"
   ]
  },
  {
   "cell_type": "code",
   "execution_count": 6,
   "id": "6ab25b6c",
   "metadata": {},
   "outputs": [
    {
     "data": {
      "text/plain": [
       "Pipeline(steps=[('standard_scaler', StandardScaler()),\n",
       "                ('classifier', LogisticRegression())])"
      ]
     },
     "execution_count": 6,
     "metadata": {},
     "output_type": "execute_result"
    }
   ],
   "source": [
    "pipe"
   ]
  },
  {
   "cell_type": "markdown",
   "id": "8d60c395",
   "metadata": {},
   "source": [
    "### 4. Visualize the pipeline"
   ]
  },
  {
   "cell_type": "code",
   "execution_count": 7,
   "id": "f42a1424",
   "metadata": {},
   "outputs": [],
   "source": [
    "from sklearn import set_config"
   ]
  },
  {
   "cell_type": "code",
   "execution_count": 8,
   "id": "9a651420",
   "metadata": {},
   "outputs": [],
   "source": [
    "set_config(display='diagram')"
   ]
  },
  {
   "cell_type": "code",
   "execution_count": 9,
   "id": "4d6cfe11",
   "metadata": {},
   "outputs": [
    {
     "data": {
      "text/html": [
       "<style>#sk-e30ad271-1236-4276-9e72-53f74f65e9b9 {color: black;background-color: white;}#sk-e30ad271-1236-4276-9e72-53f74f65e9b9 pre{padding: 0;}#sk-e30ad271-1236-4276-9e72-53f74f65e9b9 div.sk-toggleable {background-color: white;}#sk-e30ad271-1236-4276-9e72-53f74f65e9b9 label.sk-toggleable__label {cursor: pointer;display: block;width: 100%;margin-bottom: 0;padding: 0.3em;box-sizing: border-box;text-align: center;}#sk-e30ad271-1236-4276-9e72-53f74f65e9b9 label.sk-toggleable__label-arrow:before {content: \"▸\";float: left;margin-right: 0.25em;color: #696969;}#sk-e30ad271-1236-4276-9e72-53f74f65e9b9 label.sk-toggleable__label-arrow:hover:before {color: black;}#sk-e30ad271-1236-4276-9e72-53f74f65e9b9 div.sk-estimator:hover label.sk-toggleable__label-arrow:before {color: black;}#sk-e30ad271-1236-4276-9e72-53f74f65e9b9 div.sk-toggleable__content {max-height: 0;max-width: 0;overflow: hidden;text-align: left;background-color: #f0f8ff;}#sk-e30ad271-1236-4276-9e72-53f74f65e9b9 div.sk-toggleable__content pre {margin: 0.2em;color: black;border-radius: 0.25em;background-color: #f0f8ff;}#sk-e30ad271-1236-4276-9e72-53f74f65e9b9 input.sk-toggleable__control:checked~div.sk-toggleable__content {max-height: 200px;max-width: 100%;overflow: auto;}#sk-e30ad271-1236-4276-9e72-53f74f65e9b9 input.sk-toggleable__control:checked~label.sk-toggleable__label-arrow:before {content: \"▾\";}#sk-e30ad271-1236-4276-9e72-53f74f65e9b9 div.sk-estimator input.sk-toggleable__control:checked~label.sk-toggleable__label {background-color: #d4ebff;}#sk-e30ad271-1236-4276-9e72-53f74f65e9b9 div.sk-label input.sk-toggleable__control:checked~label.sk-toggleable__label {background-color: #d4ebff;}#sk-e30ad271-1236-4276-9e72-53f74f65e9b9 input.sk-hidden--visually {border: 0;clip: rect(1px 1px 1px 1px);clip: rect(1px, 1px, 1px, 1px);height: 1px;margin: -1px;overflow: hidden;padding: 0;position: absolute;width: 1px;}#sk-e30ad271-1236-4276-9e72-53f74f65e9b9 div.sk-estimator {font-family: monospace;background-color: #f0f8ff;border: 1px dotted black;border-radius: 0.25em;box-sizing: border-box;margin-bottom: 0.5em;}#sk-e30ad271-1236-4276-9e72-53f74f65e9b9 div.sk-estimator:hover {background-color: #d4ebff;}#sk-e30ad271-1236-4276-9e72-53f74f65e9b9 div.sk-parallel-item::after {content: \"\";width: 100%;border-bottom: 1px solid gray;flex-grow: 1;}#sk-e30ad271-1236-4276-9e72-53f74f65e9b9 div.sk-label:hover label.sk-toggleable__label {background-color: #d4ebff;}#sk-e30ad271-1236-4276-9e72-53f74f65e9b9 div.sk-serial::before {content: \"\";position: absolute;border-left: 1px solid gray;box-sizing: border-box;top: 2em;bottom: 0;left: 50%;}#sk-e30ad271-1236-4276-9e72-53f74f65e9b9 div.sk-serial {display: flex;flex-direction: column;align-items: center;background-color: white;padding-right: 0.2em;padding-left: 0.2em;}#sk-e30ad271-1236-4276-9e72-53f74f65e9b9 div.sk-item {z-index: 1;}#sk-e30ad271-1236-4276-9e72-53f74f65e9b9 div.sk-parallel {display: flex;align-items: stretch;justify-content: center;background-color: white;}#sk-e30ad271-1236-4276-9e72-53f74f65e9b9 div.sk-parallel::before {content: \"\";position: absolute;border-left: 1px solid gray;box-sizing: border-box;top: 2em;bottom: 0;left: 50%;}#sk-e30ad271-1236-4276-9e72-53f74f65e9b9 div.sk-parallel-item {display: flex;flex-direction: column;position: relative;background-color: white;}#sk-e30ad271-1236-4276-9e72-53f74f65e9b9 div.sk-parallel-item:first-child::after {align-self: flex-end;width: 50%;}#sk-e30ad271-1236-4276-9e72-53f74f65e9b9 div.sk-parallel-item:last-child::after {align-self: flex-start;width: 50%;}#sk-e30ad271-1236-4276-9e72-53f74f65e9b9 div.sk-parallel-item:only-child::after {width: 0;}#sk-e30ad271-1236-4276-9e72-53f74f65e9b9 div.sk-dashed-wrapped {border: 1px dashed gray;margin: 0 0.4em 0.5em 0.4em;box-sizing: border-box;padding-bottom: 0.4em;background-color: white;position: relative;}#sk-e30ad271-1236-4276-9e72-53f74f65e9b9 div.sk-label label {font-family: monospace;font-weight: bold;background-color: white;display: inline-block;line-height: 1.2em;}#sk-e30ad271-1236-4276-9e72-53f74f65e9b9 div.sk-label-container {position: relative;z-index: 2;text-align: center;}#sk-e30ad271-1236-4276-9e72-53f74f65e9b9 div.sk-container {/* jupyter's `normalize.less` sets `[hidden] { display: none; }` but bootstrap.min.css set `[hidden] { display: none !important; }` so we also need the `!important` here to be able to override the default hidden behavior on the sphinx rendered scikit-learn.org. See: https://github.com/scikit-learn/scikit-learn/issues/21755 */display: inline-block !important;position: relative;}#sk-e30ad271-1236-4276-9e72-53f74f65e9b9 div.sk-text-repr-fallback {display: none;}</style><div id=\"sk-e30ad271-1236-4276-9e72-53f74f65e9b9\" class=\"sk-top-container\"><div class=\"sk-text-repr-fallback\"><pre>Pipeline(steps=[(&#x27;standard_scaler&#x27;, StandardScaler()),\n",
       "                (&#x27;classifier&#x27;, LogisticRegression())])</pre><b>Please rerun this cell to show the HTML repr or trust the notebook.</b></div><div class=\"sk-container\" hidden><div class=\"sk-item sk-dashed-wrapped\"><div class=\"sk-label-container\"><div class=\"sk-label sk-toggleable\"><input class=\"sk-toggleable__control sk-hidden--visually\" id=\"4617811d-85fa-42cd-bdb2-22d2b8e3ae7f\" type=\"checkbox\" ><label for=\"4617811d-85fa-42cd-bdb2-22d2b8e3ae7f\" class=\"sk-toggleable__label sk-toggleable__label-arrow\">Pipeline</label><div class=\"sk-toggleable__content\"><pre>Pipeline(steps=[(&#x27;standard_scaler&#x27;, StandardScaler()),\n",
       "                (&#x27;classifier&#x27;, LogisticRegression())])</pre></div></div></div><div class=\"sk-serial\"><div class=\"sk-item\"><div class=\"sk-estimator sk-toggleable\"><input class=\"sk-toggleable__control sk-hidden--visually\" id=\"4d5457aa-9eba-48be-a73b-f7d5457b1d38\" type=\"checkbox\" ><label for=\"4d5457aa-9eba-48be-a73b-f7d5457b1d38\" class=\"sk-toggleable__label sk-toggleable__label-arrow\">StandardScaler</label><div class=\"sk-toggleable__content\"><pre>StandardScaler()</pre></div></div></div><div class=\"sk-item\"><div class=\"sk-estimator sk-toggleable\"><input class=\"sk-toggleable__control sk-hidden--visually\" id=\"7b55b23e-5cab-4efa-9208-e263df59fcda\" type=\"checkbox\" ><label for=\"7b55b23e-5cab-4efa-9208-e263df59fcda\" class=\"sk-toggleable__label sk-toggleable__label-arrow\">LogisticRegression</label><div class=\"sk-toggleable__content\"><pre>LogisticRegression()</pre></div></div></div></div></div></div></div>"
      ],
      "text/plain": [
       "Pipeline(steps=[('standard_scaler', StandardScaler()),\n",
       "                ('classifier', LogisticRegression())])"
      ]
     },
     "execution_count": 9,
     "metadata": {},
     "output_type": "execute_result"
    }
   ],
   "source": [
    "pipe"
   ]
  },
  {
   "cell_type": "markdown",
   "id": "6378e737",
   "metadata": {},
   "source": [
    "**Inference:**\n",
    "\n",
    "Steps involved in pipeline is visualised here."
   ]
  },
  {
   "cell_type": "markdown",
   "id": "d7d0357e",
   "metadata": {},
   "source": [
    "### 5. Creating a Sample dataset\n",
    "\n",
    "Create a classification dataset"
   ]
  },
  {
   "cell_type": "code",
   "execution_count": 10,
   "id": "dd5f5d68",
   "metadata": {},
   "outputs": [],
   "source": [
    "from sklearn.datasets import make_classification"
   ]
  },
  {
   "cell_type": "code",
   "execution_count": 11,
   "id": "92f5729c",
   "metadata": {},
   "outputs": [],
   "source": [
    "X,y=make_classification() # create a random classification dataset."
   ]
  },
  {
   "cell_type": "code",
   "execution_count": 12,
   "id": "00e543cc",
   "metadata": {},
   "outputs": [
    {
     "data": {
      "text/plain": [
       "array([[ 1.35099749,  0.4111458 , -0.77686541, ...,  0.454708  ,\n",
       "         0.53500001,  0.46129788],\n",
       "       [ 1.06852358,  0.97327654,  0.11177978, ..., -0.74464801,\n",
       "        -1.19467619, -0.60661708],\n",
       "       [-0.39455779, -1.05462452, -0.13985979, ...,  1.18658429,\n",
       "         1.5280588 ,  0.9528506 ],\n",
       "       ...,\n",
       "       [-0.2629402 ,  3.04260847,  0.22485953, ..., -2.69629097,\n",
       "         0.41637013, -3.43482468],\n",
       "       [ 1.42620522, -0.52787131,  0.50045873, ...,  1.11191361,\n",
       "         0.09699036,  1.05100121],\n",
       "       [ 0.97390141,  0.07349023,  0.55239911, ...,  1.27328512,\n",
       "        -1.61257602,  1.81299812]])"
      ]
     },
     "execution_count": 12,
     "metadata": {},
     "output_type": "execute_result"
    }
   ],
   "source": [
    "X"
   ]
  },
  {
   "cell_type": "code",
   "execution_count": 13,
   "id": "a288eb7d",
   "metadata": {},
   "outputs": [
    {
     "data": {
      "text/plain": [
       "array([0, 0, 0, 1, 1, 0, 1, 0, 1, 1, 1, 1, 0, 1, 0, 0, 1, 1, 0, 0, 1, 1,\n",
       "       0, 0, 1, 0, 1, 1, 0, 0, 0, 0, 0, 1, 1, 0, 1, 0, 0, 0, 0, 1, 0, 0,\n",
       "       1, 1, 1, 0, 0, 0, 0, 0, 0, 0, 1, 1, 0, 0, 0, 1, 0, 1, 1, 1, 0, 1,\n",
       "       0, 0, 1, 0, 1, 0, 0, 0, 1, 0, 1, 1, 0, 1, 0, 0, 1, 1, 1, 0, 1, 1,\n",
       "       1, 1, 1, 0, 1, 1, 0, 1, 1, 1, 1, 0])"
      ]
     },
     "execution_count": 13,
     "metadata": {},
     "output_type": "execute_result"
    }
   ],
   "source": [
    "y"
   ]
  },
  {
   "cell_type": "markdown",
   "id": "d3fbfe33",
   "metadata": {},
   "source": [
    "### 6. Train Test Split the Dataset"
   ]
  },
  {
   "cell_type": "code",
   "execution_count": 14,
   "id": "98ba8bdc",
   "metadata": {},
   "outputs": [],
   "source": [
    "from sklearn.model_selection import train_test_split"
   ]
  },
  {
   "cell_type": "code",
   "execution_count": 15,
   "id": "443ff1bc",
   "metadata": {},
   "outputs": [],
   "source": [
    "X_train,X_test,y_train,y_test=train_test_split(X,y,test_size=0.33,random_state=42)"
   ]
  },
  {
   "cell_type": "code",
   "execution_count": 16,
   "id": "83819f1a",
   "metadata": {},
   "outputs": [
    {
     "data": {
      "text/plain": [
       "array([[ 0.35887048,  0.5261859 , -0.08823691, ...,  0.84287421,\n",
       "        -0.86463594,  1.48526829],\n",
       "       [-0.20644335, -0.51020794, -1.28234859, ..., -1.10190841,\n",
       "         0.68838791, -1.73148931],\n",
       "       [-0.65120957,  1.31834014, -0.75048807, ...,  1.32258963,\n",
       "         0.0647055 ,  1.75841825],\n",
       "       ...,\n",
       "       [-0.85257485,  0.66238881,  0.87150754, ..., -2.20881234,\n",
       "        -1.51540075, -2.86993861],\n",
       "       [-0.17907684,  1.39338275, -1.4778554 , ...,  0.61538041,\n",
       "        -1.03007462,  0.66218852],\n",
       "       [-0.33350289, -0.37746613,  1.47481218, ...,  0.15937483,\n",
       "         0.63328215,  0.83027206]])"
      ]
     },
     "execution_count": 16,
     "metadata": {},
     "output_type": "execute_result"
    }
   ],
   "source": [
    "X_train"
   ]
  },
  {
   "cell_type": "code",
   "execution_count": 17,
   "id": "56cbdf46",
   "metadata": {},
   "outputs": [
    {
     "data": {
      "text/plain": [
       "array([0, 1, 0, 0, 1, 0, 1, 0, 1, 0, 1, 1, 0, 0, 0, 1, 1, 1, 1, 1, 0, 1,\n",
       "       0, 1, 0, 1, 1, 0, 0, 1, 0, 0, 0, 1, 1, 1, 1, 1, 1, 0, 0, 1, 0, 0,\n",
       "       0, 0, 1, 1, 1, 0, 0, 0, 0, 1, 0, 0, 1, 0, 1, 1, 1, 1, 0, 0, 0, 1,\n",
       "       0])"
      ]
     },
     "execution_count": 17,
     "metadata": {},
     "output_type": "execute_result"
    }
   ],
   "source": [
    "y_train"
   ]
  },
  {
   "cell_type": "markdown",
   "id": "ca999d1c",
   "metadata": {},
   "source": [
    "### 7. Fit the pipeline on X_train and y_train data\n",
    "\n",
    "Once we call fit on X_train and y_train, it passes through the pipeline and get trained for Logistic regression."
   ]
  },
  {
   "cell_type": "code",
   "execution_count": 18,
   "id": "d80fb3cc",
   "metadata": {},
   "outputs": [
    {
     "data": {
      "text/html": [
       "<style>#sk-a885dca5-9a9e-42cb-bf88-2d306b6f885c {color: black;background-color: white;}#sk-a885dca5-9a9e-42cb-bf88-2d306b6f885c pre{padding: 0;}#sk-a885dca5-9a9e-42cb-bf88-2d306b6f885c div.sk-toggleable {background-color: white;}#sk-a885dca5-9a9e-42cb-bf88-2d306b6f885c label.sk-toggleable__label {cursor: pointer;display: block;width: 100%;margin-bottom: 0;padding: 0.3em;box-sizing: border-box;text-align: center;}#sk-a885dca5-9a9e-42cb-bf88-2d306b6f885c label.sk-toggleable__label-arrow:before {content: \"▸\";float: left;margin-right: 0.25em;color: #696969;}#sk-a885dca5-9a9e-42cb-bf88-2d306b6f885c label.sk-toggleable__label-arrow:hover:before {color: black;}#sk-a885dca5-9a9e-42cb-bf88-2d306b6f885c div.sk-estimator:hover label.sk-toggleable__label-arrow:before {color: black;}#sk-a885dca5-9a9e-42cb-bf88-2d306b6f885c div.sk-toggleable__content {max-height: 0;max-width: 0;overflow: hidden;text-align: left;background-color: #f0f8ff;}#sk-a885dca5-9a9e-42cb-bf88-2d306b6f885c div.sk-toggleable__content pre {margin: 0.2em;color: black;border-radius: 0.25em;background-color: #f0f8ff;}#sk-a885dca5-9a9e-42cb-bf88-2d306b6f885c input.sk-toggleable__control:checked~div.sk-toggleable__content {max-height: 200px;max-width: 100%;overflow: auto;}#sk-a885dca5-9a9e-42cb-bf88-2d306b6f885c input.sk-toggleable__control:checked~label.sk-toggleable__label-arrow:before {content: \"▾\";}#sk-a885dca5-9a9e-42cb-bf88-2d306b6f885c div.sk-estimator input.sk-toggleable__control:checked~label.sk-toggleable__label {background-color: #d4ebff;}#sk-a885dca5-9a9e-42cb-bf88-2d306b6f885c div.sk-label input.sk-toggleable__control:checked~label.sk-toggleable__label {background-color: #d4ebff;}#sk-a885dca5-9a9e-42cb-bf88-2d306b6f885c input.sk-hidden--visually {border: 0;clip: rect(1px 1px 1px 1px);clip: rect(1px, 1px, 1px, 1px);height: 1px;margin: -1px;overflow: hidden;padding: 0;position: absolute;width: 1px;}#sk-a885dca5-9a9e-42cb-bf88-2d306b6f885c div.sk-estimator {font-family: monospace;background-color: #f0f8ff;border: 1px dotted black;border-radius: 0.25em;box-sizing: border-box;margin-bottom: 0.5em;}#sk-a885dca5-9a9e-42cb-bf88-2d306b6f885c div.sk-estimator:hover {background-color: #d4ebff;}#sk-a885dca5-9a9e-42cb-bf88-2d306b6f885c div.sk-parallel-item::after {content: \"\";width: 100%;border-bottom: 1px solid gray;flex-grow: 1;}#sk-a885dca5-9a9e-42cb-bf88-2d306b6f885c div.sk-label:hover label.sk-toggleable__label {background-color: #d4ebff;}#sk-a885dca5-9a9e-42cb-bf88-2d306b6f885c div.sk-serial::before {content: \"\";position: absolute;border-left: 1px solid gray;box-sizing: border-box;top: 2em;bottom: 0;left: 50%;}#sk-a885dca5-9a9e-42cb-bf88-2d306b6f885c div.sk-serial {display: flex;flex-direction: column;align-items: center;background-color: white;padding-right: 0.2em;padding-left: 0.2em;}#sk-a885dca5-9a9e-42cb-bf88-2d306b6f885c div.sk-item {z-index: 1;}#sk-a885dca5-9a9e-42cb-bf88-2d306b6f885c div.sk-parallel {display: flex;align-items: stretch;justify-content: center;background-color: white;}#sk-a885dca5-9a9e-42cb-bf88-2d306b6f885c div.sk-parallel::before {content: \"\";position: absolute;border-left: 1px solid gray;box-sizing: border-box;top: 2em;bottom: 0;left: 50%;}#sk-a885dca5-9a9e-42cb-bf88-2d306b6f885c div.sk-parallel-item {display: flex;flex-direction: column;position: relative;background-color: white;}#sk-a885dca5-9a9e-42cb-bf88-2d306b6f885c div.sk-parallel-item:first-child::after {align-self: flex-end;width: 50%;}#sk-a885dca5-9a9e-42cb-bf88-2d306b6f885c div.sk-parallel-item:last-child::after {align-self: flex-start;width: 50%;}#sk-a885dca5-9a9e-42cb-bf88-2d306b6f885c div.sk-parallel-item:only-child::after {width: 0;}#sk-a885dca5-9a9e-42cb-bf88-2d306b6f885c div.sk-dashed-wrapped {border: 1px dashed gray;margin: 0 0.4em 0.5em 0.4em;box-sizing: border-box;padding-bottom: 0.4em;background-color: white;position: relative;}#sk-a885dca5-9a9e-42cb-bf88-2d306b6f885c div.sk-label label {font-family: monospace;font-weight: bold;background-color: white;display: inline-block;line-height: 1.2em;}#sk-a885dca5-9a9e-42cb-bf88-2d306b6f885c div.sk-label-container {position: relative;z-index: 2;text-align: center;}#sk-a885dca5-9a9e-42cb-bf88-2d306b6f885c div.sk-container {/* jupyter's `normalize.less` sets `[hidden] { display: none; }` but bootstrap.min.css set `[hidden] { display: none !important; }` so we also need the `!important` here to be able to override the default hidden behavior on the sphinx rendered scikit-learn.org. See: https://github.com/scikit-learn/scikit-learn/issues/21755 */display: inline-block !important;position: relative;}#sk-a885dca5-9a9e-42cb-bf88-2d306b6f885c div.sk-text-repr-fallback {display: none;}</style><div id=\"sk-a885dca5-9a9e-42cb-bf88-2d306b6f885c\" class=\"sk-top-container\"><div class=\"sk-text-repr-fallback\"><pre>Pipeline(steps=[(&#x27;standard_scaler&#x27;, StandardScaler()),\n",
       "                (&#x27;classifier&#x27;, LogisticRegression())])</pre><b>Please rerun this cell to show the HTML repr or trust the notebook.</b></div><div class=\"sk-container\" hidden><div class=\"sk-item sk-dashed-wrapped\"><div class=\"sk-label-container\"><div class=\"sk-label sk-toggleable\"><input class=\"sk-toggleable__control sk-hidden--visually\" id=\"668a78a0-3c7c-426e-8eaa-58829272821a\" type=\"checkbox\" ><label for=\"668a78a0-3c7c-426e-8eaa-58829272821a\" class=\"sk-toggleable__label sk-toggleable__label-arrow\">Pipeline</label><div class=\"sk-toggleable__content\"><pre>Pipeline(steps=[(&#x27;standard_scaler&#x27;, StandardScaler()),\n",
       "                (&#x27;classifier&#x27;, LogisticRegression())])</pre></div></div></div><div class=\"sk-serial\"><div class=\"sk-item\"><div class=\"sk-estimator sk-toggleable\"><input class=\"sk-toggleable__control sk-hidden--visually\" id=\"92e45345-13b3-48b0-9091-cadc726dab68\" type=\"checkbox\" ><label for=\"92e45345-13b3-48b0-9091-cadc726dab68\" class=\"sk-toggleable__label sk-toggleable__label-arrow\">StandardScaler</label><div class=\"sk-toggleable__content\"><pre>StandardScaler()</pre></div></div></div><div class=\"sk-item\"><div class=\"sk-estimator sk-toggleable\"><input class=\"sk-toggleable__control sk-hidden--visually\" id=\"99b0fd42-2a01-4495-a35b-440bfb87ceb7\" type=\"checkbox\" ><label for=\"99b0fd42-2a01-4495-a35b-440bfb87ceb7\" class=\"sk-toggleable__label sk-toggleable__label-arrow\">LogisticRegression</label><div class=\"sk-toggleable__content\"><pre>LogisticRegression()</pre></div></div></div></div></div></div></div>"
      ],
      "text/plain": [
       "Pipeline(steps=[('standard_scaler', StandardScaler()),\n",
       "                ('classifier', LogisticRegression())])"
      ]
     },
     "execution_count": 18,
     "metadata": {},
     "output_type": "execute_result"
    }
   ],
   "source": [
    "pipe.fit(X_train, y_train)"
   ]
  },
  {
   "cell_type": "markdown",
   "id": "62c6f74e",
   "metadata": {},
   "source": [
    "### 8. Prediction"
   ]
  },
  {
   "cell_type": "code",
   "execution_count": 19,
   "id": "4ac54372",
   "metadata": {},
   "outputs": [],
   "source": [
    "y_pred = pipe.predict(X_test)"
   ]
  },
  {
   "cell_type": "code",
   "execution_count": 20,
   "id": "58def95c",
   "metadata": {},
   "outputs": [
    {
     "data": {
      "text/plain": [
       "array([1, 0, 1, 1, 1, 0, 0, 0, 0, 1, 0, 0, 0, 1, 1, 1, 1, 1, 0, 1, 0, 0,\n",
       "       1, 0, 0, 0, 0, 0, 1, 1, 1, 0, 0])"
      ]
     },
     "execution_count": 20,
     "metadata": {},
     "output_type": "execute_result"
    }
   ],
   "source": [
    "y_pred"
   ]
  },
  {
   "cell_type": "markdown",
   "id": "29cc2010",
   "metadata": {},
   "source": [
    "**Inference:**\n",
    "\n",
    "- In prediction, when *X_test* passes through this *StandardScaler* pipeline, It performs only *transform()* method. \n",
    "\n",
    "- This is how we can use pipelines. We can combine the transformation and feature scaling techniques."
   ]
  },
  {
   "cell_type": "markdown",
   "id": "86a1e8ea",
   "metadata": {},
   "source": [
    "## Pipeline Implementation Example 2"
   ]
  },
  {
   "cell_type": "markdown",
   "id": "b3df9ae3",
   "metadata": {},
   "source": [
    "### 1. Import PCA and SVC"
   ]
  },
  {
   "cell_type": "code",
   "execution_count": 21,
   "id": "e64d74b9",
   "metadata": {},
   "outputs": [],
   "source": [
    "from sklearn.decomposition import PCA\n",
    "from sklearn.svm import SVC"
   ]
  },
  {
   "cell_type": "markdown",
   "id": "75fee60c",
   "metadata": {},
   "source": [
    "### 2. Steps to apply for model creation"
   ]
  },
  {
   "cell_type": "code",
   "execution_count": 22,
   "id": "c17daea8",
   "metadata": {},
   "outputs": [],
   "source": [
    "steps = [\n",
    "    (\"scaling\", StandardScaler()),\n",
    "    (\"PCA\", PCA(n_components=3)),\n",
    "    (\"SVC\", SVC())\n",
    "]"
   ]
  },
  {
   "cell_type": "markdown",
   "id": "84d3a35f",
   "metadata": {},
   "source": [
    "### 3. Convert the Steps into Pipeline"
   ]
  },
  {
   "cell_type": "code",
   "execution_count": 23,
   "id": "58a9e491",
   "metadata": {},
   "outputs": [],
   "source": [
    "pipe2=Pipeline(steps)"
   ]
  },
  {
   "cell_type": "code",
   "execution_count": 24,
   "id": "1e61ba6b",
   "metadata": {},
   "outputs": [
    {
     "data": {
      "text/html": [
       "<style>#sk-834a0032-a648-4596-90f6-d68526cf566a {color: black;background-color: white;}#sk-834a0032-a648-4596-90f6-d68526cf566a pre{padding: 0;}#sk-834a0032-a648-4596-90f6-d68526cf566a div.sk-toggleable {background-color: white;}#sk-834a0032-a648-4596-90f6-d68526cf566a label.sk-toggleable__label {cursor: pointer;display: block;width: 100%;margin-bottom: 0;padding: 0.3em;box-sizing: border-box;text-align: center;}#sk-834a0032-a648-4596-90f6-d68526cf566a label.sk-toggleable__label-arrow:before {content: \"▸\";float: left;margin-right: 0.25em;color: #696969;}#sk-834a0032-a648-4596-90f6-d68526cf566a label.sk-toggleable__label-arrow:hover:before {color: black;}#sk-834a0032-a648-4596-90f6-d68526cf566a div.sk-estimator:hover label.sk-toggleable__label-arrow:before {color: black;}#sk-834a0032-a648-4596-90f6-d68526cf566a div.sk-toggleable__content {max-height: 0;max-width: 0;overflow: hidden;text-align: left;background-color: #f0f8ff;}#sk-834a0032-a648-4596-90f6-d68526cf566a div.sk-toggleable__content pre {margin: 0.2em;color: black;border-radius: 0.25em;background-color: #f0f8ff;}#sk-834a0032-a648-4596-90f6-d68526cf566a input.sk-toggleable__control:checked~div.sk-toggleable__content {max-height: 200px;max-width: 100%;overflow: auto;}#sk-834a0032-a648-4596-90f6-d68526cf566a input.sk-toggleable__control:checked~label.sk-toggleable__label-arrow:before {content: \"▾\";}#sk-834a0032-a648-4596-90f6-d68526cf566a div.sk-estimator input.sk-toggleable__control:checked~label.sk-toggleable__label {background-color: #d4ebff;}#sk-834a0032-a648-4596-90f6-d68526cf566a div.sk-label input.sk-toggleable__control:checked~label.sk-toggleable__label {background-color: #d4ebff;}#sk-834a0032-a648-4596-90f6-d68526cf566a input.sk-hidden--visually {border: 0;clip: rect(1px 1px 1px 1px);clip: rect(1px, 1px, 1px, 1px);height: 1px;margin: -1px;overflow: hidden;padding: 0;position: absolute;width: 1px;}#sk-834a0032-a648-4596-90f6-d68526cf566a div.sk-estimator {font-family: monospace;background-color: #f0f8ff;border: 1px dotted black;border-radius: 0.25em;box-sizing: border-box;margin-bottom: 0.5em;}#sk-834a0032-a648-4596-90f6-d68526cf566a div.sk-estimator:hover {background-color: #d4ebff;}#sk-834a0032-a648-4596-90f6-d68526cf566a div.sk-parallel-item::after {content: \"\";width: 100%;border-bottom: 1px solid gray;flex-grow: 1;}#sk-834a0032-a648-4596-90f6-d68526cf566a div.sk-label:hover label.sk-toggleable__label {background-color: #d4ebff;}#sk-834a0032-a648-4596-90f6-d68526cf566a div.sk-serial::before {content: \"\";position: absolute;border-left: 1px solid gray;box-sizing: border-box;top: 2em;bottom: 0;left: 50%;}#sk-834a0032-a648-4596-90f6-d68526cf566a div.sk-serial {display: flex;flex-direction: column;align-items: center;background-color: white;padding-right: 0.2em;padding-left: 0.2em;}#sk-834a0032-a648-4596-90f6-d68526cf566a div.sk-item {z-index: 1;}#sk-834a0032-a648-4596-90f6-d68526cf566a div.sk-parallel {display: flex;align-items: stretch;justify-content: center;background-color: white;}#sk-834a0032-a648-4596-90f6-d68526cf566a div.sk-parallel::before {content: \"\";position: absolute;border-left: 1px solid gray;box-sizing: border-box;top: 2em;bottom: 0;left: 50%;}#sk-834a0032-a648-4596-90f6-d68526cf566a div.sk-parallel-item {display: flex;flex-direction: column;position: relative;background-color: white;}#sk-834a0032-a648-4596-90f6-d68526cf566a div.sk-parallel-item:first-child::after {align-self: flex-end;width: 50%;}#sk-834a0032-a648-4596-90f6-d68526cf566a div.sk-parallel-item:last-child::after {align-self: flex-start;width: 50%;}#sk-834a0032-a648-4596-90f6-d68526cf566a div.sk-parallel-item:only-child::after {width: 0;}#sk-834a0032-a648-4596-90f6-d68526cf566a div.sk-dashed-wrapped {border: 1px dashed gray;margin: 0 0.4em 0.5em 0.4em;box-sizing: border-box;padding-bottom: 0.4em;background-color: white;position: relative;}#sk-834a0032-a648-4596-90f6-d68526cf566a div.sk-label label {font-family: monospace;font-weight: bold;background-color: white;display: inline-block;line-height: 1.2em;}#sk-834a0032-a648-4596-90f6-d68526cf566a div.sk-label-container {position: relative;z-index: 2;text-align: center;}#sk-834a0032-a648-4596-90f6-d68526cf566a div.sk-container {/* jupyter's `normalize.less` sets `[hidden] { display: none; }` but bootstrap.min.css set `[hidden] { display: none !important; }` so we also need the `!important` here to be able to override the default hidden behavior on the sphinx rendered scikit-learn.org. See: https://github.com/scikit-learn/scikit-learn/issues/21755 */display: inline-block !important;position: relative;}#sk-834a0032-a648-4596-90f6-d68526cf566a div.sk-text-repr-fallback {display: none;}</style><div id=\"sk-834a0032-a648-4596-90f6-d68526cf566a\" class=\"sk-top-container\"><div class=\"sk-text-repr-fallback\"><pre>Pipeline(steps=[(&#x27;scaling&#x27;, StandardScaler()), (&#x27;PCA&#x27;, PCA(n_components=3)),\n",
       "                (&#x27;SVC&#x27;, SVC())])</pre><b>Please rerun this cell to show the HTML repr or trust the notebook.</b></div><div class=\"sk-container\" hidden><div class=\"sk-item sk-dashed-wrapped\"><div class=\"sk-label-container\"><div class=\"sk-label sk-toggleable\"><input class=\"sk-toggleable__control sk-hidden--visually\" id=\"065cdd6c-feb4-493d-932a-fceeb3e68175\" type=\"checkbox\" ><label for=\"065cdd6c-feb4-493d-932a-fceeb3e68175\" class=\"sk-toggleable__label sk-toggleable__label-arrow\">Pipeline</label><div class=\"sk-toggleable__content\"><pre>Pipeline(steps=[(&#x27;scaling&#x27;, StandardScaler()), (&#x27;PCA&#x27;, PCA(n_components=3)),\n",
       "                (&#x27;SVC&#x27;, SVC())])</pre></div></div></div><div class=\"sk-serial\"><div class=\"sk-item\"><div class=\"sk-estimator sk-toggleable\"><input class=\"sk-toggleable__control sk-hidden--visually\" id=\"748600c3-c99a-438b-b35b-9d299badb854\" type=\"checkbox\" ><label for=\"748600c3-c99a-438b-b35b-9d299badb854\" class=\"sk-toggleable__label sk-toggleable__label-arrow\">StandardScaler</label><div class=\"sk-toggleable__content\"><pre>StandardScaler()</pre></div></div></div><div class=\"sk-item\"><div class=\"sk-estimator sk-toggleable\"><input class=\"sk-toggleable__control sk-hidden--visually\" id=\"deba5d92-e1c6-4eae-8f68-8717d8d2653f\" type=\"checkbox\" ><label for=\"deba5d92-e1c6-4eae-8f68-8717d8d2653f\" class=\"sk-toggleable__label sk-toggleable__label-arrow\">PCA</label><div class=\"sk-toggleable__content\"><pre>PCA(n_components=3)</pre></div></div></div><div class=\"sk-item\"><div class=\"sk-estimator sk-toggleable\"><input class=\"sk-toggleable__control sk-hidden--visually\" id=\"e00bebf6-16c7-4d4b-8284-ae0b81c2180b\" type=\"checkbox\" ><label for=\"e00bebf6-16c7-4d4b-8284-ae0b81c2180b\" class=\"sk-toggleable__label sk-toggleable__label-arrow\">SVC</label><div class=\"sk-toggleable__content\"><pre>SVC()</pre></div></div></div></div></div></div></div>"
      ],
      "text/plain": [
       "Pipeline(steps=[('scaling', StandardScaler()), ('PCA', PCA(n_components=3)),\n",
       "                ('SVC', SVC())])"
      ]
     },
     "execution_count": 24,
     "metadata": {},
     "output_type": "execute_result"
    }
   ],
   "source": [
    "pipe2"
   ]
  },
  {
   "cell_type": "markdown",
   "id": "5d0cbb67",
   "metadata": {},
   "source": [
    "**Inference:**\n",
    "    \n",
    "    This means in the first step we apply standard scaler, followed by PCA and SVC."
   ]
  },
  {
   "cell_type": "markdown",
   "id": "fa0363c1",
   "metadata": {},
   "source": [
    "### 4. Fit the pipeline on X_train and y_train"
   ]
  },
  {
   "cell_type": "code",
   "execution_count": 25,
   "id": "a01c6ff0",
   "metadata": {},
   "outputs": [
    {
     "data": {
      "text/html": [
       "<style>#sk-25da396e-9ffe-4c46-a75b-f7d89231ecb5 {color: black;background-color: white;}#sk-25da396e-9ffe-4c46-a75b-f7d89231ecb5 pre{padding: 0;}#sk-25da396e-9ffe-4c46-a75b-f7d89231ecb5 div.sk-toggleable {background-color: white;}#sk-25da396e-9ffe-4c46-a75b-f7d89231ecb5 label.sk-toggleable__label {cursor: pointer;display: block;width: 100%;margin-bottom: 0;padding: 0.3em;box-sizing: border-box;text-align: center;}#sk-25da396e-9ffe-4c46-a75b-f7d89231ecb5 label.sk-toggleable__label-arrow:before {content: \"▸\";float: left;margin-right: 0.25em;color: #696969;}#sk-25da396e-9ffe-4c46-a75b-f7d89231ecb5 label.sk-toggleable__label-arrow:hover:before {color: black;}#sk-25da396e-9ffe-4c46-a75b-f7d89231ecb5 div.sk-estimator:hover label.sk-toggleable__label-arrow:before {color: black;}#sk-25da396e-9ffe-4c46-a75b-f7d89231ecb5 div.sk-toggleable__content {max-height: 0;max-width: 0;overflow: hidden;text-align: left;background-color: #f0f8ff;}#sk-25da396e-9ffe-4c46-a75b-f7d89231ecb5 div.sk-toggleable__content pre {margin: 0.2em;color: black;border-radius: 0.25em;background-color: #f0f8ff;}#sk-25da396e-9ffe-4c46-a75b-f7d89231ecb5 input.sk-toggleable__control:checked~div.sk-toggleable__content {max-height: 200px;max-width: 100%;overflow: auto;}#sk-25da396e-9ffe-4c46-a75b-f7d89231ecb5 input.sk-toggleable__control:checked~label.sk-toggleable__label-arrow:before {content: \"▾\";}#sk-25da396e-9ffe-4c46-a75b-f7d89231ecb5 div.sk-estimator input.sk-toggleable__control:checked~label.sk-toggleable__label {background-color: #d4ebff;}#sk-25da396e-9ffe-4c46-a75b-f7d89231ecb5 div.sk-label input.sk-toggleable__control:checked~label.sk-toggleable__label {background-color: #d4ebff;}#sk-25da396e-9ffe-4c46-a75b-f7d89231ecb5 input.sk-hidden--visually {border: 0;clip: rect(1px 1px 1px 1px);clip: rect(1px, 1px, 1px, 1px);height: 1px;margin: -1px;overflow: hidden;padding: 0;position: absolute;width: 1px;}#sk-25da396e-9ffe-4c46-a75b-f7d89231ecb5 div.sk-estimator {font-family: monospace;background-color: #f0f8ff;border: 1px dotted black;border-radius: 0.25em;box-sizing: border-box;margin-bottom: 0.5em;}#sk-25da396e-9ffe-4c46-a75b-f7d89231ecb5 div.sk-estimator:hover {background-color: #d4ebff;}#sk-25da396e-9ffe-4c46-a75b-f7d89231ecb5 div.sk-parallel-item::after {content: \"\";width: 100%;border-bottom: 1px solid gray;flex-grow: 1;}#sk-25da396e-9ffe-4c46-a75b-f7d89231ecb5 div.sk-label:hover label.sk-toggleable__label {background-color: #d4ebff;}#sk-25da396e-9ffe-4c46-a75b-f7d89231ecb5 div.sk-serial::before {content: \"\";position: absolute;border-left: 1px solid gray;box-sizing: border-box;top: 2em;bottom: 0;left: 50%;}#sk-25da396e-9ffe-4c46-a75b-f7d89231ecb5 div.sk-serial {display: flex;flex-direction: column;align-items: center;background-color: white;padding-right: 0.2em;padding-left: 0.2em;}#sk-25da396e-9ffe-4c46-a75b-f7d89231ecb5 div.sk-item {z-index: 1;}#sk-25da396e-9ffe-4c46-a75b-f7d89231ecb5 div.sk-parallel {display: flex;align-items: stretch;justify-content: center;background-color: white;}#sk-25da396e-9ffe-4c46-a75b-f7d89231ecb5 div.sk-parallel::before {content: \"\";position: absolute;border-left: 1px solid gray;box-sizing: border-box;top: 2em;bottom: 0;left: 50%;}#sk-25da396e-9ffe-4c46-a75b-f7d89231ecb5 div.sk-parallel-item {display: flex;flex-direction: column;position: relative;background-color: white;}#sk-25da396e-9ffe-4c46-a75b-f7d89231ecb5 div.sk-parallel-item:first-child::after {align-self: flex-end;width: 50%;}#sk-25da396e-9ffe-4c46-a75b-f7d89231ecb5 div.sk-parallel-item:last-child::after {align-self: flex-start;width: 50%;}#sk-25da396e-9ffe-4c46-a75b-f7d89231ecb5 div.sk-parallel-item:only-child::after {width: 0;}#sk-25da396e-9ffe-4c46-a75b-f7d89231ecb5 div.sk-dashed-wrapped {border: 1px dashed gray;margin: 0 0.4em 0.5em 0.4em;box-sizing: border-box;padding-bottom: 0.4em;background-color: white;position: relative;}#sk-25da396e-9ffe-4c46-a75b-f7d89231ecb5 div.sk-label label {font-family: monospace;font-weight: bold;background-color: white;display: inline-block;line-height: 1.2em;}#sk-25da396e-9ffe-4c46-a75b-f7d89231ecb5 div.sk-label-container {position: relative;z-index: 2;text-align: center;}#sk-25da396e-9ffe-4c46-a75b-f7d89231ecb5 div.sk-container {/* jupyter's `normalize.less` sets `[hidden] { display: none; }` but bootstrap.min.css set `[hidden] { display: none !important; }` so we also need the `!important` here to be able to override the default hidden behavior on the sphinx rendered scikit-learn.org. See: https://github.com/scikit-learn/scikit-learn/issues/21755 */display: inline-block !important;position: relative;}#sk-25da396e-9ffe-4c46-a75b-f7d89231ecb5 div.sk-text-repr-fallback {display: none;}</style><div id=\"sk-25da396e-9ffe-4c46-a75b-f7d89231ecb5\" class=\"sk-top-container\"><div class=\"sk-text-repr-fallback\"><pre>Pipeline(steps=[(&#x27;scaling&#x27;, StandardScaler()), (&#x27;PCA&#x27;, PCA(n_components=3)),\n",
       "                (&#x27;SVC&#x27;, SVC())])</pre><b>Please rerun this cell to show the HTML repr or trust the notebook.</b></div><div class=\"sk-container\" hidden><div class=\"sk-item sk-dashed-wrapped\"><div class=\"sk-label-container\"><div class=\"sk-label sk-toggleable\"><input class=\"sk-toggleable__control sk-hidden--visually\" id=\"45be3ddb-55bb-4979-ba7b-12bbdb06e137\" type=\"checkbox\" ><label for=\"45be3ddb-55bb-4979-ba7b-12bbdb06e137\" class=\"sk-toggleable__label sk-toggleable__label-arrow\">Pipeline</label><div class=\"sk-toggleable__content\"><pre>Pipeline(steps=[(&#x27;scaling&#x27;, StandardScaler()), (&#x27;PCA&#x27;, PCA(n_components=3)),\n",
       "                (&#x27;SVC&#x27;, SVC())])</pre></div></div></div><div class=\"sk-serial\"><div class=\"sk-item\"><div class=\"sk-estimator sk-toggleable\"><input class=\"sk-toggleable__control sk-hidden--visually\" id=\"d75ed04b-416e-4ef7-8885-b44be9f0d577\" type=\"checkbox\" ><label for=\"d75ed04b-416e-4ef7-8885-b44be9f0d577\" class=\"sk-toggleable__label sk-toggleable__label-arrow\">StandardScaler</label><div class=\"sk-toggleable__content\"><pre>StandardScaler()</pre></div></div></div><div class=\"sk-item\"><div class=\"sk-estimator sk-toggleable\"><input class=\"sk-toggleable__control sk-hidden--visually\" id=\"adb9592e-36d9-491d-9cc0-fdbcbe2fa3a3\" type=\"checkbox\" ><label for=\"adb9592e-36d9-491d-9cc0-fdbcbe2fa3a3\" class=\"sk-toggleable__label sk-toggleable__label-arrow\">PCA</label><div class=\"sk-toggleable__content\"><pre>PCA(n_components=3)</pre></div></div></div><div class=\"sk-item\"><div class=\"sk-estimator sk-toggleable\"><input class=\"sk-toggleable__control sk-hidden--visually\" id=\"0470a661-1340-4073-a61c-799c59f8b3d5\" type=\"checkbox\" ><label for=\"0470a661-1340-4073-a61c-799c59f8b3d5\" class=\"sk-toggleable__label sk-toggleable__label-arrow\">SVC</label><div class=\"sk-toggleable__content\"><pre>SVC()</pre></div></div></div></div></div></div></div>"
      ],
      "text/plain": [
       "Pipeline(steps=[('scaling', StandardScaler()), ('PCA', PCA(n_components=3)),\n",
       "                ('SVC', SVC())])"
      ]
     },
     "execution_count": 25,
     "metadata": {},
     "output_type": "execute_result"
    }
   ],
   "source": [
    "pipe2.fit(X_train,y_train)"
   ]
  },
  {
   "cell_type": "markdown",
   "id": "9fb7a590",
   "metadata": {},
   "source": [
    "### 5. Prediction"
   ]
  },
  {
   "cell_type": "code",
   "execution_count": 26,
   "id": "f0721a95",
   "metadata": {},
   "outputs": [
    {
     "data": {
      "text/plain": [
       "array([1, 0, 1, 0, 1, 1, 0, 1, 0, 1, 0, 1, 0, 1, 1, 1, 1, 0, 0, 1, 0, 1,\n",
       "       1, 0, 0, 0, 0, 0, 0, 0, 1, 0, 0])"
      ]
     },
     "execution_count": 26,
     "metadata": {},
     "output_type": "execute_result"
    }
   ],
   "source": [
    "pipe2.predict(X_test)"
   ]
  },
  {
   "cell_type": "markdown",
   "id": "6ed49c92",
   "metadata": {},
   "source": [
    "## Pipeline Implementation Example 3 - Column Transformer"
   ]
  },
  {
   "cell_type": "markdown",
   "id": "c2ab1297",
   "metadata": {},
   "source": [
    "### 1. Impute missing values using pipeline"
   ]
  },
  {
   "cell_type": "code",
   "execution_count": 33,
   "id": "d134b367",
   "metadata": {},
   "outputs": [],
   "source": [
    "from sklearn.impute import SimpleImputer\n",
    "from sklearn.preprocessing import StandardScaler"
   ]
  },
  {
   "cell_type": "code",
   "execution_count": 30,
   "id": "42548357",
   "metadata": {},
   "outputs": [],
   "source": [
    "import numpy as np"
   ]
  },
  {
   "cell_type": "markdown",
   "id": "59e08d6d",
   "metadata": {},
   "source": [
    "### 2. Create a numreical processing pipeline to impute missing values in numerical categories."
   ]
  },
  {
   "cell_type": "code",
   "execution_count": 34,
   "id": "37ea82c6",
   "metadata": {},
   "outputs": [],
   "source": [
    "numeric_processor = Pipeline(steps=[\n",
    "    (\"imputation_mean\", SimpleImputer(missing_values=np.nan, strategy=\"mean\")),\n",
    "    (\"scaler\", StandardScaler())\n",
    "])\n",
    "\n",
    "# here missing values replaced with nan."
   ]
  },
  {
   "cell_type": "code",
   "execution_count": 35,
   "id": "d78696cf",
   "metadata": {},
   "outputs": [
    {
     "data": {
      "text/html": [
       "<style>#sk-24ae1887-9b1f-444c-a44a-0ee8dddf19ed {color: black;background-color: white;}#sk-24ae1887-9b1f-444c-a44a-0ee8dddf19ed pre{padding: 0;}#sk-24ae1887-9b1f-444c-a44a-0ee8dddf19ed div.sk-toggleable {background-color: white;}#sk-24ae1887-9b1f-444c-a44a-0ee8dddf19ed label.sk-toggleable__label {cursor: pointer;display: block;width: 100%;margin-bottom: 0;padding: 0.3em;box-sizing: border-box;text-align: center;}#sk-24ae1887-9b1f-444c-a44a-0ee8dddf19ed label.sk-toggleable__label-arrow:before {content: \"▸\";float: left;margin-right: 0.25em;color: #696969;}#sk-24ae1887-9b1f-444c-a44a-0ee8dddf19ed label.sk-toggleable__label-arrow:hover:before {color: black;}#sk-24ae1887-9b1f-444c-a44a-0ee8dddf19ed div.sk-estimator:hover label.sk-toggleable__label-arrow:before {color: black;}#sk-24ae1887-9b1f-444c-a44a-0ee8dddf19ed div.sk-toggleable__content {max-height: 0;max-width: 0;overflow: hidden;text-align: left;background-color: #f0f8ff;}#sk-24ae1887-9b1f-444c-a44a-0ee8dddf19ed div.sk-toggleable__content pre {margin: 0.2em;color: black;border-radius: 0.25em;background-color: #f0f8ff;}#sk-24ae1887-9b1f-444c-a44a-0ee8dddf19ed input.sk-toggleable__control:checked~div.sk-toggleable__content {max-height: 200px;max-width: 100%;overflow: auto;}#sk-24ae1887-9b1f-444c-a44a-0ee8dddf19ed input.sk-toggleable__control:checked~label.sk-toggleable__label-arrow:before {content: \"▾\";}#sk-24ae1887-9b1f-444c-a44a-0ee8dddf19ed div.sk-estimator input.sk-toggleable__control:checked~label.sk-toggleable__label {background-color: #d4ebff;}#sk-24ae1887-9b1f-444c-a44a-0ee8dddf19ed div.sk-label input.sk-toggleable__control:checked~label.sk-toggleable__label {background-color: #d4ebff;}#sk-24ae1887-9b1f-444c-a44a-0ee8dddf19ed input.sk-hidden--visually {border: 0;clip: rect(1px 1px 1px 1px);clip: rect(1px, 1px, 1px, 1px);height: 1px;margin: -1px;overflow: hidden;padding: 0;position: absolute;width: 1px;}#sk-24ae1887-9b1f-444c-a44a-0ee8dddf19ed div.sk-estimator {font-family: monospace;background-color: #f0f8ff;border: 1px dotted black;border-radius: 0.25em;box-sizing: border-box;margin-bottom: 0.5em;}#sk-24ae1887-9b1f-444c-a44a-0ee8dddf19ed div.sk-estimator:hover {background-color: #d4ebff;}#sk-24ae1887-9b1f-444c-a44a-0ee8dddf19ed div.sk-parallel-item::after {content: \"\";width: 100%;border-bottom: 1px solid gray;flex-grow: 1;}#sk-24ae1887-9b1f-444c-a44a-0ee8dddf19ed div.sk-label:hover label.sk-toggleable__label {background-color: #d4ebff;}#sk-24ae1887-9b1f-444c-a44a-0ee8dddf19ed div.sk-serial::before {content: \"\";position: absolute;border-left: 1px solid gray;box-sizing: border-box;top: 2em;bottom: 0;left: 50%;}#sk-24ae1887-9b1f-444c-a44a-0ee8dddf19ed div.sk-serial {display: flex;flex-direction: column;align-items: center;background-color: white;padding-right: 0.2em;padding-left: 0.2em;}#sk-24ae1887-9b1f-444c-a44a-0ee8dddf19ed div.sk-item {z-index: 1;}#sk-24ae1887-9b1f-444c-a44a-0ee8dddf19ed div.sk-parallel {display: flex;align-items: stretch;justify-content: center;background-color: white;}#sk-24ae1887-9b1f-444c-a44a-0ee8dddf19ed div.sk-parallel::before {content: \"\";position: absolute;border-left: 1px solid gray;box-sizing: border-box;top: 2em;bottom: 0;left: 50%;}#sk-24ae1887-9b1f-444c-a44a-0ee8dddf19ed div.sk-parallel-item {display: flex;flex-direction: column;position: relative;background-color: white;}#sk-24ae1887-9b1f-444c-a44a-0ee8dddf19ed div.sk-parallel-item:first-child::after {align-self: flex-end;width: 50%;}#sk-24ae1887-9b1f-444c-a44a-0ee8dddf19ed div.sk-parallel-item:last-child::after {align-self: flex-start;width: 50%;}#sk-24ae1887-9b1f-444c-a44a-0ee8dddf19ed div.sk-parallel-item:only-child::after {width: 0;}#sk-24ae1887-9b1f-444c-a44a-0ee8dddf19ed div.sk-dashed-wrapped {border: 1px dashed gray;margin: 0 0.4em 0.5em 0.4em;box-sizing: border-box;padding-bottom: 0.4em;background-color: white;position: relative;}#sk-24ae1887-9b1f-444c-a44a-0ee8dddf19ed div.sk-label label {font-family: monospace;font-weight: bold;background-color: white;display: inline-block;line-height: 1.2em;}#sk-24ae1887-9b1f-444c-a44a-0ee8dddf19ed div.sk-label-container {position: relative;z-index: 2;text-align: center;}#sk-24ae1887-9b1f-444c-a44a-0ee8dddf19ed div.sk-container {/* jupyter's `normalize.less` sets `[hidden] { display: none; }` but bootstrap.min.css set `[hidden] { display: none !important; }` so we also need the `!important` here to be able to override the default hidden behavior on the sphinx rendered scikit-learn.org. See: https://github.com/scikit-learn/scikit-learn/issues/21755 */display: inline-block !important;position: relative;}#sk-24ae1887-9b1f-444c-a44a-0ee8dddf19ed div.sk-text-repr-fallback {display: none;}</style><div id=\"sk-24ae1887-9b1f-444c-a44a-0ee8dddf19ed\" class=\"sk-top-container\"><div class=\"sk-text-repr-fallback\"><pre>Pipeline(steps=[(&#x27;imputation_mean&#x27;, SimpleImputer()),\n",
       "                (&#x27;scaler&#x27;, StandardScaler())])</pre><b>Please rerun this cell to show the HTML repr or trust the notebook.</b></div><div class=\"sk-container\" hidden><div class=\"sk-item sk-dashed-wrapped\"><div class=\"sk-label-container\"><div class=\"sk-label sk-toggleable\"><input class=\"sk-toggleable__control sk-hidden--visually\" id=\"e61ac1a0-e9f7-4562-8e65-8afd029fb4d7\" type=\"checkbox\" ><label for=\"e61ac1a0-e9f7-4562-8e65-8afd029fb4d7\" class=\"sk-toggleable__label sk-toggleable__label-arrow\">Pipeline</label><div class=\"sk-toggleable__content\"><pre>Pipeline(steps=[(&#x27;imputation_mean&#x27;, SimpleImputer()),\n",
       "                (&#x27;scaler&#x27;, StandardScaler())])</pre></div></div></div><div class=\"sk-serial\"><div class=\"sk-item\"><div class=\"sk-estimator sk-toggleable\"><input class=\"sk-toggleable__control sk-hidden--visually\" id=\"d2aaba38-67ca-43a8-870f-699a4e27bcde\" type=\"checkbox\" ><label for=\"d2aaba38-67ca-43a8-870f-699a4e27bcde\" class=\"sk-toggleable__label sk-toggleable__label-arrow\">SimpleImputer</label><div class=\"sk-toggleable__content\"><pre>SimpleImputer()</pre></div></div></div><div class=\"sk-item\"><div class=\"sk-estimator sk-toggleable\"><input class=\"sk-toggleable__control sk-hidden--visually\" id=\"ed6b1e89-eca8-4165-aaf3-23d677540179\" type=\"checkbox\" ><label for=\"ed6b1e89-eca8-4165-aaf3-23d677540179\" class=\"sk-toggleable__label sk-toggleable__label-arrow\">StandardScaler</label><div class=\"sk-toggleable__content\"><pre>StandardScaler()</pre></div></div></div></div></div></div></div>"
      ],
      "text/plain": [
       "Pipeline(steps=[('imputation_mean', SimpleImputer()),\n",
       "                ('scaler', StandardScaler())])"
      ]
     },
     "execution_count": 35,
     "metadata": {},
     "output_type": "execute_result"
    }
   ],
   "source": [
    "numeric_processor"
   ]
  },
  {
   "cell_type": "markdown",
   "id": "9f1a2183",
   "metadata": {},
   "source": [
    "**Inference**\n",
    "\n",
    "Here first step is Simple Imputer followed by Standard scaling."
   ]
  },
  {
   "cell_type": "markdown",
   "id": "7afcc96d",
   "metadata": {},
   "source": [
    "## 3. Categorical prcessing pipeline to impute missing data in categorical columns\n",
    "\n",
    "**Steps**\n",
    "\n",
    "    1. Simple Imputation\n",
    "    2. One Hot Encoding"
   ]
  },
  {
   "cell_type": "code",
   "execution_count": 45,
   "id": "577d5848",
   "metadata": {},
   "outputs": [],
   "source": [
    "from sklearn.preprocessing import OneHotEncoder\n",
    "\n",
    "categorical_processing = Pipeline(steps=[\n",
    "    (\"imputation_constant\", SimpleImputer(fill_value=\"missing\", strategy=\"constant\")),\n",
    "    (\"onehot_encoding\", OneHotEncoder(handle_unknown=\"ignore\"))\n",
    "])"
   ]
  },
  {
   "cell_type": "code",
   "execution_count": 41,
   "id": "e95e72e2",
   "metadata": {},
   "outputs": [
    {
     "data": {
      "text/html": [
       "<style>#sk-9208cdeb-5b0d-47d2-b618-087b0ac960dc {color: black;background-color: white;}#sk-9208cdeb-5b0d-47d2-b618-087b0ac960dc pre{padding: 0;}#sk-9208cdeb-5b0d-47d2-b618-087b0ac960dc div.sk-toggleable {background-color: white;}#sk-9208cdeb-5b0d-47d2-b618-087b0ac960dc label.sk-toggleable__label {cursor: pointer;display: block;width: 100%;margin-bottom: 0;padding: 0.3em;box-sizing: border-box;text-align: center;}#sk-9208cdeb-5b0d-47d2-b618-087b0ac960dc label.sk-toggleable__label-arrow:before {content: \"▸\";float: left;margin-right: 0.25em;color: #696969;}#sk-9208cdeb-5b0d-47d2-b618-087b0ac960dc label.sk-toggleable__label-arrow:hover:before {color: black;}#sk-9208cdeb-5b0d-47d2-b618-087b0ac960dc div.sk-estimator:hover label.sk-toggleable__label-arrow:before {color: black;}#sk-9208cdeb-5b0d-47d2-b618-087b0ac960dc div.sk-toggleable__content {max-height: 0;max-width: 0;overflow: hidden;text-align: left;background-color: #f0f8ff;}#sk-9208cdeb-5b0d-47d2-b618-087b0ac960dc div.sk-toggleable__content pre {margin: 0.2em;color: black;border-radius: 0.25em;background-color: #f0f8ff;}#sk-9208cdeb-5b0d-47d2-b618-087b0ac960dc input.sk-toggleable__control:checked~div.sk-toggleable__content {max-height: 200px;max-width: 100%;overflow: auto;}#sk-9208cdeb-5b0d-47d2-b618-087b0ac960dc input.sk-toggleable__control:checked~label.sk-toggleable__label-arrow:before {content: \"▾\";}#sk-9208cdeb-5b0d-47d2-b618-087b0ac960dc div.sk-estimator input.sk-toggleable__control:checked~label.sk-toggleable__label {background-color: #d4ebff;}#sk-9208cdeb-5b0d-47d2-b618-087b0ac960dc div.sk-label input.sk-toggleable__control:checked~label.sk-toggleable__label {background-color: #d4ebff;}#sk-9208cdeb-5b0d-47d2-b618-087b0ac960dc input.sk-hidden--visually {border: 0;clip: rect(1px 1px 1px 1px);clip: rect(1px, 1px, 1px, 1px);height: 1px;margin: -1px;overflow: hidden;padding: 0;position: absolute;width: 1px;}#sk-9208cdeb-5b0d-47d2-b618-087b0ac960dc div.sk-estimator {font-family: monospace;background-color: #f0f8ff;border: 1px dotted black;border-radius: 0.25em;box-sizing: border-box;margin-bottom: 0.5em;}#sk-9208cdeb-5b0d-47d2-b618-087b0ac960dc div.sk-estimator:hover {background-color: #d4ebff;}#sk-9208cdeb-5b0d-47d2-b618-087b0ac960dc div.sk-parallel-item::after {content: \"\";width: 100%;border-bottom: 1px solid gray;flex-grow: 1;}#sk-9208cdeb-5b0d-47d2-b618-087b0ac960dc div.sk-label:hover label.sk-toggleable__label {background-color: #d4ebff;}#sk-9208cdeb-5b0d-47d2-b618-087b0ac960dc div.sk-serial::before {content: \"\";position: absolute;border-left: 1px solid gray;box-sizing: border-box;top: 2em;bottom: 0;left: 50%;}#sk-9208cdeb-5b0d-47d2-b618-087b0ac960dc div.sk-serial {display: flex;flex-direction: column;align-items: center;background-color: white;padding-right: 0.2em;padding-left: 0.2em;}#sk-9208cdeb-5b0d-47d2-b618-087b0ac960dc div.sk-item {z-index: 1;}#sk-9208cdeb-5b0d-47d2-b618-087b0ac960dc div.sk-parallel {display: flex;align-items: stretch;justify-content: center;background-color: white;}#sk-9208cdeb-5b0d-47d2-b618-087b0ac960dc div.sk-parallel::before {content: \"\";position: absolute;border-left: 1px solid gray;box-sizing: border-box;top: 2em;bottom: 0;left: 50%;}#sk-9208cdeb-5b0d-47d2-b618-087b0ac960dc div.sk-parallel-item {display: flex;flex-direction: column;position: relative;background-color: white;}#sk-9208cdeb-5b0d-47d2-b618-087b0ac960dc div.sk-parallel-item:first-child::after {align-self: flex-end;width: 50%;}#sk-9208cdeb-5b0d-47d2-b618-087b0ac960dc div.sk-parallel-item:last-child::after {align-self: flex-start;width: 50%;}#sk-9208cdeb-5b0d-47d2-b618-087b0ac960dc div.sk-parallel-item:only-child::after {width: 0;}#sk-9208cdeb-5b0d-47d2-b618-087b0ac960dc div.sk-dashed-wrapped {border: 1px dashed gray;margin: 0 0.4em 0.5em 0.4em;box-sizing: border-box;padding-bottom: 0.4em;background-color: white;position: relative;}#sk-9208cdeb-5b0d-47d2-b618-087b0ac960dc div.sk-label label {font-family: monospace;font-weight: bold;background-color: white;display: inline-block;line-height: 1.2em;}#sk-9208cdeb-5b0d-47d2-b618-087b0ac960dc div.sk-label-container {position: relative;z-index: 2;text-align: center;}#sk-9208cdeb-5b0d-47d2-b618-087b0ac960dc div.sk-container {/* jupyter's `normalize.less` sets `[hidden] { display: none; }` but bootstrap.min.css set `[hidden] { display: none !important; }` so we also need the `!important` here to be able to override the default hidden behavior on the sphinx rendered scikit-learn.org. See: https://github.com/scikit-learn/scikit-learn/issues/21755 */display: inline-block !important;position: relative;}#sk-9208cdeb-5b0d-47d2-b618-087b0ac960dc div.sk-text-repr-fallback {display: none;}</style><div id=\"sk-9208cdeb-5b0d-47d2-b618-087b0ac960dc\" class=\"sk-top-container\"><div class=\"sk-text-repr-fallback\"><pre>Pipeline(steps=[(&#x27;imputation_constant&#x27;,\n",
       "                 SimpleImputer(fill_value=&#x27;missing&#x27;, strategy=&#x27;constant&#x27;)),\n",
       "                (&#x27;scaler&#x27;, StandardScaler())])</pre><b>Please rerun this cell to show the HTML repr or trust the notebook.</b></div><div class=\"sk-container\" hidden><div class=\"sk-item sk-dashed-wrapped\"><div class=\"sk-label-container\"><div class=\"sk-label sk-toggleable\"><input class=\"sk-toggleable__control sk-hidden--visually\" id=\"668d00a0-c5ae-4024-b410-9728014999dd\" type=\"checkbox\" ><label for=\"668d00a0-c5ae-4024-b410-9728014999dd\" class=\"sk-toggleable__label sk-toggleable__label-arrow\">Pipeline</label><div class=\"sk-toggleable__content\"><pre>Pipeline(steps=[(&#x27;imputation_constant&#x27;,\n",
       "                 SimpleImputer(fill_value=&#x27;missing&#x27;, strategy=&#x27;constant&#x27;)),\n",
       "                (&#x27;scaler&#x27;, StandardScaler())])</pre></div></div></div><div class=\"sk-serial\"><div class=\"sk-item\"><div class=\"sk-estimator sk-toggleable\"><input class=\"sk-toggleable__control sk-hidden--visually\" id=\"08392c13-a060-44a5-a785-1b48cd233da9\" type=\"checkbox\" ><label for=\"08392c13-a060-44a5-a785-1b48cd233da9\" class=\"sk-toggleable__label sk-toggleable__label-arrow\">SimpleImputer</label><div class=\"sk-toggleable__content\"><pre>SimpleImputer(fill_value=&#x27;missing&#x27;, strategy=&#x27;constant&#x27;)</pre></div></div></div><div class=\"sk-item\"><div class=\"sk-estimator sk-toggleable\"><input class=\"sk-toggleable__control sk-hidden--visually\" id=\"aec5332c-f7dc-4bd4-bc11-e4ede00a2152\" type=\"checkbox\" ><label for=\"aec5332c-f7dc-4bd4-bc11-e4ede00a2152\" class=\"sk-toggleable__label sk-toggleable__label-arrow\">StandardScaler</label><div class=\"sk-toggleable__content\"><pre>StandardScaler()</pre></div></div></div></div></div></div></div>"
      ],
      "text/plain": [
       "Pipeline(steps=[('imputation_constant',\n",
       "                 SimpleImputer(fill_value='missing', strategy='constant')),\n",
       "                ('scaler', StandardScaler())])"
      ]
     },
     "execution_count": 41,
     "metadata": {},
     "output_type": "execute_result"
    }
   ],
   "source": [
    "categorical_processing"
   ]
  },
  {
   "cell_type": "markdown",
   "id": "a1b22247",
   "metadata": {},
   "source": [
    "#### Inference\n",
    "\n",
    "**Steps**\n",
    "\n",
    "    1. Fill missing columns with value \"missing\".\n",
    "    2. One Hot encoding to ignore unknown things."
   ]
  },
  {
   "cell_type": "code",
   "execution_count": 46,
   "id": "1949360f",
   "metadata": {},
   "outputs": [],
   "source": [
    "# time: 21:15"
   ]
  },
  {
   "cell_type": "code",
   "execution_count": null,
   "id": "0cf18b9c",
   "metadata": {},
   "outputs": [],
   "source": []
  }
 ],
 "metadata": {
  "kernelspec": {
   "display_name": "Python 3 (ipykernel)",
   "language": "python",
   "name": "python3"
  },
  "language_info": {
   "codemirror_mode": {
    "name": "ipython",
    "version": 3
   },
   "file_extension": ".py",
   "mimetype": "text/x-python",
   "name": "python",
   "nbconvert_exporter": "python",
   "pygments_lexer": "ipython3",
   "version": "3.9.12"
  }
 },
 "nbformat": 4,
 "nbformat_minor": 5
}
