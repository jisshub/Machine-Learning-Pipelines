{
 "cells": [
  {
   "cell_type": "markdown",
   "id": "ba1dbdf4",
   "metadata": {},
   "source": [
    "# Pipelines in Machine Learning"
   ]
  },
  {
   "cell_type": "markdown",
   "id": "b7b9313f",
   "metadata": {},
   "source": [
    "Video Link: \n",
    "    https://www.youtube.com/watch?v=HZ9MUzCRlzI&list=PLT6wrBlkasCNqKnKcs1hOoCEhtcUZiAqo&index=102&t=215s"
   ]
  },
  {
   "cell_type": "code",
   "execution_count": 2,
   "id": "877df91c",
   "metadata": {},
   "outputs": [],
   "source": [
    "from sklearn.pipeline import Pipeline"
   ]
  },
  {
   "cell_type": "markdown",
   "id": "1c5e554a",
   "metadata": {},
   "source": [
    "## Pipeline Implementation Basic Example"
   ]
  },
  {
   "cell_type": "markdown",
   "id": "cdbd810b",
   "metadata": {},
   "source": [
    "### 1. Import standard scaling and regression technique"
   ]
  },
  {
   "cell_type": "code",
   "execution_count": 4,
   "id": "1607d9bd",
   "metadata": {},
   "outputs": [],
   "source": [
    "from sklearn.preprocessing import StandardScaler\n",
    "from sklearn.linear_model import LogisticRegression"
   ]
  },
  {
   "cell_type": "markdown",
   "id": "a34f751d",
   "metadata": {},
   "source": [
    "### 2. Combine standard scalar with logistic regression\n",
    "\n",
    "standard scalar is a transformation technique and logistic regression is an estimator. Estimator basically means the kind of a model we want to apply. In order to apply the model we create a number of steps. steps are in the form of tuples."
   ]
  },
  {
   "cell_type": "code",
   "execution_count": 5,
   "id": "0099af3c",
   "metadata": {},
   "outputs": [],
   "source": [
    "steps=[(\"standard_scaler\", StandardScaler()),\n",
    "       (\"classifier\", LogisticRegression())\n",
    "    ]"
   ]
  },
  {
   "cell_type": "code",
   "execution_count": 6,
   "id": "eb568936",
   "metadata": {},
   "outputs": [
    {
     "data": {
      "text/plain": [
       "[('standard_scaler', StandardScaler()), ('classifier', LogisticRegression())]"
      ]
     },
     "execution_count": 6,
     "metadata": {},
     "output_type": "execute_result"
    }
   ],
   "source": [
    "steps"
   ]
  },
  {
   "cell_type": "markdown",
   "id": "6d0b006a",
   "metadata": {},
   "source": [
    "**Inference:**\n",
    "    \n",
    "    1. First step is a Standard scaler.\n",
    "    2. Seconda step is a classifier."
   ]
  },
  {
   "cell_type": "markdown",
   "id": "6b964bdb",
   "metadata": {},
   "source": [
    "### 3. Convert the steps into a pipeline."
   ]
  },
  {
   "cell_type": "code",
   "execution_count": 8,
   "id": "7871f231",
   "metadata": {},
   "outputs": [],
   "source": [
    "pipe=Pipeline(steps)"
   ]
  },
  {
   "cell_type": "code",
   "execution_count": 9,
   "id": "6ab25b6c",
   "metadata": {},
   "outputs": [
    {
     "data": {
      "text/plain": [
       "Pipeline(steps=[('standard_scaler', StandardScaler()),\n",
       "                ('classifier', LogisticRegression())])"
      ]
     },
     "execution_count": 9,
     "metadata": {},
     "output_type": "execute_result"
    }
   ],
   "source": [
    "pipe"
   ]
  },
  {
   "cell_type": "markdown",
   "id": "8d60c395",
   "metadata": {},
   "source": [
    "### 4. Visualize the pipeline"
   ]
  },
  {
   "cell_type": "code",
   "execution_count": 10,
   "id": "f42a1424",
   "metadata": {},
   "outputs": [],
   "source": [
    "from sklearn import set_config"
   ]
  },
  {
   "cell_type": "code",
   "execution_count": 11,
   "id": "9a651420",
   "metadata": {},
   "outputs": [],
   "source": [
    "set_config(display='diagram')"
   ]
  },
  {
   "cell_type": "code",
   "execution_count": 12,
   "id": "4d6cfe11",
   "metadata": {},
   "outputs": [
    {
     "data": {
      "text/html": [
       "<style>#sk-633f7619-f1fe-456c-93f9-91459a069917 {color: black;background-color: white;}#sk-633f7619-f1fe-456c-93f9-91459a069917 pre{padding: 0;}#sk-633f7619-f1fe-456c-93f9-91459a069917 div.sk-toggleable {background-color: white;}#sk-633f7619-f1fe-456c-93f9-91459a069917 label.sk-toggleable__label {cursor: pointer;display: block;width: 100%;margin-bottom: 0;padding: 0.3em;box-sizing: border-box;text-align: center;}#sk-633f7619-f1fe-456c-93f9-91459a069917 label.sk-toggleable__label-arrow:before {content: \"▸\";float: left;margin-right: 0.25em;color: #696969;}#sk-633f7619-f1fe-456c-93f9-91459a069917 label.sk-toggleable__label-arrow:hover:before {color: black;}#sk-633f7619-f1fe-456c-93f9-91459a069917 div.sk-estimator:hover label.sk-toggleable__label-arrow:before {color: black;}#sk-633f7619-f1fe-456c-93f9-91459a069917 div.sk-toggleable__content {max-height: 0;max-width: 0;overflow: hidden;text-align: left;background-color: #f0f8ff;}#sk-633f7619-f1fe-456c-93f9-91459a069917 div.sk-toggleable__content pre {margin: 0.2em;color: black;border-radius: 0.25em;background-color: #f0f8ff;}#sk-633f7619-f1fe-456c-93f9-91459a069917 input.sk-toggleable__control:checked~div.sk-toggleable__content {max-height: 200px;max-width: 100%;overflow: auto;}#sk-633f7619-f1fe-456c-93f9-91459a069917 input.sk-toggleable__control:checked~label.sk-toggleable__label-arrow:before {content: \"▾\";}#sk-633f7619-f1fe-456c-93f9-91459a069917 div.sk-estimator input.sk-toggleable__control:checked~label.sk-toggleable__label {background-color: #d4ebff;}#sk-633f7619-f1fe-456c-93f9-91459a069917 div.sk-label input.sk-toggleable__control:checked~label.sk-toggleable__label {background-color: #d4ebff;}#sk-633f7619-f1fe-456c-93f9-91459a069917 input.sk-hidden--visually {border: 0;clip: rect(1px 1px 1px 1px);clip: rect(1px, 1px, 1px, 1px);height: 1px;margin: -1px;overflow: hidden;padding: 0;position: absolute;width: 1px;}#sk-633f7619-f1fe-456c-93f9-91459a069917 div.sk-estimator {font-family: monospace;background-color: #f0f8ff;border: 1px dotted black;border-radius: 0.25em;box-sizing: border-box;margin-bottom: 0.5em;}#sk-633f7619-f1fe-456c-93f9-91459a069917 div.sk-estimator:hover {background-color: #d4ebff;}#sk-633f7619-f1fe-456c-93f9-91459a069917 div.sk-parallel-item::after {content: \"\";width: 100%;border-bottom: 1px solid gray;flex-grow: 1;}#sk-633f7619-f1fe-456c-93f9-91459a069917 div.sk-label:hover label.sk-toggleable__label {background-color: #d4ebff;}#sk-633f7619-f1fe-456c-93f9-91459a069917 div.sk-serial::before {content: \"\";position: absolute;border-left: 1px solid gray;box-sizing: border-box;top: 2em;bottom: 0;left: 50%;}#sk-633f7619-f1fe-456c-93f9-91459a069917 div.sk-serial {display: flex;flex-direction: column;align-items: center;background-color: white;padding-right: 0.2em;padding-left: 0.2em;}#sk-633f7619-f1fe-456c-93f9-91459a069917 div.sk-item {z-index: 1;}#sk-633f7619-f1fe-456c-93f9-91459a069917 div.sk-parallel {display: flex;align-items: stretch;justify-content: center;background-color: white;}#sk-633f7619-f1fe-456c-93f9-91459a069917 div.sk-parallel::before {content: \"\";position: absolute;border-left: 1px solid gray;box-sizing: border-box;top: 2em;bottom: 0;left: 50%;}#sk-633f7619-f1fe-456c-93f9-91459a069917 div.sk-parallel-item {display: flex;flex-direction: column;position: relative;background-color: white;}#sk-633f7619-f1fe-456c-93f9-91459a069917 div.sk-parallel-item:first-child::after {align-self: flex-end;width: 50%;}#sk-633f7619-f1fe-456c-93f9-91459a069917 div.sk-parallel-item:last-child::after {align-self: flex-start;width: 50%;}#sk-633f7619-f1fe-456c-93f9-91459a069917 div.sk-parallel-item:only-child::after {width: 0;}#sk-633f7619-f1fe-456c-93f9-91459a069917 div.sk-dashed-wrapped {border: 1px dashed gray;margin: 0 0.4em 0.5em 0.4em;box-sizing: border-box;padding-bottom: 0.4em;background-color: white;position: relative;}#sk-633f7619-f1fe-456c-93f9-91459a069917 div.sk-label label {font-family: monospace;font-weight: bold;background-color: white;display: inline-block;line-height: 1.2em;}#sk-633f7619-f1fe-456c-93f9-91459a069917 div.sk-label-container {position: relative;z-index: 2;text-align: center;}#sk-633f7619-f1fe-456c-93f9-91459a069917 div.sk-container {/* jupyter's `normalize.less` sets `[hidden] { display: none; }` but bootstrap.min.css set `[hidden] { display: none !important; }` so we also need the `!important` here to be able to override the default hidden behavior on the sphinx rendered scikit-learn.org. See: https://github.com/scikit-learn/scikit-learn/issues/21755 */display: inline-block !important;position: relative;}#sk-633f7619-f1fe-456c-93f9-91459a069917 div.sk-text-repr-fallback {display: none;}</style><div id=\"sk-633f7619-f1fe-456c-93f9-91459a069917\" class=\"sk-top-container\"><div class=\"sk-text-repr-fallback\"><pre>Pipeline(steps=[(&#x27;standard_scaler&#x27;, StandardScaler()),\n",
       "                (&#x27;classifier&#x27;, LogisticRegression())])</pre><b>Please rerun this cell to show the HTML repr or trust the notebook.</b></div><div class=\"sk-container\" hidden><div class=\"sk-item sk-dashed-wrapped\"><div class=\"sk-label-container\"><div class=\"sk-label sk-toggleable\"><input class=\"sk-toggleable__control sk-hidden--visually\" id=\"8c79e8e1-67f8-4a38-983a-36efcba12870\" type=\"checkbox\" ><label for=\"8c79e8e1-67f8-4a38-983a-36efcba12870\" class=\"sk-toggleable__label sk-toggleable__label-arrow\">Pipeline</label><div class=\"sk-toggleable__content\"><pre>Pipeline(steps=[(&#x27;standard_scaler&#x27;, StandardScaler()),\n",
       "                (&#x27;classifier&#x27;, LogisticRegression())])</pre></div></div></div><div class=\"sk-serial\"><div class=\"sk-item\"><div class=\"sk-estimator sk-toggleable\"><input class=\"sk-toggleable__control sk-hidden--visually\" id=\"88eb947c-1017-4286-9677-2791bed51a6a\" type=\"checkbox\" ><label for=\"88eb947c-1017-4286-9677-2791bed51a6a\" class=\"sk-toggleable__label sk-toggleable__label-arrow\">StandardScaler</label><div class=\"sk-toggleable__content\"><pre>StandardScaler()</pre></div></div></div><div class=\"sk-item\"><div class=\"sk-estimator sk-toggleable\"><input class=\"sk-toggleable__control sk-hidden--visually\" id=\"125a51f3-2f4c-46c2-85e0-b011bc4ea739\" type=\"checkbox\" ><label for=\"125a51f3-2f4c-46c2-85e0-b011bc4ea739\" class=\"sk-toggleable__label sk-toggleable__label-arrow\">LogisticRegression</label><div class=\"sk-toggleable__content\"><pre>LogisticRegression()</pre></div></div></div></div></div></div></div>"
      ],
      "text/plain": [
       "Pipeline(steps=[('standard_scaler', StandardScaler()),\n",
       "                ('classifier', LogisticRegression())])"
      ]
     },
     "execution_count": 12,
     "metadata": {},
     "output_type": "execute_result"
    }
   ],
   "source": [
    "pipe"
   ]
  },
  {
   "cell_type": "markdown",
   "id": "6378e737",
   "metadata": {},
   "source": [
    "**Inference:**\n",
    "\n",
    "Steps involved in pipeline is visualised here."
   ]
  },
  {
   "cell_type": "markdown",
   "id": "d7d0357e",
   "metadata": {},
   "source": [
    "### 5. Creating a Sample dataset\n",
    "\n",
    "Create a classification dataset"
   ]
  },
  {
   "cell_type": "code",
   "execution_count": 13,
   "id": "dd5f5d68",
   "metadata": {},
   "outputs": [],
   "source": [
    "from sklearn.datasets import make_classification"
   ]
  },
  {
   "cell_type": "code",
   "execution_count": 14,
   "id": "92f5729c",
   "metadata": {},
   "outputs": [],
   "source": [
    "X,y=make_classification() # create a random classification dataset."
   ]
  },
  {
   "cell_type": "code",
   "execution_count": 15,
   "id": "00e543cc",
   "metadata": {},
   "outputs": [
    {
     "data": {
      "text/plain": [
       "array([[-0.8893426 , -0.48468934, -0.70284202, ..., -2.32482432,\n",
       "         2.80715278, -0.46992368],\n",
       "       [-1.6974948 , -0.31449376,  1.43447252, ...,  0.73839567,\n",
       "         0.20834267, -2.05826059],\n",
       "       [-1.40240351, -0.30746283,  0.22037491, ...,  0.38789815,\n",
       "        -0.55328078,  1.29948373],\n",
       "       ...,\n",
       "       [ 0.00672725, -0.40953861,  1.36179955, ...,  0.33324286,\n",
       "        -0.13486778,  2.00019353],\n",
       "       [ 0.36112235, -0.36786791,  0.42053888, ...,  1.39141826,\n",
       "        -0.7998025 ,  0.91773249],\n",
       "       [ 1.23801716,  1.75867201, -1.1755313 , ...,  1.03609155,\n",
       "        -0.05100509,  1.07133446]])"
      ]
     },
     "execution_count": 15,
     "metadata": {},
     "output_type": "execute_result"
    }
   ],
   "source": [
    "X"
   ]
  },
  {
   "cell_type": "code",
   "execution_count": 16,
   "id": "a288eb7d",
   "metadata": {},
   "outputs": [
    {
     "data": {
      "text/plain": [
       "array([0, 0, 0, 1, 0, 1, 1, 1, 1, 1, 1, 0, 1, 1, 1, 0, 1, 0, 1, 1, 1, 1,\n",
       "       1, 0, 1, 0, 0, 0, 1, 1, 1, 0, 0, 1, 1, 1, 0, 0, 1, 0, 0, 1, 1, 0,\n",
       "       0, 1, 0, 0, 0, 1, 0, 0, 1, 0, 0, 0, 1, 0, 0, 0, 0, 0, 0, 1, 0, 1,\n",
       "       0, 1, 1, 0, 1, 0, 0, 1, 1, 0, 0, 0, 1, 1, 0, 0, 1, 0, 1, 0, 1, 1,\n",
       "       0, 0, 0, 1, 1, 1, 1, 1, 0, 1, 1, 1])"
      ]
     },
     "execution_count": 16,
     "metadata": {},
     "output_type": "execute_result"
    }
   ],
   "source": [
    "y"
   ]
  },
  {
   "cell_type": "markdown",
   "id": "d3fbfe33",
   "metadata": {},
   "source": [
    "### 6. Train Test Split the Dataset"
   ]
  },
  {
   "cell_type": "code",
   "execution_count": 17,
   "id": "98ba8bdc",
   "metadata": {},
   "outputs": [],
   "source": [
    "from sklearn.model_selection import train_test_split"
   ]
  },
  {
   "cell_type": "code",
   "execution_count": 18,
   "id": "443ff1bc",
   "metadata": {},
   "outputs": [],
   "source": [
    "X_train,X_test,y_train,y_test=train_test_split(X,y,test_size=0.33,random_state=42)"
   ]
  },
  {
   "cell_type": "code",
   "execution_count": 19,
   "id": "83819f1a",
   "metadata": {},
   "outputs": [
    {
     "data": {
      "text/plain": [
       "array([[ 0.31584134, -1.26598152,  0.74370039, ...,  0.676992  ,\n",
       "         0.07601347,  1.74167262],\n",
       "       [ 1.02462789,  1.1845937 ,  0.37518611, ...,  0.55508769,\n",
       "         0.30563926, -0.3852162 ],\n",
       "       [-0.05955848,  0.91760858, -0.11861463, ...,  0.12433064,\n",
       "         0.09922655,  1.12533622],\n",
       "       ...,\n",
       "       [-1.25726864, -0.24975358, -0.71358001, ...,  0.47218291,\n",
       "        -0.72596439,  1.7079668 ],\n",
       "       [-1.31921601, -1.09533032,  0.14033446, ...,  0.12105736,\n",
       "         1.05055007,  0.53419023],\n",
       "       [-0.39372686, -0.73266008,  0.42498512, ..., -1.60258066,\n",
       "        -0.0496499 , -1.58634599]])"
      ]
     },
     "execution_count": 19,
     "metadata": {},
     "output_type": "execute_result"
    }
   ],
   "source": [
    "X_train"
   ]
  },
  {
   "cell_type": "code",
   "execution_count": 20,
   "id": "56cbdf46",
   "metadata": {},
   "outputs": [
    {
     "data": {
      "text/plain": [
       "array([1, 1, 1, 0, 1, 1, 1, 1, 1, 1, 1, 0, 1, 0, 0, 0, 1, 1, 1, 0, 1, 1,\n",
       "       1, 1, 0, 0, 0, 1, 1, 0, 0, 0, 1, 0, 1, 0, 1, 1, 1, 0, 0, 1, 0, 0,\n",
       "       0, 1, 0, 1, 1, 0, 1, 0, 1, 1, 0, 0, 1, 1, 1, 1, 1, 1, 0, 0, 1, 1,\n",
       "       0])"
      ]
     },
     "execution_count": 20,
     "metadata": {},
     "output_type": "execute_result"
    }
   ],
   "source": [
    "y_train"
   ]
  },
  {
   "cell_type": "markdown",
   "id": "ca999d1c",
   "metadata": {},
   "source": [
    "### 7. Fit the pipeline on X_train and y_train data\n",
    "\n",
    "Once we call fit on X_train and y_train, it passes through the pipeline and get trained for Logistic regression."
   ]
  },
  {
   "cell_type": "code",
   "execution_count": 21,
   "id": "d80fb3cc",
   "metadata": {},
   "outputs": [
    {
     "data": {
      "text/html": [
       "<style>#sk-48e00605-3bc3-454c-b9b4-fd0ffd808525 {color: black;background-color: white;}#sk-48e00605-3bc3-454c-b9b4-fd0ffd808525 pre{padding: 0;}#sk-48e00605-3bc3-454c-b9b4-fd0ffd808525 div.sk-toggleable {background-color: white;}#sk-48e00605-3bc3-454c-b9b4-fd0ffd808525 label.sk-toggleable__label {cursor: pointer;display: block;width: 100%;margin-bottom: 0;padding: 0.3em;box-sizing: border-box;text-align: center;}#sk-48e00605-3bc3-454c-b9b4-fd0ffd808525 label.sk-toggleable__label-arrow:before {content: \"▸\";float: left;margin-right: 0.25em;color: #696969;}#sk-48e00605-3bc3-454c-b9b4-fd0ffd808525 label.sk-toggleable__label-arrow:hover:before {color: black;}#sk-48e00605-3bc3-454c-b9b4-fd0ffd808525 div.sk-estimator:hover label.sk-toggleable__label-arrow:before {color: black;}#sk-48e00605-3bc3-454c-b9b4-fd0ffd808525 div.sk-toggleable__content {max-height: 0;max-width: 0;overflow: hidden;text-align: left;background-color: #f0f8ff;}#sk-48e00605-3bc3-454c-b9b4-fd0ffd808525 div.sk-toggleable__content pre {margin: 0.2em;color: black;border-radius: 0.25em;background-color: #f0f8ff;}#sk-48e00605-3bc3-454c-b9b4-fd0ffd808525 input.sk-toggleable__control:checked~div.sk-toggleable__content {max-height: 200px;max-width: 100%;overflow: auto;}#sk-48e00605-3bc3-454c-b9b4-fd0ffd808525 input.sk-toggleable__control:checked~label.sk-toggleable__label-arrow:before {content: \"▾\";}#sk-48e00605-3bc3-454c-b9b4-fd0ffd808525 div.sk-estimator input.sk-toggleable__control:checked~label.sk-toggleable__label {background-color: #d4ebff;}#sk-48e00605-3bc3-454c-b9b4-fd0ffd808525 div.sk-label input.sk-toggleable__control:checked~label.sk-toggleable__label {background-color: #d4ebff;}#sk-48e00605-3bc3-454c-b9b4-fd0ffd808525 input.sk-hidden--visually {border: 0;clip: rect(1px 1px 1px 1px);clip: rect(1px, 1px, 1px, 1px);height: 1px;margin: -1px;overflow: hidden;padding: 0;position: absolute;width: 1px;}#sk-48e00605-3bc3-454c-b9b4-fd0ffd808525 div.sk-estimator {font-family: monospace;background-color: #f0f8ff;border: 1px dotted black;border-radius: 0.25em;box-sizing: border-box;margin-bottom: 0.5em;}#sk-48e00605-3bc3-454c-b9b4-fd0ffd808525 div.sk-estimator:hover {background-color: #d4ebff;}#sk-48e00605-3bc3-454c-b9b4-fd0ffd808525 div.sk-parallel-item::after {content: \"\";width: 100%;border-bottom: 1px solid gray;flex-grow: 1;}#sk-48e00605-3bc3-454c-b9b4-fd0ffd808525 div.sk-label:hover label.sk-toggleable__label {background-color: #d4ebff;}#sk-48e00605-3bc3-454c-b9b4-fd0ffd808525 div.sk-serial::before {content: \"\";position: absolute;border-left: 1px solid gray;box-sizing: border-box;top: 2em;bottom: 0;left: 50%;}#sk-48e00605-3bc3-454c-b9b4-fd0ffd808525 div.sk-serial {display: flex;flex-direction: column;align-items: center;background-color: white;padding-right: 0.2em;padding-left: 0.2em;}#sk-48e00605-3bc3-454c-b9b4-fd0ffd808525 div.sk-item {z-index: 1;}#sk-48e00605-3bc3-454c-b9b4-fd0ffd808525 div.sk-parallel {display: flex;align-items: stretch;justify-content: center;background-color: white;}#sk-48e00605-3bc3-454c-b9b4-fd0ffd808525 div.sk-parallel::before {content: \"\";position: absolute;border-left: 1px solid gray;box-sizing: border-box;top: 2em;bottom: 0;left: 50%;}#sk-48e00605-3bc3-454c-b9b4-fd0ffd808525 div.sk-parallel-item {display: flex;flex-direction: column;position: relative;background-color: white;}#sk-48e00605-3bc3-454c-b9b4-fd0ffd808525 div.sk-parallel-item:first-child::after {align-self: flex-end;width: 50%;}#sk-48e00605-3bc3-454c-b9b4-fd0ffd808525 div.sk-parallel-item:last-child::after {align-self: flex-start;width: 50%;}#sk-48e00605-3bc3-454c-b9b4-fd0ffd808525 div.sk-parallel-item:only-child::after {width: 0;}#sk-48e00605-3bc3-454c-b9b4-fd0ffd808525 div.sk-dashed-wrapped {border: 1px dashed gray;margin: 0 0.4em 0.5em 0.4em;box-sizing: border-box;padding-bottom: 0.4em;background-color: white;position: relative;}#sk-48e00605-3bc3-454c-b9b4-fd0ffd808525 div.sk-label label {font-family: monospace;font-weight: bold;background-color: white;display: inline-block;line-height: 1.2em;}#sk-48e00605-3bc3-454c-b9b4-fd0ffd808525 div.sk-label-container {position: relative;z-index: 2;text-align: center;}#sk-48e00605-3bc3-454c-b9b4-fd0ffd808525 div.sk-container {/* jupyter's `normalize.less` sets `[hidden] { display: none; }` but bootstrap.min.css set `[hidden] { display: none !important; }` so we also need the `!important` here to be able to override the default hidden behavior on the sphinx rendered scikit-learn.org. See: https://github.com/scikit-learn/scikit-learn/issues/21755 */display: inline-block !important;position: relative;}#sk-48e00605-3bc3-454c-b9b4-fd0ffd808525 div.sk-text-repr-fallback {display: none;}</style><div id=\"sk-48e00605-3bc3-454c-b9b4-fd0ffd808525\" class=\"sk-top-container\"><div class=\"sk-text-repr-fallback\"><pre>Pipeline(steps=[(&#x27;standard_scaler&#x27;, StandardScaler()),\n",
       "                (&#x27;classifier&#x27;, LogisticRegression())])</pre><b>Please rerun this cell to show the HTML repr or trust the notebook.</b></div><div class=\"sk-container\" hidden><div class=\"sk-item sk-dashed-wrapped\"><div class=\"sk-label-container\"><div class=\"sk-label sk-toggleable\"><input class=\"sk-toggleable__control sk-hidden--visually\" id=\"20a8c74c-319a-4fc1-b51f-1e0ef76dba1b\" type=\"checkbox\" ><label for=\"20a8c74c-319a-4fc1-b51f-1e0ef76dba1b\" class=\"sk-toggleable__label sk-toggleable__label-arrow\">Pipeline</label><div class=\"sk-toggleable__content\"><pre>Pipeline(steps=[(&#x27;standard_scaler&#x27;, StandardScaler()),\n",
       "                (&#x27;classifier&#x27;, LogisticRegression())])</pre></div></div></div><div class=\"sk-serial\"><div class=\"sk-item\"><div class=\"sk-estimator sk-toggleable\"><input class=\"sk-toggleable__control sk-hidden--visually\" id=\"38735483-d9d0-4184-80d2-c2f4b619ece7\" type=\"checkbox\" ><label for=\"38735483-d9d0-4184-80d2-c2f4b619ece7\" class=\"sk-toggleable__label sk-toggleable__label-arrow\">StandardScaler</label><div class=\"sk-toggleable__content\"><pre>StandardScaler()</pre></div></div></div><div class=\"sk-item\"><div class=\"sk-estimator sk-toggleable\"><input class=\"sk-toggleable__control sk-hidden--visually\" id=\"5fdfcd1f-6940-4766-8d98-8bc5ff0e112e\" type=\"checkbox\" ><label for=\"5fdfcd1f-6940-4766-8d98-8bc5ff0e112e\" class=\"sk-toggleable__label sk-toggleable__label-arrow\">LogisticRegression</label><div class=\"sk-toggleable__content\"><pre>LogisticRegression()</pre></div></div></div></div></div></div></div>"
      ],
      "text/plain": [
       "Pipeline(steps=[('standard_scaler', StandardScaler()),\n",
       "                ('classifier', LogisticRegression())])"
      ]
     },
     "execution_count": 21,
     "metadata": {},
     "output_type": "execute_result"
    }
   ],
   "source": [
    "pipe.fit(X_train, y_train)"
   ]
  },
  {
   "cell_type": "markdown",
   "id": "62c6f74e",
   "metadata": {},
   "source": [
    "### 8. Prediction"
   ]
  },
  {
   "cell_type": "code",
   "execution_count": 23,
   "id": "4ac54372",
   "metadata": {},
   "outputs": [],
   "source": [
    "y_pred = pipe.predict(X_test)"
   ]
  },
  {
   "cell_type": "code",
   "execution_count": 24,
   "id": "58def95c",
   "metadata": {},
   "outputs": [
    {
     "data": {
      "text/plain": [
       "array([0, 0, 1, 1, 0, 1, 0, 1, 1, 0, 1, 1, 1, 1, 0, 0, 0, 0, 1, 0, 0, 0,\n",
       "       0, 1, 0, 0, 0, 0, 1, 0, 1, 1, 0])"
      ]
     },
     "execution_count": 24,
     "metadata": {},
     "output_type": "execute_result"
    }
   ],
   "source": [
    "y_pred"
   ]
  },
  {
   "cell_type": "markdown",
   "id": "29cc2010",
   "metadata": {},
   "source": [
    "**Inference:**\n",
    "\n",
    "- In prediction, when *X_test* passes through this *StandardScaler* pipeline, It performs only *transform()* method. \n",
    "\n",
    "- This is how we can use pipelines. We can combine the transformation and feature scaling techniques."
   ]
  },
  {
   "cell_type": "markdown",
   "id": "86a1e8ea",
   "metadata": {},
   "source": [
    "## Pipeline Implementation Example 2"
   ]
  },
  {
   "cell_type": "markdown",
   "id": "b3df9ae3",
   "metadata": {},
   "source": [
    "### 1. Import PCA and SVC"
   ]
  },
  {
   "cell_type": "code",
   "execution_count": 27,
   "id": "e64d74b9",
   "metadata": {},
   "outputs": [],
   "source": [
    "from sklearn.decomposition import PCA\n",
    "from sklearn.svm import SVC"
   ]
  },
  {
   "cell_type": "markdown",
   "id": "75fee60c",
   "metadata": {},
   "source": [
    "### 2. Steps to apply for model creation"
   ]
  },
  {
   "cell_type": "code",
   "execution_count": 28,
   "id": "c17daea8",
   "metadata": {},
   "outputs": [],
   "source": [
    "steps = [\n",
    "    (\"scaling\", StandardScaler()),\n",
    "    (\"PCA\", PCA(n_components=3)),\n",
    "    (\"SVC\", SVC())\n",
    "]"
   ]
  },
  {
   "cell_type": "markdown",
   "id": "84d3a35f",
   "metadata": {},
   "source": [
    "### 3. Convert the Steps into Pipeline"
   ]
  },
  {
   "cell_type": "code",
   "execution_count": 31,
   "id": "58a9e491",
   "metadata": {},
   "outputs": [],
   "source": [
    "pipe2=Pipeline(steps)"
   ]
  },
  {
   "cell_type": "code",
   "execution_count": 32,
   "id": "1e61ba6b",
   "metadata": {},
   "outputs": [
    {
     "data": {
      "text/html": [
       "<style>#sk-da5ec253-6356-4374-a393-e580ed969a41 {color: black;background-color: white;}#sk-da5ec253-6356-4374-a393-e580ed969a41 pre{padding: 0;}#sk-da5ec253-6356-4374-a393-e580ed969a41 div.sk-toggleable {background-color: white;}#sk-da5ec253-6356-4374-a393-e580ed969a41 label.sk-toggleable__label {cursor: pointer;display: block;width: 100%;margin-bottom: 0;padding: 0.3em;box-sizing: border-box;text-align: center;}#sk-da5ec253-6356-4374-a393-e580ed969a41 label.sk-toggleable__label-arrow:before {content: \"▸\";float: left;margin-right: 0.25em;color: #696969;}#sk-da5ec253-6356-4374-a393-e580ed969a41 label.sk-toggleable__label-arrow:hover:before {color: black;}#sk-da5ec253-6356-4374-a393-e580ed969a41 div.sk-estimator:hover label.sk-toggleable__label-arrow:before {color: black;}#sk-da5ec253-6356-4374-a393-e580ed969a41 div.sk-toggleable__content {max-height: 0;max-width: 0;overflow: hidden;text-align: left;background-color: #f0f8ff;}#sk-da5ec253-6356-4374-a393-e580ed969a41 div.sk-toggleable__content pre {margin: 0.2em;color: black;border-radius: 0.25em;background-color: #f0f8ff;}#sk-da5ec253-6356-4374-a393-e580ed969a41 input.sk-toggleable__control:checked~div.sk-toggleable__content {max-height: 200px;max-width: 100%;overflow: auto;}#sk-da5ec253-6356-4374-a393-e580ed969a41 input.sk-toggleable__control:checked~label.sk-toggleable__label-arrow:before {content: \"▾\";}#sk-da5ec253-6356-4374-a393-e580ed969a41 div.sk-estimator input.sk-toggleable__control:checked~label.sk-toggleable__label {background-color: #d4ebff;}#sk-da5ec253-6356-4374-a393-e580ed969a41 div.sk-label input.sk-toggleable__control:checked~label.sk-toggleable__label {background-color: #d4ebff;}#sk-da5ec253-6356-4374-a393-e580ed969a41 input.sk-hidden--visually {border: 0;clip: rect(1px 1px 1px 1px);clip: rect(1px, 1px, 1px, 1px);height: 1px;margin: -1px;overflow: hidden;padding: 0;position: absolute;width: 1px;}#sk-da5ec253-6356-4374-a393-e580ed969a41 div.sk-estimator {font-family: monospace;background-color: #f0f8ff;border: 1px dotted black;border-radius: 0.25em;box-sizing: border-box;margin-bottom: 0.5em;}#sk-da5ec253-6356-4374-a393-e580ed969a41 div.sk-estimator:hover {background-color: #d4ebff;}#sk-da5ec253-6356-4374-a393-e580ed969a41 div.sk-parallel-item::after {content: \"\";width: 100%;border-bottom: 1px solid gray;flex-grow: 1;}#sk-da5ec253-6356-4374-a393-e580ed969a41 div.sk-label:hover label.sk-toggleable__label {background-color: #d4ebff;}#sk-da5ec253-6356-4374-a393-e580ed969a41 div.sk-serial::before {content: \"\";position: absolute;border-left: 1px solid gray;box-sizing: border-box;top: 2em;bottom: 0;left: 50%;}#sk-da5ec253-6356-4374-a393-e580ed969a41 div.sk-serial {display: flex;flex-direction: column;align-items: center;background-color: white;padding-right: 0.2em;padding-left: 0.2em;}#sk-da5ec253-6356-4374-a393-e580ed969a41 div.sk-item {z-index: 1;}#sk-da5ec253-6356-4374-a393-e580ed969a41 div.sk-parallel {display: flex;align-items: stretch;justify-content: center;background-color: white;}#sk-da5ec253-6356-4374-a393-e580ed969a41 div.sk-parallel::before {content: \"\";position: absolute;border-left: 1px solid gray;box-sizing: border-box;top: 2em;bottom: 0;left: 50%;}#sk-da5ec253-6356-4374-a393-e580ed969a41 div.sk-parallel-item {display: flex;flex-direction: column;position: relative;background-color: white;}#sk-da5ec253-6356-4374-a393-e580ed969a41 div.sk-parallel-item:first-child::after {align-self: flex-end;width: 50%;}#sk-da5ec253-6356-4374-a393-e580ed969a41 div.sk-parallel-item:last-child::after {align-self: flex-start;width: 50%;}#sk-da5ec253-6356-4374-a393-e580ed969a41 div.sk-parallel-item:only-child::after {width: 0;}#sk-da5ec253-6356-4374-a393-e580ed969a41 div.sk-dashed-wrapped {border: 1px dashed gray;margin: 0 0.4em 0.5em 0.4em;box-sizing: border-box;padding-bottom: 0.4em;background-color: white;position: relative;}#sk-da5ec253-6356-4374-a393-e580ed969a41 div.sk-label label {font-family: monospace;font-weight: bold;background-color: white;display: inline-block;line-height: 1.2em;}#sk-da5ec253-6356-4374-a393-e580ed969a41 div.sk-label-container {position: relative;z-index: 2;text-align: center;}#sk-da5ec253-6356-4374-a393-e580ed969a41 div.sk-container {/* jupyter's `normalize.less` sets `[hidden] { display: none; }` but bootstrap.min.css set `[hidden] { display: none !important; }` so we also need the `!important` here to be able to override the default hidden behavior on the sphinx rendered scikit-learn.org. See: https://github.com/scikit-learn/scikit-learn/issues/21755 */display: inline-block !important;position: relative;}#sk-da5ec253-6356-4374-a393-e580ed969a41 div.sk-text-repr-fallback {display: none;}</style><div id=\"sk-da5ec253-6356-4374-a393-e580ed969a41\" class=\"sk-top-container\"><div class=\"sk-text-repr-fallback\"><pre>Pipeline(steps=[(&#x27;scaling&#x27;, StandardScaler()), (&#x27;PCA&#x27;, PCA(n_components=3)),\n",
       "                (&#x27;SVC&#x27;, SVC())])</pre><b>Please rerun this cell to show the HTML repr or trust the notebook.</b></div><div class=\"sk-container\" hidden><div class=\"sk-item sk-dashed-wrapped\"><div class=\"sk-label-container\"><div class=\"sk-label sk-toggleable\"><input class=\"sk-toggleable__control sk-hidden--visually\" id=\"c7152c7e-99ff-4c24-98d9-7495221ecdf2\" type=\"checkbox\" ><label for=\"c7152c7e-99ff-4c24-98d9-7495221ecdf2\" class=\"sk-toggleable__label sk-toggleable__label-arrow\">Pipeline</label><div class=\"sk-toggleable__content\"><pre>Pipeline(steps=[(&#x27;scaling&#x27;, StandardScaler()), (&#x27;PCA&#x27;, PCA(n_components=3)),\n",
       "                (&#x27;SVC&#x27;, SVC())])</pre></div></div></div><div class=\"sk-serial\"><div class=\"sk-item\"><div class=\"sk-estimator sk-toggleable\"><input class=\"sk-toggleable__control sk-hidden--visually\" id=\"c46559b9-1594-4130-95d6-383693791a18\" type=\"checkbox\" ><label for=\"c46559b9-1594-4130-95d6-383693791a18\" class=\"sk-toggleable__label sk-toggleable__label-arrow\">StandardScaler</label><div class=\"sk-toggleable__content\"><pre>StandardScaler()</pre></div></div></div><div class=\"sk-item\"><div class=\"sk-estimator sk-toggleable\"><input class=\"sk-toggleable__control sk-hidden--visually\" id=\"5655c731-91d8-4110-98a4-69b3a41f25fc\" type=\"checkbox\" ><label for=\"5655c731-91d8-4110-98a4-69b3a41f25fc\" class=\"sk-toggleable__label sk-toggleable__label-arrow\">PCA</label><div class=\"sk-toggleable__content\"><pre>PCA(n_components=3)</pre></div></div></div><div class=\"sk-item\"><div class=\"sk-estimator sk-toggleable\"><input class=\"sk-toggleable__control sk-hidden--visually\" id=\"742cba64-d98d-42cb-beb6-87620c288438\" type=\"checkbox\" ><label for=\"742cba64-d98d-42cb-beb6-87620c288438\" class=\"sk-toggleable__label sk-toggleable__label-arrow\">SVC</label><div class=\"sk-toggleable__content\"><pre>SVC()</pre></div></div></div></div></div></div></div>"
      ],
      "text/plain": [
       "Pipeline(steps=[('scaling', StandardScaler()), ('PCA', PCA(n_components=3)),\n",
       "                ('SVC', SVC())])"
      ]
     },
     "execution_count": 32,
     "metadata": {},
     "output_type": "execute_result"
    }
   ],
   "source": [
    "pipe2"
   ]
  },
  {
   "cell_type": "markdown",
   "id": "5d0cbb67",
   "metadata": {},
   "source": [
    "**Inference:**\n",
    "    \n",
    "    This means in the first step we apply standard scaler, followed by PCA and SVC."
   ]
  },
  {
   "cell_type": "markdown",
   "id": "fa0363c1",
   "metadata": {},
   "source": [
    "### 4. Fit the pipeline on X_train and y_train"
   ]
  },
  {
   "cell_type": "code",
   "execution_count": 33,
   "id": "a01c6ff0",
   "metadata": {},
   "outputs": [
    {
     "data": {
      "text/html": [
       "<style>#sk-94779267-1f94-45c4-b556-e380dd8bd08e {color: black;background-color: white;}#sk-94779267-1f94-45c4-b556-e380dd8bd08e pre{padding: 0;}#sk-94779267-1f94-45c4-b556-e380dd8bd08e div.sk-toggleable {background-color: white;}#sk-94779267-1f94-45c4-b556-e380dd8bd08e label.sk-toggleable__label {cursor: pointer;display: block;width: 100%;margin-bottom: 0;padding: 0.3em;box-sizing: border-box;text-align: center;}#sk-94779267-1f94-45c4-b556-e380dd8bd08e label.sk-toggleable__label-arrow:before {content: \"▸\";float: left;margin-right: 0.25em;color: #696969;}#sk-94779267-1f94-45c4-b556-e380dd8bd08e label.sk-toggleable__label-arrow:hover:before {color: black;}#sk-94779267-1f94-45c4-b556-e380dd8bd08e div.sk-estimator:hover label.sk-toggleable__label-arrow:before {color: black;}#sk-94779267-1f94-45c4-b556-e380dd8bd08e div.sk-toggleable__content {max-height: 0;max-width: 0;overflow: hidden;text-align: left;background-color: #f0f8ff;}#sk-94779267-1f94-45c4-b556-e380dd8bd08e div.sk-toggleable__content pre {margin: 0.2em;color: black;border-radius: 0.25em;background-color: #f0f8ff;}#sk-94779267-1f94-45c4-b556-e380dd8bd08e input.sk-toggleable__control:checked~div.sk-toggleable__content {max-height: 200px;max-width: 100%;overflow: auto;}#sk-94779267-1f94-45c4-b556-e380dd8bd08e input.sk-toggleable__control:checked~label.sk-toggleable__label-arrow:before {content: \"▾\";}#sk-94779267-1f94-45c4-b556-e380dd8bd08e div.sk-estimator input.sk-toggleable__control:checked~label.sk-toggleable__label {background-color: #d4ebff;}#sk-94779267-1f94-45c4-b556-e380dd8bd08e div.sk-label input.sk-toggleable__control:checked~label.sk-toggleable__label {background-color: #d4ebff;}#sk-94779267-1f94-45c4-b556-e380dd8bd08e input.sk-hidden--visually {border: 0;clip: rect(1px 1px 1px 1px);clip: rect(1px, 1px, 1px, 1px);height: 1px;margin: -1px;overflow: hidden;padding: 0;position: absolute;width: 1px;}#sk-94779267-1f94-45c4-b556-e380dd8bd08e div.sk-estimator {font-family: monospace;background-color: #f0f8ff;border: 1px dotted black;border-radius: 0.25em;box-sizing: border-box;margin-bottom: 0.5em;}#sk-94779267-1f94-45c4-b556-e380dd8bd08e div.sk-estimator:hover {background-color: #d4ebff;}#sk-94779267-1f94-45c4-b556-e380dd8bd08e div.sk-parallel-item::after {content: \"\";width: 100%;border-bottom: 1px solid gray;flex-grow: 1;}#sk-94779267-1f94-45c4-b556-e380dd8bd08e div.sk-label:hover label.sk-toggleable__label {background-color: #d4ebff;}#sk-94779267-1f94-45c4-b556-e380dd8bd08e div.sk-serial::before {content: \"\";position: absolute;border-left: 1px solid gray;box-sizing: border-box;top: 2em;bottom: 0;left: 50%;}#sk-94779267-1f94-45c4-b556-e380dd8bd08e div.sk-serial {display: flex;flex-direction: column;align-items: center;background-color: white;padding-right: 0.2em;padding-left: 0.2em;}#sk-94779267-1f94-45c4-b556-e380dd8bd08e div.sk-item {z-index: 1;}#sk-94779267-1f94-45c4-b556-e380dd8bd08e div.sk-parallel {display: flex;align-items: stretch;justify-content: center;background-color: white;}#sk-94779267-1f94-45c4-b556-e380dd8bd08e div.sk-parallel::before {content: \"\";position: absolute;border-left: 1px solid gray;box-sizing: border-box;top: 2em;bottom: 0;left: 50%;}#sk-94779267-1f94-45c4-b556-e380dd8bd08e div.sk-parallel-item {display: flex;flex-direction: column;position: relative;background-color: white;}#sk-94779267-1f94-45c4-b556-e380dd8bd08e div.sk-parallel-item:first-child::after {align-self: flex-end;width: 50%;}#sk-94779267-1f94-45c4-b556-e380dd8bd08e div.sk-parallel-item:last-child::after {align-self: flex-start;width: 50%;}#sk-94779267-1f94-45c4-b556-e380dd8bd08e div.sk-parallel-item:only-child::after {width: 0;}#sk-94779267-1f94-45c4-b556-e380dd8bd08e div.sk-dashed-wrapped {border: 1px dashed gray;margin: 0 0.4em 0.5em 0.4em;box-sizing: border-box;padding-bottom: 0.4em;background-color: white;position: relative;}#sk-94779267-1f94-45c4-b556-e380dd8bd08e div.sk-label label {font-family: monospace;font-weight: bold;background-color: white;display: inline-block;line-height: 1.2em;}#sk-94779267-1f94-45c4-b556-e380dd8bd08e div.sk-label-container {position: relative;z-index: 2;text-align: center;}#sk-94779267-1f94-45c4-b556-e380dd8bd08e div.sk-container {/* jupyter's `normalize.less` sets `[hidden] { display: none; }` but bootstrap.min.css set `[hidden] { display: none !important; }` so we also need the `!important` here to be able to override the default hidden behavior on the sphinx rendered scikit-learn.org. See: https://github.com/scikit-learn/scikit-learn/issues/21755 */display: inline-block !important;position: relative;}#sk-94779267-1f94-45c4-b556-e380dd8bd08e div.sk-text-repr-fallback {display: none;}</style><div id=\"sk-94779267-1f94-45c4-b556-e380dd8bd08e\" class=\"sk-top-container\"><div class=\"sk-text-repr-fallback\"><pre>Pipeline(steps=[(&#x27;scaling&#x27;, StandardScaler()), (&#x27;PCA&#x27;, PCA(n_components=3)),\n",
       "                (&#x27;SVC&#x27;, SVC())])</pre><b>Please rerun this cell to show the HTML repr or trust the notebook.</b></div><div class=\"sk-container\" hidden><div class=\"sk-item sk-dashed-wrapped\"><div class=\"sk-label-container\"><div class=\"sk-label sk-toggleable\"><input class=\"sk-toggleable__control sk-hidden--visually\" id=\"f6f368fc-612d-4887-baac-9e0bc5d13162\" type=\"checkbox\" ><label for=\"f6f368fc-612d-4887-baac-9e0bc5d13162\" class=\"sk-toggleable__label sk-toggleable__label-arrow\">Pipeline</label><div class=\"sk-toggleable__content\"><pre>Pipeline(steps=[(&#x27;scaling&#x27;, StandardScaler()), (&#x27;PCA&#x27;, PCA(n_components=3)),\n",
       "                (&#x27;SVC&#x27;, SVC())])</pre></div></div></div><div class=\"sk-serial\"><div class=\"sk-item\"><div class=\"sk-estimator sk-toggleable\"><input class=\"sk-toggleable__control sk-hidden--visually\" id=\"e36ff6f0-97e1-4d67-b56d-909148730f3a\" type=\"checkbox\" ><label for=\"e36ff6f0-97e1-4d67-b56d-909148730f3a\" class=\"sk-toggleable__label sk-toggleable__label-arrow\">StandardScaler</label><div class=\"sk-toggleable__content\"><pre>StandardScaler()</pre></div></div></div><div class=\"sk-item\"><div class=\"sk-estimator sk-toggleable\"><input class=\"sk-toggleable__control sk-hidden--visually\" id=\"68468085-aad4-47d7-86ca-ff3d77fc87e6\" type=\"checkbox\" ><label for=\"68468085-aad4-47d7-86ca-ff3d77fc87e6\" class=\"sk-toggleable__label sk-toggleable__label-arrow\">PCA</label><div class=\"sk-toggleable__content\"><pre>PCA(n_components=3)</pre></div></div></div><div class=\"sk-item\"><div class=\"sk-estimator sk-toggleable\"><input class=\"sk-toggleable__control sk-hidden--visually\" id=\"b5197893-a171-4b13-9801-ab18a8d391bd\" type=\"checkbox\" ><label for=\"b5197893-a171-4b13-9801-ab18a8d391bd\" class=\"sk-toggleable__label sk-toggleable__label-arrow\">SVC</label><div class=\"sk-toggleable__content\"><pre>SVC()</pre></div></div></div></div></div></div></div>"
      ],
      "text/plain": [
       "Pipeline(steps=[('scaling', StandardScaler()), ('PCA', PCA(n_components=3)),\n",
       "                ('SVC', SVC())])"
      ]
     },
     "execution_count": 33,
     "metadata": {},
     "output_type": "execute_result"
    }
   ],
   "source": [
    "pipe2.fit(X_train,y_train)"
   ]
  },
  {
   "cell_type": "markdown",
   "id": "9fb7a590",
   "metadata": {},
   "source": [
    "### 5. Prediction"
   ]
  },
  {
   "cell_type": "code",
   "execution_count": 35,
   "id": "f0721a95",
   "metadata": {},
   "outputs": [
    {
     "data": {
      "text/plain": [
       "array([1, 1, 1, 1, 1, 1, 0, 1, 1, 1, 1, 1, 0, 1, 0, 0, 1, 1, 1, 0, 1, 1,\n",
       "       1, 1, 1, 1, 1, 1, 1, 1, 1, 0, 1])"
      ]
     },
     "execution_count": 35,
     "metadata": {},
     "output_type": "execute_result"
    }
   ],
   "source": [
    "pipe2.predict(X_test)"
   ]
  },
  {
   "cell_type": "markdown",
   "id": "6ed49c92",
   "metadata": {},
   "source": [
    "## Pipeline Implementation Example 3 - Column Transformer"
   ]
  },
  {
   "cell_type": "code",
   "execution_count": 36,
   "id": "d134b367",
   "metadata": {},
   "outputs": [],
   "source": [
    "# time: 15:45"
   ]
  },
  {
   "cell_type": "code",
   "execution_count": null,
   "id": "42548357",
   "metadata": {},
   "outputs": [],
   "source": []
  }
 ],
 "metadata": {
  "kernelspec": {
   "display_name": "Python 3 (ipykernel)",
   "language": "python",
   "name": "python3"
  },
  "language_info": {
   "codemirror_mode": {
    "name": "ipython",
    "version": 3
   },
   "file_extension": ".py",
   "mimetype": "text/x-python",
   "name": "python",
   "nbconvert_exporter": "python",
   "pygments_lexer": "ipython3",
   "version": "3.9.12"
  }
 },
 "nbformat": 4,
 "nbformat_minor": 5
}
