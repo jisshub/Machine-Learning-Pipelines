{
 "cells": [
  {
   "cell_type": "markdown",
   "id": "ba1dbdf4",
   "metadata": {},
   "source": [
    "# Pipelines in Machine Learning"
   ]
  },
  {
   "cell_type": "markdown",
   "id": "b7b9313f",
   "metadata": {},
   "source": [
    "Video Link: \n",
    "    https://www.youtube.com/watch?v=HZ9MUzCRlzI&list=PLT6wrBlkasCNqKnKcs1hOoCEhtcUZiAqo&index=102&t=215s"
   ]
  },
  {
   "cell_type": "code",
   "execution_count": 1,
   "id": "877df91c",
   "metadata": {},
   "outputs": [],
   "source": [
    "from sklearn.pipeline import Pipeline"
   ]
  },
  {
   "cell_type": "markdown",
   "id": "1c5e554a",
   "metadata": {},
   "source": [
    "## Pipeline Implementation Basic Example"
   ]
  },
  {
   "cell_type": "markdown",
   "id": "cdbd810b",
   "metadata": {},
   "source": [
    "### 1. Import standard scaling and regression technique"
   ]
  },
  {
   "cell_type": "code",
   "execution_count": 2,
   "id": "1607d9bd",
   "metadata": {},
   "outputs": [],
   "source": [
    "from sklearn.preprocessing import StandardScaler\n",
    "from sklearn.linear_model import LogisticRegression"
   ]
  },
  {
   "cell_type": "markdown",
   "id": "a34f751d",
   "metadata": {},
   "source": [
    "### 2. Combine standard scalar with logistic regression\n",
    "\n",
    "standard scalar is a transformation technique and logistic regression is an estimator. Estimator basically means the kind of a model we want to apply. In order to apply the model we create a number of steps. steps are in the form of tuples."
   ]
  },
  {
   "cell_type": "code",
   "execution_count": 3,
   "id": "0099af3c",
   "metadata": {},
   "outputs": [],
   "source": [
    "steps=[(\"standard_scaler\", StandardScaler()),\n",
    "       (\"classifier\", LogisticRegression())\n",
    "    ]"
   ]
  },
  {
   "cell_type": "code",
   "execution_count": 4,
   "id": "eb568936",
   "metadata": {},
   "outputs": [
    {
     "data": {
      "text/plain": [
       "[('standard_scaler', StandardScaler()), ('classifier', LogisticRegression())]"
      ]
     },
     "execution_count": 4,
     "metadata": {},
     "output_type": "execute_result"
    }
   ],
   "source": [
    "steps"
   ]
  },
  {
   "cell_type": "markdown",
   "id": "6d0b006a",
   "metadata": {},
   "source": [
    "**Inference:**\n",
    "    \n",
    "    1. First step is a Standard scaler.\n",
    "    2. Seconda step is a classifier."
   ]
  },
  {
   "cell_type": "markdown",
   "id": "6b964bdb",
   "metadata": {},
   "source": [
    "### 3. Convert the steps into a pipeline."
   ]
  },
  {
   "cell_type": "code",
   "execution_count": 5,
   "id": "7871f231",
   "metadata": {},
   "outputs": [],
   "source": [
    "pipe=Pipeline(steps)"
   ]
  },
  {
   "cell_type": "code",
   "execution_count": 6,
   "id": "6ab25b6c",
   "metadata": {},
   "outputs": [
    {
     "data": {
      "text/plain": [
       "Pipeline(steps=[('standard_scaler', StandardScaler()),\n",
       "                ('classifier', LogisticRegression())])"
      ]
     },
     "execution_count": 6,
     "metadata": {},
     "output_type": "execute_result"
    }
   ],
   "source": [
    "pipe"
   ]
  },
  {
   "cell_type": "markdown",
   "id": "8d60c395",
   "metadata": {},
   "source": [
    "### 4. Visualize the pipeline"
   ]
  },
  {
   "cell_type": "code",
   "execution_count": 7,
   "id": "f42a1424",
   "metadata": {},
   "outputs": [],
   "source": [
    "from sklearn import set_config"
   ]
  },
  {
   "cell_type": "code",
   "execution_count": 8,
   "id": "9a651420",
   "metadata": {},
   "outputs": [],
   "source": [
    "set_config(display='diagram')"
   ]
  },
  {
   "cell_type": "code",
   "execution_count": 9,
   "id": "4d6cfe11",
   "metadata": {},
   "outputs": [
    {
     "data": {
      "text/html": [
       "<style>#sk-8ba8824f-4b63-48d0-a10d-b30060204b6c {color: black;background-color: white;}#sk-8ba8824f-4b63-48d0-a10d-b30060204b6c pre{padding: 0;}#sk-8ba8824f-4b63-48d0-a10d-b30060204b6c div.sk-toggleable {background-color: white;}#sk-8ba8824f-4b63-48d0-a10d-b30060204b6c label.sk-toggleable__label {cursor: pointer;display: block;width: 100%;margin-bottom: 0;padding: 0.3em;box-sizing: border-box;text-align: center;}#sk-8ba8824f-4b63-48d0-a10d-b30060204b6c label.sk-toggleable__label-arrow:before {content: \"▸\";float: left;margin-right: 0.25em;color: #696969;}#sk-8ba8824f-4b63-48d0-a10d-b30060204b6c label.sk-toggleable__label-arrow:hover:before {color: black;}#sk-8ba8824f-4b63-48d0-a10d-b30060204b6c div.sk-estimator:hover label.sk-toggleable__label-arrow:before {color: black;}#sk-8ba8824f-4b63-48d0-a10d-b30060204b6c div.sk-toggleable__content {max-height: 0;max-width: 0;overflow: hidden;text-align: left;background-color: #f0f8ff;}#sk-8ba8824f-4b63-48d0-a10d-b30060204b6c div.sk-toggleable__content pre {margin: 0.2em;color: black;border-radius: 0.25em;background-color: #f0f8ff;}#sk-8ba8824f-4b63-48d0-a10d-b30060204b6c input.sk-toggleable__control:checked~div.sk-toggleable__content {max-height: 200px;max-width: 100%;overflow: auto;}#sk-8ba8824f-4b63-48d0-a10d-b30060204b6c input.sk-toggleable__control:checked~label.sk-toggleable__label-arrow:before {content: \"▾\";}#sk-8ba8824f-4b63-48d0-a10d-b30060204b6c div.sk-estimator input.sk-toggleable__control:checked~label.sk-toggleable__label {background-color: #d4ebff;}#sk-8ba8824f-4b63-48d0-a10d-b30060204b6c div.sk-label input.sk-toggleable__control:checked~label.sk-toggleable__label {background-color: #d4ebff;}#sk-8ba8824f-4b63-48d0-a10d-b30060204b6c input.sk-hidden--visually {border: 0;clip: rect(1px 1px 1px 1px);clip: rect(1px, 1px, 1px, 1px);height: 1px;margin: -1px;overflow: hidden;padding: 0;position: absolute;width: 1px;}#sk-8ba8824f-4b63-48d0-a10d-b30060204b6c div.sk-estimator {font-family: monospace;background-color: #f0f8ff;border: 1px dotted black;border-radius: 0.25em;box-sizing: border-box;margin-bottom: 0.5em;}#sk-8ba8824f-4b63-48d0-a10d-b30060204b6c div.sk-estimator:hover {background-color: #d4ebff;}#sk-8ba8824f-4b63-48d0-a10d-b30060204b6c div.sk-parallel-item::after {content: \"\";width: 100%;border-bottom: 1px solid gray;flex-grow: 1;}#sk-8ba8824f-4b63-48d0-a10d-b30060204b6c div.sk-label:hover label.sk-toggleable__label {background-color: #d4ebff;}#sk-8ba8824f-4b63-48d0-a10d-b30060204b6c div.sk-serial::before {content: \"\";position: absolute;border-left: 1px solid gray;box-sizing: border-box;top: 2em;bottom: 0;left: 50%;}#sk-8ba8824f-4b63-48d0-a10d-b30060204b6c div.sk-serial {display: flex;flex-direction: column;align-items: center;background-color: white;padding-right: 0.2em;padding-left: 0.2em;}#sk-8ba8824f-4b63-48d0-a10d-b30060204b6c div.sk-item {z-index: 1;}#sk-8ba8824f-4b63-48d0-a10d-b30060204b6c div.sk-parallel {display: flex;align-items: stretch;justify-content: center;background-color: white;}#sk-8ba8824f-4b63-48d0-a10d-b30060204b6c div.sk-parallel::before {content: \"\";position: absolute;border-left: 1px solid gray;box-sizing: border-box;top: 2em;bottom: 0;left: 50%;}#sk-8ba8824f-4b63-48d0-a10d-b30060204b6c div.sk-parallel-item {display: flex;flex-direction: column;position: relative;background-color: white;}#sk-8ba8824f-4b63-48d0-a10d-b30060204b6c div.sk-parallel-item:first-child::after {align-self: flex-end;width: 50%;}#sk-8ba8824f-4b63-48d0-a10d-b30060204b6c div.sk-parallel-item:last-child::after {align-self: flex-start;width: 50%;}#sk-8ba8824f-4b63-48d0-a10d-b30060204b6c div.sk-parallel-item:only-child::after {width: 0;}#sk-8ba8824f-4b63-48d0-a10d-b30060204b6c div.sk-dashed-wrapped {border: 1px dashed gray;margin: 0 0.4em 0.5em 0.4em;box-sizing: border-box;padding-bottom: 0.4em;background-color: white;position: relative;}#sk-8ba8824f-4b63-48d0-a10d-b30060204b6c div.sk-label label {font-family: monospace;font-weight: bold;background-color: white;display: inline-block;line-height: 1.2em;}#sk-8ba8824f-4b63-48d0-a10d-b30060204b6c div.sk-label-container {position: relative;z-index: 2;text-align: center;}#sk-8ba8824f-4b63-48d0-a10d-b30060204b6c div.sk-container {/* jupyter's `normalize.less` sets `[hidden] { display: none; }` but bootstrap.min.css set `[hidden] { display: none !important; }` so we also need the `!important` here to be able to override the default hidden behavior on the sphinx rendered scikit-learn.org. See: https://github.com/scikit-learn/scikit-learn/issues/21755 */display: inline-block !important;position: relative;}#sk-8ba8824f-4b63-48d0-a10d-b30060204b6c div.sk-text-repr-fallback {display: none;}</style><div id=\"sk-8ba8824f-4b63-48d0-a10d-b30060204b6c\" class=\"sk-top-container\"><div class=\"sk-text-repr-fallback\"><pre>Pipeline(steps=[(&#x27;standard_scaler&#x27;, StandardScaler()),\n",
       "                (&#x27;classifier&#x27;, LogisticRegression())])</pre><b>Please rerun this cell to show the HTML repr or trust the notebook.</b></div><div class=\"sk-container\" hidden><div class=\"sk-item sk-dashed-wrapped\"><div class=\"sk-label-container\"><div class=\"sk-label sk-toggleable\"><input class=\"sk-toggleable__control sk-hidden--visually\" id=\"2e0cb392-0203-41fa-9219-0097807cf5ed\" type=\"checkbox\" ><label for=\"2e0cb392-0203-41fa-9219-0097807cf5ed\" class=\"sk-toggleable__label sk-toggleable__label-arrow\">Pipeline</label><div class=\"sk-toggleable__content\"><pre>Pipeline(steps=[(&#x27;standard_scaler&#x27;, StandardScaler()),\n",
       "                (&#x27;classifier&#x27;, LogisticRegression())])</pre></div></div></div><div class=\"sk-serial\"><div class=\"sk-item\"><div class=\"sk-estimator sk-toggleable\"><input class=\"sk-toggleable__control sk-hidden--visually\" id=\"cccea309-c7f0-458a-a7f3-66e74eb89524\" type=\"checkbox\" ><label for=\"cccea309-c7f0-458a-a7f3-66e74eb89524\" class=\"sk-toggleable__label sk-toggleable__label-arrow\">StandardScaler</label><div class=\"sk-toggleable__content\"><pre>StandardScaler()</pre></div></div></div><div class=\"sk-item\"><div class=\"sk-estimator sk-toggleable\"><input class=\"sk-toggleable__control sk-hidden--visually\" id=\"2dc91b47-1bdc-462f-a053-a3ed3aba86b4\" type=\"checkbox\" ><label for=\"2dc91b47-1bdc-462f-a053-a3ed3aba86b4\" class=\"sk-toggleable__label sk-toggleable__label-arrow\">LogisticRegression</label><div class=\"sk-toggleable__content\"><pre>LogisticRegression()</pre></div></div></div></div></div></div></div>"
      ],
      "text/plain": [
       "Pipeline(steps=[('standard_scaler', StandardScaler()),\n",
       "                ('classifier', LogisticRegression())])"
      ]
     },
     "execution_count": 9,
     "metadata": {},
     "output_type": "execute_result"
    }
   ],
   "source": [
    "pipe"
   ]
  },
  {
   "cell_type": "markdown",
   "id": "6378e737",
   "metadata": {},
   "source": [
    "**Inference:**\n",
    "\n",
    "Steps involved in pipeline is visualised here."
   ]
  },
  {
   "cell_type": "markdown",
   "id": "d7d0357e",
   "metadata": {},
   "source": [
    "### 5. Creating a Sample dataset\n",
    "\n",
    "Create a classification dataset"
   ]
  },
  {
   "cell_type": "code",
   "execution_count": 10,
   "id": "dd5f5d68",
   "metadata": {},
   "outputs": [],
   "source": [
    "from sklearn.datasets import make_classification"
   ]
  },
  {
   "cell_type": "code",
   "execution_count": 11,
   "id": "92f5729c",
   "metadata": {},
   "outputs": [],
   "source": [
    "X,y=make_classification() # create a random classification dataset."
   ]
  },
  {
   "cell_type": "code",
   "execution_count": 12,
   "id": "00e543cc",
   "metadata": {},
   "outputs": [
    {
     "data": {
      "text/plain": [
       "array([[-2.51876924, -0.07106745,  0.06826223, ..., -1.11460356,\n",
       "         0.20461509,  2.05256632],\n",
       "       [ 0.32646908,  1.08815252,  1.90898687, ...,  0.42515242,\n",
       "         1.94851406,  0.21353191],\n",
       "       [ 1.001031  ,  1.08257456,  0.70872979, ...,  1.3713969 ,\n",
       "        -0.21497598, -0.08871041],\n",
       "       ...,\n",
       "       [-0.39291761, -0.31187759,  1.46832999, ..., -1.75207364,\n",
       "        -1.09218128,  1.33628158],\n",
       "       [-0.16326442,  0.54194698, -0.69813275, ..., -0.40051423,\n",
       "        -1.08109713, -0.15673293],\n",
       "       [-1.60363925,  0.48560624,  0.10257006, ...,  0.15958213,\n",
       "        -0.52968568, -1.21680435]])"
      ]
     },
     "execution_count": 12,
     "metadata": {},
     "output_type": "execute_result"
    }
   ],
   "source": [
    "X"
   ]
  },
  {
   "cell_type": "code",
   "execution_count": 13,
   "id": "a288eb7d",
   "metadata": {},
   "outputs": [
    {
     "data": {
      "text/plain": [
       "array([1, 1, 0, 0, 1, 1, 1, 0, 1, 1, 0, 0, 1, 1, 0, 1, 0, 0, 0, 0, 1, 0,\n",
       "       0, 0, 0, 0, 1, 1, 1, 0, 0, 1, 1, 0, 1, 0, 1, 1, 0, 0, 1, 0, 0, 0,\n",
       "       1, 0, 0, 1, 0, 1, 0, 1, 0, 0, 0, 1, 0, 0, 1, 0, 1, 1, 1, 1, 1, 0,\n",
       "       1, 1, 0, 0, 0, 0, 1, 0, 1, 1, 0, 0, 0, 1, 1, 1, 1, 1, 0, 1, 1, 1,\n",
       "       1, 0, 0, 1, 1, 0, 1, 1, 0, 0, 0, 0])"
      ]
     },
     "execution_count": 13,
     "metadata": {},
     "output_type": "execute_result"
    }
   ],
   "source": [
    "y"
   ]
  },
  {
   "cell_type": "markdown",
   "id": "d3fbfe33",
   "metadata": {},
   "source": [
    "### 6. Train Test Split the Dataset"
   ]
  },
  {
   "cell_type": "code",
   "execution_count": 14,
   "id": "98ba8bdc",
   "metadata": {},
   "outputs": [],
   "source": [
    "from sklearn.model_selection import train_test_split"
   ]
  },
  {
   "cell_type": "code",
   "execution_count": 15,
   "id": "443ff1bc",
   "metadata": {},
   "outputs": [],
   "source": [
    "X_train,X_test,y_train,y_test=train_test_split(X,y,test_size=0.33,random_state=42)"
   ]
  },
  {
   "cell_type": "code",
   "execution_count": 16,
   "id": "83819f1a",
   "metadata": {},
   "outputs": [
    {
     "data": {
      "text/plain": [
       "array([[ 1.35493571, -1.28393659,  0.04572112, ..., -0.00366179,\n",
       "         0.99295554, -0.97590252],\n",
       "       [ 0.76097742, -2.72437166,  0.63668071, ..., -1.03921526,\n",
       "        -0.90379363,  2.31514132],\n",
       "       [-0.07924928,  1.02925873,  0.41424283, ..., -1.10933297,\n",
       "         1.0985804 ,  0.22658714],\n",
       "       ...,\n",
       "       [ 1.11515487,  0.33833086,  0.80532659, ..., -0.24313914,\n",
       "        -0.31174538,  0.30374692],\n",
       "       [ 1.39192703,  1.52442735, -1.24589215, ...,  0.08077754,\n",
       "         1.45197455,  0.22819958],\n",
       "       [-0.60951902, -0.33028115,  0.57507368, ...,  0.29912976,\n",
       "        -0.26560902, -1.84825889]])"
      ]
     },
     "execution_count": 16,
     "metadata": {},
     "output_type": "execute_result"
    }
   ],
   "source": [
    "X_train"
   ]
  },
  {
   "cell_type": "code",
   "execution_count": 17,
   "id": "56cbdf46",
   "metadata": {},
   "outputs": [
    {
     "data": {
      "text/plain": [
       "array([1, 0, 1, 1, 0, 0, 0, 1, 1, 0, 1, 1, 0, 1, 0, 1, 1, 0, 0, 0, 0, 1,\n",
       "       0, 1, 1, 1, 0, 0, 0, 0, 0, 0, 1, 0, 0, 1, 0, 1, 0, 1, 0, 0, 0, 1,\n",
       "       1, 1, 0, 1, 0, 1, 0, 1, 0, 0, 0, 0, 1, 1, 1, 1, 1, 1, 1, 0, 0, 1,\n",
       "       1])"
      ]
     },
     "execution_count": 17,
     "metadata": {},
     "output_type": "execute_result"
    }
   ],
   "source": [
    "y_train"
   ]
  },
  {
   "cell_type": "markdown",
   "id": "ca999d1c",
   "metadata": {},
   "source": [
    "### 7. Fit the pipeline on X_train and y_train data\n",
    "\n",
    "Once we call fit on X_train and y_train, it passes through the pipeline and get trained for Logistic regression."
   ]
  },
  {
   "cell_type": "code",
   "execution_count": 18,
   "id": "d80fb3cc",
   "metadata": {},
   "outputs": [
    {
     "data": {
      "text/html": [
       "<style>#sk-a839d035-4788-450f-9f8e-57591170cf3d {color: black;background-color: white;}#sk-a839d035-4788-450f-9f8e-57591170cf3d pre{padding: 0;}#sk-a839d035-4788-450f-9f8e-57591170cf3d div.sk-toggleable {background-color: white;}#sk-a839d035-4788-450f-9f8e-57591170cf3d label.sk-toggleable__label {cursor: pointer;display: block;width: 100%;margin-bottom: 0;padding: 0.3em;box-sizing: border-box;text-align: center;}#sk-a839d035-4788-450f-9f8e-57591170cf3d label.sk-toggleable__label-arrow:before {content: \"▸\";float: left;margin-right: 0.25em;color: #696969;}#sk-a839d035-4788-450f-9f8e-57591170cf3d label.sk-toggleable__label-arrow:hover:before {color: black;}#sk-a839d035-4788-450f-9f8e-57591170cf3d div.sk-estimator:hover label.sk-toggleable__label-arrow:before {color: black;}#sk-a839d035-4788-450f-9f8e-57591170cf3d div.sk-toggleable__content {max-height: 0;max-width: 0;overflow: hidden;text-align: left;background-color: #f0f8ff;}#sk-a839d035-4788-450f-9f8e-57591170cf3d div.sk-toggleable__content pre {margin: 0.2em;color: black;border-radius: 0.25em;background-color: #f0f8ff;}#sk-a839d035-4788-450f-9f8e-57591170cf3d input.sk-toggleable__control:checked~div.sk-toggleable__content {max-height: 200px;max-width: 100%;overflow: auto;}#sk-a839d035-4788-450f-9f8e-57591170cf3d input.sk-toggleable__control:checked~label.sk-toggleable__label-arrow:before {content: \"▾\";}#sk-a839d035-4788-450f-9f8e-57591170cf3d div.sk-estimator input.sk-toggleable__control:checked~label.sk-toggleable__label {background-color: #d4ebff;}#sk-a839d035-4788-450f-9f8e-57591170cf3d div.sk-label input.sk-toggleable__control:checked~label.sk-toggleable__label {background-color: #d4ebff;}#sk-a839d035-4788-450f-9f8e-57591170cf3d input.sk-hidden--visually {border: 0;clip: rect(1px 1px 1px 1px);clip: rect(1px, 1px, 1px, 1px);height: 1px;margin: -1px;overflow: hidden;padding: 0;position: absolute;width: 1px;}#sk-a839d035-4788-450f-9f8e-57591170cf3d div.sk-estimator {font-family: monospace;background-color: #f0f8ff;border: 1px dotted black;border-radius: 0.25em;box-sizing: border-box;margin-bottom: 0.5em;}#sk-a839d035-4788-450f-9f8e-57591170cf3d div.sk-estimator:hover {background-color: #d4ebff;}#sk-a839d035-4788-450f-9f8e-57591170cf3d div.sk-parallel-item::after {content: \"\";width: 100%;border-bottom: 1px solid gray;flex-grow: 1;}#sk-a839d035-4788-450f-9f8e-57591170cf3d div.sk-label:hover label.sk-toggleable__label {background-color: #d4ebff;}#sk-a839d035-4788-450f-9f8e-57591170cf3d div.sk-serial::before {content: \"\";position: absolute;border-left: 1px solid gray;box-sizing: border-box;top: 2em;bottom: 0;left: 50%;}#sk-a839d035-4788-450f-9f8e-57591170cf3d div.sk-serial {display: flex;flex-direction: column;align-items: center;background-color: white;padding-right: 0.2em;padding-left: 0.2em;}#sk-a839d035-4788-450f-9f8e-57591170cf3d div.sk-item {z-index: 1;}#sk-a839d035-4788-450f-9f8e-57591170cf3d div.sk-parallel {display: flex;align-items: stretch;justify-content: center;background-color: white;}#sk-a839d035-4788-450f-9f8e-57591170cf3d div.sk-parallel::before {content: \"\";position: absolute;border-left: 1px solid gray;box-sizing: border-box;top: 2em;bottom: 0;left: 50%;}#sk-a839d035-4788-450f-9f8e-57591170cf3d div.sk-parallel-item {display: flex;flex-direction: column;position: relative;background-color: white;}#sk-a839d035-4788-450f-9f8e-57591170cf3d div.sk-parallel-item:first-child::after {align-self: flex-end;width: 50%;}#sk-a839d035-4788-450f-9f8e-57591170cf3d div.sk-parallel-item:last-child::after {align-self: flex-start;width: 50%;}#sk-a839d035-4788-450f-9f8e-57591170cf3d div.sk-parallel-item:only-child::after {width: 0;}#sk-a839d035-4788-450f-9f8e-57591170cf3d div.sk-dashed-wrapped {border: 1px dashed gray;margin: 0 0.4em 0.5em 0.4em;box-sizing: border-box;padding-bottom: 0.4em;background-color: white;position: relative;}#sk-a839d035-4788-450f-9f8e-57591170cf3d div.sk-label label {font-family: monospace;font-weight: bold;background-color: white;display: inline-block;line-height: 1.2em;}#sk-a839d035-4788-450f-9f8e-57591170cf3d div.sk-label-container {position: relative;z-index: 2;text-align: center;}#sk-a839d035-4788-450f-9f8e-57591170cf3d div.sk-container {/* jupyter's `normalize.less` sets `[hidden] { display: none; }` but bootstrap.min.css set `[hidden] { display: none !important; }` so we also need the `!important` here to be able to override the default hidden behavior on the sphinx rendered scikit-learn.org. See: https://github.com/scikit-learn/scikit-learn/issues/21755 */display: inline-block !important;position: relative;}#sk-a839d035-4788-450f-9f8e-57591170cf3d div.sk-text-repr-fallback {display: none;}</style><div id=\"sk-a839d035-4788-450f-9f8e-57591170cf3d\" class=\"sk-top-container\"><div class=\"sk-text-repr-fallback\"><pre>Pipeline(steps=[(&#x27;standard_scaler&#x27;, StandardScaler()),\n",
       "                (&#x27;classifier&#x27;, LogisticRegression())])</pre><b>Please rerun this cell to show the HTML repr or trust the notebook.</b></div><div class=\"sk-container\" hidden><div class=\"sk-item sk-dashed-wrapped\"><div class=\"sk-label-container\"><div class=\"sk-label sk-toggleable\"><input class=\"sk-toggleable__control sk-hidden--visually\" id=\"1ac51285-01d7-4875-b798-497d4d339f61\" type=\"checkbox\" ><label for=\"1ac51285-01d7-4875-b798-497d4d339f61\" class=\"sk-toggleable__label sk-toggleable__label-arrow\">Pipeline</label><div class=\"sk-toggleable__content\"><pre>Pipeline(steps=[(&#x27;standard_scaler&#x27;, StandardScaler()),\n",
       "                (&#x27;classifier&#x27;, LogisticRegression())])</pre></div></div></div><div class=\"sk-serial\"><div class=\"sk-item\"><div class=\"sk-estimator sk-toggleable\"><input class=\"sk-toggleable__control sk-hidden--visually\" id=\"2ac1f449-a38a-4bb8-9680-9d3bbca09c96\" type=\"checkbox\" ><label for=\"2ac1f449-a38a-4bb8-9680-9d3bbca09c96\" class=\"sk-toggleable__label sk-toggleable__label-arrow\">StandardScaler</label><div class=\"sk-toggleable__content\"><pre>StandardScaler()</pre></div></div></div><div class=\"sk-item\"><div class=\"sk-estimator sk-toggleable\"><input class=\"sk-toggleable__control sk-hidden--visually\" id=\"df4cfec5-f47b-4420-a168-7bffc81e43fc\" type=\"checkbox\" ><label for=\"df4cfec5-f47b-4420-a168-7bffc81e43fc\" class=\"sk-toggleable__label sk-toggleable__label-arrow\">LogisticRegression</label><div class=\"sk-toggleable__content\"><pre>LogisticRegression()</pre></div></div></div></div></div></div></div>"
      ],
      "text/plain": [
       "Pipeline(steps=[('standard_scaler', StandardScaler()),\n",
       "                ('classifier', LogisticRegression())])"
      ]
     },
     "execution_count": 18,
     "metadata": {},
     "output_type": "execute_result"
    }
   ],
   "source": [
    "pipe.fit(X_train, y_train)"
   ]
  },
  {
   "cell_type": "markdown",
   "id": "62c6f74e",
   "metadata": {},
   "source": [
    "### 8. Prediction"
   ]
  },
  {
   "cell_type": "code",
   "execution_count": 19,
   "id": "4ac54372",
   "metadata": {},
   "outputs": [],
   "source": [
    "y_pred = pipe.predict(X_test)"
   ]
  },
  {
   "cell_type": "code",
   "execution_count": 20,
   "id": "58def95c",
   "metadata": {},
   "outputs": [
    {
     "data": {
      "text/plain": [
       "array([1, 0, 0, 1, 1, 0, 1, 1, 0, 1, 1, 1, 0, 0, 1, 1, 0, 0, 1, 1, 1, 1,\n",
       "       1, 0, 0, 1, 0, 1, 1, 1, 0, 1, 1])"
      ]
     },
     "execution_count": 20,
     "metadata": {},
     "output_type": "execute_result"
    }
   ],
   "source": [
    "y_pred"
   ]
  },
  {
   "cell_type": "markdown",
   "id": "29cc2010",
   "metadata": {},
   "source": [
    "**Inference:**\n",
    "\n",
    "- In prediction, when *X_test* passes through this *StandardScaler* pipeline, It performs only *transform()* method. \n",
    "\n",
    "- This is how we can use pipelines. We can combine the transformation and feature scaling techniques."
   ]
  },
  {
   "cell_type": "markdown",
   "id": "86a1e8ea",
   "metadata": {},
   "source": [
    "## Pipeline Implementation Example 2"
   ]
  },
  {
   "cell_type": "markdown",
   "id": "b3df9ae3",
   "metadata": {},
   "source": [
    "### 1. Import PCA and SVC"
   ]
  },
  {
   "cell_type": "code",
   "execution_count": 21,
   "id": "e64d74b9",
   "metadata": {},
   "outputs": [],
   "source": [
    "from sklearn.decomposition import PCA\n",
    "from sklearn.svm import SVC"
   ]
  },
  {
   "cell_type": "markdown",
   "id": "75fee60c",
   "metadata": {},
   "source": [
    "### 2. Steps to apply for model creation"
   ]
  },
  {
   "cell_type": "code",
   "execution_count": 22,
   "id": "c17daea8",
   "metadata": {},
   "outputs": [],
   "source": [
    "steps = [\n",
    "    (\"scaling\", StandardScaler()),\n",
    "    (\"PCA\", PCA(n_components=3)),\n",
    "    (\"SVC\", SVC())\n",
    "]"
   ]
  },
  {
   "cell_type": "markdown",
   "id": "84d3a35f",
   "metadata": {},
   "source": [
    "### 3. Convert the Steps into Pipeline"
   ]
  },
  {
   "cell_type": "code",
   "execution_count": 23,
   "id": "58a9e491",
   "metadata": {},
   "outputs": [],
   "source": [
    "pipe2=Pipeline(steps)"
   ]
  },
  {
   "cell_type": "code",
   "execution_count": 24,
   "id": "1e61ba6b",
   "metadata": {},
   "outputs": [
    {
     "data": {
      "text/html": [
       "<style>#sk-6bfd30c4-8a8e-4932-81b4-7079c67709dc {color: black;background-color: white;}#sk-6bfd30c4-8a8e-4932-81b4-7079c67709dc pre{padding: 0;}#sk-6bfd30c4-8a8e-4932-81b4-7079c67709dc div.sk-toggleable {background-color: white;}#sk-6bfd30c4-8a8e-4932-81b4-7079c67709dc label.sk-toggleable__label {cursor: pointer;display: block;width: 100%;margin-bottom: 0;padding: 0.3em;box-sizing: border-box;text-align: center;}#sk-6bfd30c4-8a8e-4932-81b4-7079c67709dc label.sk-toggleable__label-arrow:before {content: \"▸\";float: left;margin-right: 0.25em;color: #696969;}#sk-6bfd30c4-8a8e-4932-81b4-7079c67709dc label.sk-toggleable__label-arrow:hover:before {color: black;}#sk-6bfd30c4-8a8e-4932-81b4-7079c67709dc div.sk-estimator:hover label.sk-toggleable__label-arrow:before {color: black;}#sk-6bfd30c4-8a8e-4932-81b4-7079c67709dc div.sk-toggleable__content {max-height: 0;max-width: 0;overflow: hidden;text-align: left;background-color: #f0f8ff;}#sk-6bfd30c4-8a8e-4932-81b4-7079c67709dc div.sk-toggleable__content pre {margin: 0.2em;color: black;border-radius: 0.25em;background-color: #f0f8ff;}#sk-6bfd30c4-8a8e-4932-81b4-7079c67709dc input.sk-toggleable__control:checked~div.sk-toggleable__content {max-height: 200px;max-width: 100%;overflow: auto;}#sk-6bfd30c4-8a8e-4932-81b4-7079c67709dc input.sk-toggleable__control:checked~label.sk-toggleable__label-arrow:before {content: \"▾\";}#sk-6bfd30c4-8a8e-4932-81b4-7079c67709dc div.sk-estimator input.sk-toggleable__control:checked~label.sk-toggleable__label {background-color: #d4ebff;}#sk-6bfd30c4-8a8e-4932-81b4-7079c67709dc div.sk-label input.sk-toggleable__control:checked~label.sk-toggleable__label {background-color: #d4ebff;}#sk-6bfd30c4-8a8e-4932-81b4-7079c67709dc input.sk-hidden--visually {border: 0;clip: rect(1px 1px 1px 1px);clip: rect(1px, 1px, 1px, 1px);height: 1px;margin: -1px;overflow: hidden;padding: 0;position: absolute;width: 1px;}#sk-6bfd30c4-8a8e-4932-81b4-7079c67709dc div.sk-estimator {font-family: monospace;background-color: #f0f8ff;border: 1px dotted black;border-radius: 0.25em;box-sizing: border-box;margin-bottom: 0.5em;}#sk-6bfd30c4-8a8e-4932-81b4-7079c67709dc div.sk-estimator:hover {background-color: #d4ebff;}#sk-6bfd30c4-8a8e-4932-81b4-7079c67709dc div.sk-parallel-item::after {content: \"\";width: 100%;border-bottom: 1px solid gray;flex-grow: 1;}#sk-6bfd30c4-8a8e-4932-81b4-7079c67709dc div.sk-label:hover label.sk-toggleable__label {background-color: #d4ebff;}#sk-6bfd30c4-8a8e-4932-81b4-7079c67709dc div.sk-serial::before {content: \"\";position: absolute;border-left: 1px solid gray;box-sizing: border-box;top: 2em;bottom: 0;left: 50%;}#sk-6bfd30c4-8a8e-4932-81b4-7079c67709dc div.sk-serial {display: flex;flex-direction: column;align-items: center;background-color: white;padding-right: 0.2em;padding-left: 0.2em;}#sk-6bfd30c4-8a8e-4932-81b4-7079c67709dc div.sk-item {z-index: 1;}#sk-6bfd30c4-8a8e-4932-81b4-7079c67709dc div.sk-parallel {display: flex;align-items: stretch;justify-content: center;background-color: white;}#sk-6bfd30c4-8a8e-4932-81b4-7079c67709dc div.sk-parallel::before {content: \"\";position: absolute;border-left: 1px solid gray;box-sizing: border-box;top: 2em;bottom: 0;left: 50%;}#sk-6bfd30c4-8a8e-4932-81b4-7079c67709dc div.sk-parallel-item {display: flex;flex-direction: column;position: relative;background-color: white;}#sk-6bfd30c4-8a8e-4932-81b4-7079c67709dc div.sk-parallel-item:first-child::after {align-self: flex-end;width: 50%;}#sk-6bfd30c4-8a8e-4932-81b4-7079c67709dc div.sk-parallel-item:last-child::after {align-self: flex-start;width: 50%;}#sk-6bfd30c4-8a8e-4932-81b4-7079c67709dc div.sk-parallel-item:only-child::after {width: 0;}#sk-6bfd30c4-8a8e-4932-81b4-7079c67709dc div.sk-dashed-wrapped {border: 1px dashed gray;margin: 0 0.4em 0.5em 0.4em;box-sizing: border-box;padding-bottom: 0.4em;background-color: white;position: relative;}#sk-6bfd30c4-8a8e-4932-81b4-7079c67709dc div.sk-label label {font-family: monospace;font-weight: bold;background-color: white;display: inline-block;line-height: 1.2em;}#sk-6bfd30c4-8a8e-4932-81b4-7079c67709dc div.sk-label-container {position: relative;z-index: 2;text-align: center;}#sk-6bfd30c4-8a8e-4932-81b4-7079c67709dc div.sk-container {/* jupyter's `normalize.less` sets `[hidden] { display: none; }` but bootstrap.min.css set `[hidden] { display: none !important; }` so we also need the `!important` here to be able to override the default hidden behavior on the sphinx rendered scikit-learn.org. See: https://github.com/scikit-learn/scikit-learn/issues/21755 */display: inline-block !important;position: relative;}#sk-6bfd30c4-8a8e-4932-81b4-7079c67709dc div.sk-text-repr-fallback {display: none;}</style><div id=\"sk-6bfd30c4-8a8e-4932-81b4-7079c67709dc\" class=\"sk-top-container\"><div class=\"sk-text-repr-fallback\"><pre>Pipeline(steps=[(&#x27;scaling&#x27;, StandardScaler()), (&#x27;PCA&#x27;, PCA(n_components=3)),\n",
       "                (&#x27;SVC&#x27;, SVC())])</pre><b>Please rerun this cell to show the HTML repr or trust the notebook.</b></div><div class=\"sk-container\" hidden><div class=\"sk-item sk-dashed-wrapped\"><div class=\"sk-label-container\"><div class=\"sk-label sk-toggleable\"><input class=\"sk-toggleable__control sk-hidden--visually\" id=\"926c470b-9c58-4496-8085-59018cc4aead\" type=\"checkbox\" ><label for=\"926c470b-9c58-4496-8085-59018cc4aead\" class=\"sk-toggleable__label sk-toggleable__label-arrow\">Pipeline</label><div class=\"sk-toggleable__content\"><pre>Pipeline(steps=[(&#x27;scaling&#x27;, StandardScaler()), (&#x27;PCA&#x27;, PCA(n_components=3)),\n",
       "                (&#x27;SVC&#x27;, SVC())])</pre></div></div></div><div class=\"sk-serial\"><div class=\"sk-item\"><div class=\"sk-estimator sk-toggleable\"><input class=\"sk-toggleable__control sk-hidden--visually\" id=\"583f858d-e7fe-43b3-b34d-07f41cd29910\" type=\"checkbox\" ><label for=\"583f858d-e7fe-43b3-b34d-07f41cd29910\" class=\"sk-toggleable__label sk-toggleable__label-arrow\">StandardScaler</label><div class=\"sk-toggleable__content\"><pre>StandardScaler()</pre></div></div></div><div class=\"sk-item\"><div class=\"sk-estimator sk-toggleable\"><input class=\"sk-toggleable__control sk-hidden--visually\" id=\"888b1619-fb94-4b68-8078-d5de9263549e\" type=\"checkbox\" ><label for=\"888b1619-fb94-4b68-8078-d5de9263549e\" class=\"sk-toggleable__label sk-toggleable__label-arrow\">PCA</label><div class=\"sk-toggleable__content\"><pre>PCA(n_components=3)</pre></div></div></div><div class=\"sk-item\"><div class=\"sk-estimator sk-toggleable\"><input class=\"sk-toggleable__control sk-hidden--visually\" id=\"b78c1f4f-8a1f-4862-8aa1-6f7be9247c45\" type=\"checkbox\" ><label for=\"b78c1f4f-8a1f-4862-8aa1-6f7be9247c45\" class=\"sk-toggleable__label sk-toggleable__label-arrow\">SVC</label><div class=\"sk-toggleable__content\"><pre>SVC()</pre></div></div></div></div></div></div></div>"
      ],
      "text/plain": [
       "Pipeline(steps=[('scaling', StandardScaler()), ('PCA', PCA(n_components=3)),\n",
       "                ('SVC', SVC())])"
      ]
     },
     "execution_count": 24,
     "metadata": {},
     "output_type": "execute_result"
    }
   ],
   "source": [
    "pipe2"
   ]
  },
  {
   "cell_type": "markdown",
   "id": "5d0cbb67",
   "metadata": {},
   "source": [
    "**Inference:**\n",
    "    \n",
    "    This means in the first step we apply standard scaler, followed by PCA and SVC."
   ]
  },
  {
   "cell_type": "markdown",
   "id": "fa0363c1",
   "metadata": {},
   "source": [
    "### 4. Fit the pipeline on X_train and y_train"
   ]
  },
  {
   "cell_type": "code",
   "execution_count": 25,
   "id": "a01c6ff0",
   "metadata": {},
   "outputs": [
    {
     "data": {
      "text/html": [
       "<style>#sk-ba005c03-6bbe-4c14-af8d-2cc0e15d62ca {color: black;background-color: white;}#sk-ba005c03-6bbe-4c14-af8d-2cc0e15d62ca pre{padding: 0;}#sk-ba005c03-6bbe-4c14-af8d-2cc0e15d62ca div.sk-toggleable {background-color: white;}#sk-ba005c03-6bbe-4c14-af8d-2cc0e15d62ca label.sk-toggleable__label {cursor: pointer;display: block;width: 100%;margin-bottom: 0;padding: 0.3em;box-sizing: border-box;text-align: center;}#sk-ba005c03-6bbe-4c14-af8d-2cc0e15d62ca label.sk-toggleable__label-arrow:before {content: \"▸\";float: left;margin-right: 0.25em;color: #696969;}#sk-ba005c03-6bbe-4c14-af8d-2cc0e15d62ca label.sk-toggleable__label-arrow:hover:before {color: black;}#sk-ba005c03-6bbe-4c14-af8d-2cc0e15d62ca div.sk-estimator:hover label.sk-toggleable__label-arrow:before {color: black;}#sk-ba005c03-6bbe-4c14-af8d-2cc0e15d62ca div.sk-toggleable__content {max-height: 0;max-width: 0;overflow: hidden;text-align: left;background-color: #f0f8ff;}#sk-ba005c03-6bbe-4c14-af8d-2cc0e15d62ca div.sk-toggleable__content pre {margin: 0.2em;color: black;border-radius: 0.25em;background-color: #f0f8ff;}#sk-ba005c03-6bbe-4c14-af8d-2cc0e15d62ca input.sk-toggleable__control:checked~div.sk-toggleable__content {max-height: 200px;max-width: 100%;overflow: auto;}#sk-ba005c03-6bbe-4c14-af8d-2cc0e15d62ca input.sk-toggleable__control:checked~label.sk-toggleable__label-arrow:before {content: \"▾\";}#sk-ba005c03-6bbe-4c14-af8d-2cc0e15d62ca div.sk-estimator input.sk-toggleable__control:checked~label.sk-toggleable__label {background-color: #d4ebff;}#sk-ba005c03-6bbe-4c14-af8d-2cc0e15d62ca div.sk-label input.sk-toggleable__control:checked~label.sk-toggleable__label {background-color: #d4ebff;}#sk-ba005c03-6bbe-4c14-af8d-2cc0e15d62ca input.sk-hidden--visually {border: 0;clip: rect(1px 1px 1px 1px);clip: rect(1px, 1px, 1px, 1px);height: 1px;margin: -1px;overflow: hidden;padding: 0;position: absolute;width: 1px;}#sk-ba005c03-6bbe-4c14-af8d-2cc0e15d62ca div.sk-estimator {font-family: monospace;background-color: #f0f8ff;border: 1px dotted black;border-radius: 0.25em;box-sizing: border-box;margin-bottom: 0.5em;}#sk-ba005c03-6bbe-4c14-af8d-2cc0e15d62ca div.sk-estimator:hover {background-color: #d4ebff;}#sk-ba005c03-6bbe-4c14-af8d-2cc0e15d62ca div.sk-parallel-item::after {content: \"\";width: 100%;border-bottom: 1px solid gray;flex-grow: 1;}#sk-ba005c03-6bbe-4c14-af8d-2cc0e15d62ca div.sk-label:hover label.sk-toggleable__label {background-color: #d4ebff;}#sk-ba005c03-6bbe-4c14-af8d-2cc0e15d62ca div.sk-serial::before {content: \"\";position: absolute;border-left: 1px solid gray;box-sizing: border-box;top: 2em;bottom: 0;left: 50%;}#sk-ba005c03-6bbe-4c14-af8d-2cc0e15d62ca div.sk-serial {display: flex;flex-direction: column;align-items: center;background-color: white;padding-right: 0.2em;padding-left: 0.2em;}#sk-ba005c03-6bbe-4c14-af8d-2cc0e15d62ca div.sk-item {z-index: 1;}#sk-ba005c03-6bbe-4c14-af8d-2cc0e15d62ca div.sk-parallel {display: flex;align-items: stretch;justify-content: center;background-color: white;}#sk-ba005c03-6bbe-4c14-af8d-2cc0e15d62ca div.sk-parallel::before {content: \"\";position: absolute;border-left: 1px solid gray;box-sizing: border-box;top: 2em;bottom: 0;left: 50%;}#sk-ba005c03-6bbe-4c14-af8d-2cc0e15d62ca div.sk-parallel-item {display: flex;flex-direction: column;position: relative;background-color: white;}#sk-ba005c03-6bbe-4c14-af8d-2cc0e15d62ca div.sk-parallel-item:first-child::after {align-self: flex-end;width: 50%;}#sk-ba005c03-6bbe-4c14-af8d-2cc0e15d62ca div.sk-parallel-item:last-child::after {align-self: flex-start;width: 50%;}#sk-ba005c03-6bbe-4c14-af8d-2cc0e15d62ca div.sk-parallel-item:only-child::after {width: 0;}#sk-ba005c03-6bbe-4c14-af8d-2cc0e15d62ca div.sk-dashed-wrapped {border: 1px dashed gray;margin: 0 0.4em 0.5em 0.4em;box-sizing: border-box;padding-bottom: 0.4em;background-color: white;position: relative;}#sk-ba005c03-6bbe-4c14-af8d-2cc0e15d62ca div.sk-label label {font-family: monospace;font-weight: bold;background-color: white;display: inline-block;line-height: 1.2em;}#sk-ba005c03-6bbe-4c14-af8d-2cc0e15d62ca div.sk-label-container {position: relative;z-index: 2;text-align: center;}#sk-ba005c03-6bbe-4c14-af8d-2cc0e15d62ca div.sk-container {/* jupyter's `normalize.less` sets `[hidden] { display: none; }` but bootstrap.min.css set `[hidden] { display: none !important; }` so we also need the `!important` here to be able to override the default hidden behavior on the sphinx rendered scikit-learn.org. See: https://github.com/scikit-learn/scikit-learn/issues/21755 */display: inline-block !important;position: relative;}#sk-ba005c03-6bbe-4c14-af8d-2cc0e15d62ca div.sk-text-repr-fallback {display: none;}</style><div id=\"sk-ba005c03-6bbe-4c14-af8d-2cc0e15d62ca\" class=\"sk-top-container\"><div class=\"sk-text-repr-fallback\"><pre>Pipeline(steps=[(&#x27;scaling&#x27;, StandardScaler()), (&#x27;PCA&#x27;, PCA(n_components=3)),\n",
       "                (&#x27;SVC&#x27;, SVC())])</pre><b>Please rerun this cell to show the HTML repr or trust the notebook.</b></div><div class=\"sk-container\" hidden><div class=\"sk-item sk-dashed-wrapped\"><div class=\"sk-label-container\"><div class=\"sk-label sk-toggleable\"><input class=\"sk-toggleable__control sk-hidden--visually\" id=\"ea96b4cc-098b-4cb3-b4dc-58dc2318502f\" type=\"checkbox\" ><label for=\"ea96b4cc-098b-4cb3-b4dc-58dc2318502f\" class=\"sk-toggleable__label sk-toggleable__label-arrow\">Pipeline</label><div class=\"sk-toggleable__content\"><pre>Pipeline(steps=[(&#x27;scaling&#x27;, StandardScaler()), (&#x27;PCA&#x27;, PCA(n_components=3)),\n",
       "                (&#x27;SVC&#x27;, SVC())])</pre></div></div></div><div class=\"sk-serial\"><div class=\"sk-item\"><div class=\"sk-estimator sk-toggleable\"><input class=\"sk-toggleable__control sk-hidden--visually\" id=\"f02dfab2-0d2c-4abe-9af6-3ce8a531f287\" type=\"checkbox\" ><label for=\"f02dfab2-0d2c-4abe-9af6-3ce8a531f287\" class=\"sk-toggleable__label sk-toggleable__label-arrow\">StandardScaler</label><div class=\"sk-toggleable__content\"><pre>StandardScaler()</pre></div></div></div><div class=\"sk-item\"><div class=\"sk-estimator sk-toggleable\"><input class=\"sk-toggleable__control sk-hidden--visually\" id=\"16a0c8c3-fd9a-4af1-915e-79e22e19fa47\" type=\"checkbox\" ><label for=\"16a0c8c3-fd9a-4af1-915e-79e22e19fa47\" class=\"sk-toggleable__label sk-toggleable__label-arrow\">PCA</label><div class=\"sk-toggleable__content\"><pre>PCA(n_components=3)</pre></div></div></div><div class=\"sk-item\"><div class=\"sk-estimator sk-toggleable\"><input class=\"sk-toggleable__control sk-hidden--visually\" id=\"c887b992-6ada-4b3c-ada6-0d4ce036c91a\" type=\"checkbox\" ><label for=\"c887b992-6ada-4b3c-ada6-0d4ce036c91a\" class=\"sk-toggleable__label sk-toggleable__label-arrow\">SVC</label><div class=\"sk-toggleable__content\"><pre>SVC()</pre></div></div></div></div></div></div></div>"
      ],
      "text/plain": [
       "Pipeline(steps=[('scaling', StandardScaler()), ('PCA', PCA(n_components=3)),\n",
       "                ('SVC', SVC())])"
      ]
     },
     "execution_count": 25,
     "metadata": {},
     "output_type": "execute_result"
    }
   ],
   "source": [
    "pipe2.fit(X_train,y_train)"
   ]
  },
  {
   "cell_type": "markdown",
   "id": "9fb7a590",
   "metadata": {},
   "source": [
    "### 5. Prediction"
   ]
  },
  {
   "cell_type": "code",
   "execution_count": 26,
   "id": "f0721a95",
   "metadata": {},
   "outputs": [
    {
     "data": {
      "text/plain": [
       "array([1, 1, 0, 0, 1, 1, 0, 1, 1, 0, 0, 1, 0, 1, 0, 1, 1, 1, 1, 1, 1, 1,\n",
       "       0, 1, 0, 1, 0, 1, 0, 0, 0, 1, 0])"
      ]
     },
     "execution_count": 26,
     "metadata": {},
     "output_type": "execute_result"
    }
   ],
   "source": [
    "pipe2.predict(X_test)"
   ]
  },
  {
   "cell_type": "markdown",
   "id": "6ed49c92",
   "metadata": {},
   "source": [
    "## Pipeline Implementation Example 3 - Column Transformer"
   ]
  },
  {
   "cell_type": "markdown",
   "id": "c2ab1297",
   "metadata": {},
   "source": [
    "### 1. Impute missing values using pipeline"
   ]
  },
  {
   "cell_type": "code",
   "execution_count": 27,
   "id": "d134b367",
   "metadata": {},
   "outputs": [],
   "source": [
    "from sklearn.impute import SimpleImputer\n",
    "from sklearn.preprocessing import StandardScaler"
   ]
  },
  {
   "cell_type": "code",
   "execution_count": 28,
   "id": "42548357",
   "metadata": {},
   "outputs": [],
   "source": [
    "import numpy as np"
   ]
  },
  {
   "cell_type": "markdown",
   "id": "59e08d6d",
   "metadata": {},
   "source": [
    "### 2. Create a numreical processing pipeline to impute missing values in numerical categories."
   ]
  },
  {
   "cell_type": "code",
   "execution_count": 29,
   "id": "37ea82c6",
   "metadata": {},
   "outputs": [],
   "source": [
    "numeric_processor = Pipeline(steps=[\n",
    "    (\"imputation_mean\", SimpleImputer(missing_values=np.nan, strategy=\"mean\")),\n",
    "    (\"scaler\", StandardScaler())\n",
    "])\n",
    "\n",
    "# here missing values replaced with nan."
   ]
  },
  {
   "cell_type": "code",
   "execution_count": 30,
   "id": "d78696cf",
   "metadata": {},
   "outputs": [
    {
     "data": {
      "text/html": [
       "<style>#sk-d2db81e3-740f-4e05-b5f5-e09621388d95 {color: black;background-color: white;}#sk-d2db81e3-740f-4e05-b5f5-e09621388d95 pre{padding: 0;}#sk-d2db81e3-740f-4e05-b5f5-e09621388d95 div.sk-toggleable {background-color: white;}#sk-d2db81e3-740f-4e05-b5f5-e09621388d95 label.sk-toggleable__label {cursor: pointer;display: block;width: 100%;margin-bottom: 0;padding: 0.3em;box-sizing: border-box;text-align: center;}#sk-d2db81e3-740f-4e05-b5f5-e09621388d95 label.sk-toggleable__label-arrow:before {content: \"▸\";float: left;margin-right: 0.25em;color: #696969;}#sk-d2db81e3-740f-4e05-b5f5-e09621388d95 label.sk-toggleable__label-arrow:hover:before {color: black;}#sk-d2db81e3-740f-4e05-b5f5-e09621388d95 div.sk-estimator:hover label.sk-toggleable__label-arrow:before {color: black;}#sk-d2db81e3-740f-4e05-b5f5-e09621388d95 div.sk-toggleable__content {max-height: 0;max-width: 0;overflow: hidden;text-align: left;background-color: #f0f8ff;}#sk-d2db81e3-740f-4e05-b5f5-e09621388d95 div.sk-toggleable__content pre {margin: 0.2em;color: black;border-radius: 0.25em;background-color: #f0f8ff;}#sk-d2db81e3-740f-4e05-b5f5-e09621388d95 input.sk-toggleable__control:checked~div.sk-toggleable__content {max-height: 200px;max-width: 100%;overflow: auto;}#sk-d2db81e3-740f-4e05-b5f5-e09621388d95 input.sk-toggleable__control:checked~label.sk-toggleable__label-arrow:before {content: \"▾\";}#sk-d2db81e3-740f-4e05-b5f5-e09621388d95 div.sk-estimator input.sk-toggleable__control:checked~label.sk-toggleable__label {background-color: #d4ebff;}#sk-d2db81e3-740f-4e05-b5f5-e09621388d95 div.sk-label input.sk-toggleable__control:checked~label.sk-toggleable__label {background-color: #d4ebff;}#sk-d2db81e3-740f-4e05-b5f5-e09621388d95 input.sk-hidden--visually {border: 0;clip: rect(1px 1px 1px 1px);clip: rect(1px, 1px, 1px, 1px);height: 1px;margin: -1px;overflow: hidden;padding: 0;position: absolute;width: 1px;}#sk-d2db81e3-740f-4e05-b5f5-e09621388d95 div.sk-estimator {font-family: monospace;background-color: #f0f8ff;border: 1px dotted black;border-radius: 0.25em;box-sizing: border-box;margin-bottom: 0.5em;}#sk-d2db81e3-740f-4e05-b5f5-e09621388d95 div.sk-estimator:hover {background-color: #d4ebff;}#sk-d2db81e3-740f-4e05-b5f5-e09621388d95 div.sk-parallel-item::after {content: \"\";width: 100%;border-bottom: 1px solid gray;flex-grow: 1;}#sk-d2db81e3-740f-4e05-b5f5-e09621388d95 div.sk-label:hover label.sk-toggleable__label {background-color: #d4ebff;}#sk-d2db81e3-740f-4e05-b5f5-e09621388d95 div.sk-serial::before {content: \"\";position: absolute;border-left: 1px solid gray;box-sizing: border-box;top: 2em;bottom: 0;left: 50%;}#sk-d2db81e3-740f-4e05-b5f5-e09621388d95 div.sk-serial {display: flex;flex-direction: column;align-items: center;background-color: white;padding-right: 0.2em;padding-left: 0.2em;}#sk-d2db81e3-740f-4e05-b5f5-e09621388d95 div.sk-item {z-index: 1;}#sk-d2db81e3-740f-4e05-b5f5-e09621388d95 div.sk-parallel {display: flex;align-items: stretch;justify-content: center;background-color: white;}#sk-d2db81e3-740f-4e05-b5f5-e09621388d95 div.sk-parallel::before {content: \"\";position: absolute;border-left: 1px solid gray;box-sizing: border-box;top: 2em;bottom: 0;left: 50%;}#sk-d2db81e3-740f-4e05-b5f5-e09621388d95 div.sk-parallel-item {display: flex;flex-direction: column;position: relative;background-color: white;}#sk-d2db81e3-740f-4e05-b5f5-e09621388d95 div.sk-parallel-item:first-child::after {align-self: flex-end;width: 50%;}#sk-d2db81e3-740f-4e05-b5f5-e09621388d95 div.sk-parallel-item:last-child::after {align-self: flex-start;width: 50%;}#sk-d2db81e3-740f-4e05-b5f5-e09621388d95 div.sk-parallel-item:only-child::after {width: 0;}#sk-d2db81e3-740f-4e05-b5f5-e09621388d95 div.sk-dashed-wrapped {border: 1px dashed gray;margin: 0 0.4em 0.5em 0.4em;box-sizing: border-box;padding-bottom: 0.4em;background-color: white;position: relative;}#sk-d2db81e3-740f-4e05-b5f5-e09621388d95 div.sk-label label {font-family: monospace;font-weight: bold;background-color: white;display: inline-block;line-height: 1.2em;}#sk-d2db81e3-740f-4e05-b5f5-e09621388d95 div.sk-label-container {position: relative;z-index: 2;text-align: center;}#sk-d2db81e3-740f-4e05-b5f5-e09621388d95 div.sk-container {/* jupyter's `normalize.less` sets `[hidden] { display: none; }` but bootstrap.min.css set `[hidden] { display: none !important; }` so we also need the `!important` here to be able to override the default hidden behavior on the sphinx rendered scikit-learn.org. See: https://github.com/scikit-learn/scikit-learn/issues/21755 */display: inline-block !important;position: relative;}#sk-d2db81e3-740f-4e05-b5f5-e09621388d95 div.sk-text-repr-fallback {display: none;}</style><div id=\"sk-d2db81e3-740f-4e05-b5f5-e09621388d95\" class=\"sk-top-container\"><div class=\"sk-text-repr-fallback\"><pre>Pipeline(steps=[(&#x27;imputation_mean&#x27;, SimpleImputer()),\n",
       "                (&#x27;scaler&#x27;, StandardScaler())])</pre><b>Please rerun this cell to show the HTML repr or trust the notebook.</b></div><div class=\"sk-container\" hidden><div class=\"sk-item sk-dashed-wrapped\"><div class=\"sk-label-container\"><div class=\"sk-label sk-toggleable\"><input class=\"sk-toggleable__control sk-hidden--visually\" id=\"db540a46-b361-47b4-8eae-32a183a0959a\" type=\"checkbox\" ><label for=\"db540a46-b361-47b4-8eae-32a183a0959a\" class=\"sk-toggleable__label sk-toggleable__label-arrow\">Pipeline</label><div class=\"sk-toggleable__content\"><pre>Pipeline(steps=[(&#x27;imputation_mean&#x27;, SimpleImputer()),\n",
       "                (&#x27;scaler&#x27;, StandardScaler())])</pre></div></div></div><div class=\"sk-serial\"><div class=\"sk-item\"><div class=\"sk-estimator sk-toggleable\"><input class=\"sk-toggleable__control sk-hidden--visually\" id=\"294e535e-22b4-4df6-a3c0-5bca317b036b\" type=\"checkbox\" ><label for=\"294e535e-22b4-4df6-a3c0-5bca317b036b\" class=\"sk-toggleable__label sk-toggleable__label-arrow\">SimpleImputer</label><div class=\"sk-toggleable__content\"><pre>SimpleImputer()</pre></div></div></div><div class=\"sk-item\"><div class=\"sk-estimator sk-toggleable\"><input class=\"sk-toggleable__control sk-hidden--visually\" id=\"5325dc36-24b9-4b76-8ad4-917bc0b38e24\" type=\"checkbox\" ><label for=\"5325dc36-24b9-4b76-8ad4-917bc0b38e24\" class=\"sk-toggleable__label sk-toggleable__label-arrow\">StandardScaler</label><div class=\"sk-toggleable__content\"><pre>StandardScaler()</pre></div></div></div></div></div></div></div>"
      ],
      "text/plain": [
       "Pipeline(steps=[('imputation_mean', SimpleImputer()),\n",
       "                ('scaler', StandardScaler())])"
      ]
     },
     "execution_count": 30,
     "metadata": {},
     "output_type": "execute_result"
    }
   ],
   "source": [
    "numeric_processor"
   ]
  },
  {
   "cell_type": "markdown",
   "id": "9f1a2183",
   "metadata": {},
   "source": [
    "**Inference**\n",
    "\n",
    "Here first step is Simple Imputer followed by Standard scaling."
   ]
  },
  {
   "cell_type": "markdown",
   "id": "7afcc96d",
   "metadata": {},
   "source": [
    "## 3. Categorical prcessing pipeline to impute missing data in categorical columns\n",
    "\n",
    "**Steps**\n",
    "\n",
    "    1. Simple Imputation\n",
    "    2. One Hot Encoding"
   ]
  },
  {
   "cell_type": "code",
   "execution_count": 31,
   "id": "577d5848",
   "metadata": {},
   "outputs": [],
   "source": [
    "from sklearn.preprocessing import OneHotEncoder\n",
    "\n",
    "categorical_processing = Pipeline(steps=[\n",
    "    (\"imputation_constant\", SimpleImputer(fill_value=\"missing\", strategy=\"constant\")),\n",
    "    (\"onehot_encoding\", OneHotEncoder(handle_unknown=\"ignore\"))\n",
    "])"
   ]
  },
  {
   "cell_type": "code",
   "execution_count": 32,
   "id": "e95e72e2",
   "metadata": {},
   "outputs": [
    {
     "data": {
      "text/html": [
       "<style>#sk-d76486ad-dc9d-4aaa-ae85-dca1bba5b5ee {color: black;background-color: white;}#sk-d76486ad-dc9d-4aaa-ae85-dca1bba5b5ee pre{padding: 0;}#sk-d76486ad-dc9d-4aaa-ae85-dca1bba5b5ee div.sk-toggleable {background-color: white;}#sk-d76486ad-dc9d-4aaa-ae85-dca1bba5b5ee label.sk-toggleable__label {cursor: pointer;display: block;width: 100%;margin-bottom: 0;padding: 0.3em;box-sizing: border-box;text-align: center;}#sk-d76486ad-dc9d-4aaa-ae85-dca1bba5b5ee label.sk-toggleable__label-arrow:before {content: \"▸\";float: left;margin-right: 0.25em;color: #696969;}#sk-d76486ad-dc9d-4aaa-ae85-dca1bba5b5ee label.sk-toggleable__label-arrow:hover:before {color: black;}#sk-d76486ad-dc9d-4aaa-ae85-dca1bba5b5ee div.sk-estimator:hover label.sk-toggleable__label-arrow:before {color: black;}#sk-d76486ad-dc9d-4aaa-ae85-dca1bba5b5ee div.sk-toggleable__content {max-height: 0;max-width: 0;overflow: hidden;text-align: left;background-color: #f0f8ff;}#sk-d76486ad-dc9d-4aaa-ae85-dca1bba5b5ee div.sk-toggleable__content pre {margin: 0.2em;color: black;border-radius: 0.25em;background-color: #f0f8ff;}#sk-d76486ad-dc9d-4aaa-ae85-dca1bba5b5ee input.sk-toggleable__control:checked~div.sk-toggleable__content {max-height: 200px;max-width: 100%;overflow: auto;}#sk-d76486ad-dc9d-4aaa-ae85-dca1bba5b5ee input.sk-toggleable__control:checked~label.sk-toggleable__label-arrow:before {content: \"▾\";}#sk-d76486ad-dc9d-4aaa-ae85-dca1bba5b5ee div.sk-estimator input.sk-toggleable__control:checked~label.sk-toggleable__label {background-color: #d4ebff;}#sk-d76486ad-dc9d-4aaa-ae85-dca1bba5b5ee div.sk-label input.sk-toggleable__control:checked~label.sk-toggleable__label {background-color: #d4ebff;}#sk-d76486ad-dc9d-4aaa-ae85-dca1bba5b5ee input.sk-hidden--visually {border: 0;clip: rect(1px 1px 1px 1px);clip: rect(1px, 1px, 1px, 1px);height: 1px;margin: -1px;overflow: hidden;padding: 0;position: absolute;width: 1px;}#sk-d76486ad-dc9d-4aaa-ae85-dca1bba5b5ee div.sk-estimator {font-family: monospace;background-color: #f0f8ff;border: 1px dotted black;border-radius: 0.25em;box-sizing: border-box;margin-bottom: 0.5em;}#sk-d76486ad-dc9d-4aaa-ae85-dca1bba5b5ee div.sk-estimator:hover {background-color: #d4ebff;}#sk-d76486ad-dc9d-4aaa-ae85-dca1bba5b5ee div.sk-parallel-item::after {content: \"\";width: 100%;border-bottom: 1px solid gray;flex-grow: 1;}#sk-d76486ad-dc9d-4aaa-ae85-dca1bba5b5ee div.sk-label:hover label.sk-toggleable__label {background-color: #d4ebff;}#sk-d76486ad-dc9d-4aaa-ae85-dca1bba5b5ee div.sk-serial::before {content: \"\";position: absolute;border-left: 1px solid gray;box-sizing: border-box;top: 2em;bottom: 0;left: 50%;}#sk-d76486ad-dc9d-4aaa-ae85-dca1bba5b5ee div.sk-serial {display: flex;flex-direction: column;align-items: center;background-color: white;padding-right: 0.2em;padding-left: 0.2em;}#sk-d76486ad-dc9d-4aaa-ae85-dca1bba5b5ee div.sk-item {z-index: 1;}#sk-d76486ad-dc9d-4aaa-ae85-dca1bba5b5ee div.sk-parallel {display: flex;align-items: stretch;justify-content: center;background-color: white;}#sk-d76486ad-dc9d-4aaa-ae85-dca1bba5b5ee div.sk-parallel::before {content: \"\";position: absolute;border-left: 1px solid gray;box-sizing: border-box;top: 2em;bottom: 0;left: 50%;}#sk-d76486ad-dc9d-4aaa-ae85-dca1bba5b5ee div.sk-parallel-item {display: flex;flex-direction: column;position: relative;background-color: white;}#sk-d76486ad-dc9d-4aaa-ae85-dca1bba5b5ee div.sk-parallel-item:first-child::after {align-self: flex-end;width: 50%;}#sk-d76486ad-dc9d-4aaa-ae85-dca1bba5b5ee div.sk-parallel-item:last-child::after {align-self: flex-start;width: 50%;}#sk-d76486ad-dc9d-4aaa-ae85-dca1bba5b5ee div.sk-parallel-item:only-child::after {width: 0;}#sk-d76486ad-dc9d-4aaa-ae85-dca1bba5b5ee div.sk-dashed-wrapped {border: 1px dashed gray;margin: 0 0.4em 0.5em 0.4em;box-sizing: border-box;padding-bottom: 0.4em;background-color: white;position: relative;}#sk-d76486ad-dc9d-4aaa-ae85-dca1bba5b5ee div.sk-label label {font-family: monospace;font-weight: bold;background-color: white;display: inline-block;line-height: 1.2em;}#sk-d76486ad-dc9d-4aaa-ae85-dca1bba5b5ee div.sk-label-container {position: relative;z-index: 2;text-align: center;}#sk-d76486ad-dc9d-4aaa-ae85-dca1bba5b5ee div.sk-container {/* jupyter's `normalize.less` sets `[hidden] { display: none; }` but bootstrap.min.css set `[hidden] { display: none !important; }` so we also need the `!important` here to be able to override the default hidden behavior on the sphinx rendered scikit-learn.org. See: https://github.com/scikit-learn/scikit-learn/issues/21755 */display: inline-block !important;position: relative;}#sk-d76486ad-dc9d-4aaa-ae85-dca1bba5b5ee div.sk-text-repr-fallback {display: none;}</style><div id=\"sk-d76486ad-dc9d-4aaa-ae85-dca1bba5b5ee\" class=\"sk-top-container\"><div class=\"sk-text-repr-fallback\"><pre>Pipeline(steps=[(&#x27;imputation_constant&#x27;,\n",
       "                 SimpleImputer(fill_value=&#x27;missing&#x27;, strategy=&#x27;constant&#x27;)),\n",
       "                (&#x27;onehot_encoding&#x27;, OneHotEncoder(handle_unknown=&#x27;ignore&#x27;))])</pre><b>Please rerun this cell to show the HTML repr or trust the notebook.</b></div><div class=\"sk-container\" hidden><div class=\"sk-item sk-dashed-wrapped\"><div class=\"sk-label-container\"><div class=\"sk-label sk-toggleable\"><input class=\"sk-toggleable__control sk-hidden--visually\" id=\"5668dda2-3404-4a41-bba8-c6ad0dba1cc4\" type=\"checkbox\" ><label for=\"5668dda2-3404-4a41-bba8-c6ad0dba1cc4\" class=\"sk-toggleable__label sk-toggleable__label-arrow\">Pipeline</label><div class=\"sk-toggleable__content\"><pre>Pipeline(steps=[(&#x27;imputation_constant&#x27;,\n",
       "                 SimpleImputer(fill_value=&#x27;missing&#x27;, strategy=&#x27;constant&#x27;)),\n",
       "                (&#x27;onehot_encoding&#x27;, OneHotEncoder(handle_unknown=&#x27;ignore&#x27;))])</pre></div></div></div><div class=\"sk-serial\"><div class=\"sk-item\"><div class=\"sk-estimator sk-toggleable\"><input class=\"sk-toggleable__control sk-hidden--visually\" id=\"209c06dd-63b2-4558-b9d4-564c2cc6057f\" type=\"checkbox\" ><label for=\"209c06dd-63b2-4558-b9d4-564c2cc6057f\" class=\"sk-toggleable__label sk-toggleable__label-arrow\">SimpleImputer</label><div class=\"sk-toggleable__content\"><pre>SimpleImputer(fill_value=&#x27;missing&#x27;, strategy=&#x27;constant&#x27;)</pre></div></div></div><div class=\"sk-item\"><div class=\"sk-estimator sk-toggleable\"><input class=\"sk-toggleable__control sk-hidden--visually\" id=\"151a593d-4160-4e34-9b41-9d70c8768cea\" type=\"checkbox\" ><label for=\"151a593d-4160-4e34-9b41-9d70c8768cea\" class=\"sk-toggleable__label sk-toggleable__label-arrow\">OneHotEncoder</label><div class=\"sk-toggleable__content\"><pre>OneHotEncoder(handle_unknown=&#x27;ignore&#x27;)</pre></div></div></div></div></div></div></div>"
      ],
      "text/plain": [
       "Pipeline(steps=[('imputation_constant',\n",
       "                 SimpleImputer(fill_value='missing', strategy='constant')),\n",
       "                ('onehot_encoding', OneHotEncoder(handle_unknown='ignore'))])"
      ]
     },
     "execution_count": 32,
     "metadata": {},
     "output_type": "execute_result"
    }
   ],
   "source": [
    "categorical_processing"
   ]
  },
  {
   "cell_type": "markdown",
   "id": "a1b22247",
   "metadata": {},
   "source": [
    "#### Inference\n",
    "\n",
    "**Steps**\n",
    "\n",
    "    1. Fill missing columns with value \"missing\".\n",
    "    2. One Hot encoding to ignore unknown things."
   ]
  },
  {
   "cell_type": "markdown",
   "id": "72df9e6b",
   "metadata": {},
   "source": [
    "## 4. Combine both the numerical and categorical pipelines"
   ]
  },
  {
   "cell_type": "code",
   "execution_count": 37,
   "id": "0cf18b9c",
   "metadata": {},
   "outputs": [],
   "source": [
    "from sklearn.compose import ColumnTransformer"
   ]
  },
  {
   "cell_type": "code",
   "execution_count": 39,
   "id": "40b18cbf",
   "metadata": {},
   "outputs": [],
   "source": [
    "preprocessor = ColumnTransformer(\n",
    "    [(\"categorical\", categorical_processing, ['gender','City']),\n",
    "     (\"numerical\", numeric_processor, ['age', 'height']),\n",
    "    ]\n",
    ")"
   ]
  },
  {
   "cell_type": "code",
   "execution_count": 40,
   "id": "7c99a072",
   "metadata": {},
   "outputs": [
    {
     "data": {
      "text/html": [
       "<style>#sk-39bb70a8-9be2-4612-b962-8ef76ffb37cc {color: black;background-color: white;}#sk-39bb70a8-9be2-4612-b962-8ef76ffb37cc pre{padding: 0;}#sk-39bb70a8-9be2-4612-b962-8ef76ffb37cc div.sk-toggleable {background-color: white;}#sk-39bb70a8-9be2-4612-b962-8ef76ffb37cc label.sk-toggleable__label {cursor: pointer;display: block;width: 100%;margin-bottom: 0;padding: 0.3em;box-sizing: border-box;text-align: center;}#sk-39bb70a8-9be2-4612-b962-8ef76ffb37cc label.sk-toggleable__label-arrow:before {content: \"▸\";float: left;margin-right: 0.25em;color: #696969;}#sk-39bb70a8-9be2-4612-b962-8ef76ffb37cc label.sk-toggleable__label-arrow:hover:before {color: black;}#sk-39bb70a8-9be2-4612-b962-8ef76ffb37cc div.sk-estimator:hover label.sk-toggleable__label-arrow:before {color: black;}#sk-39bb70a8-9be2-4612-b962-8ef76ffb37cc div.sk-toggleable__content {max-height: 0;max-width: 0;overflow: hidden;text-align: left;background-color: #f0f8ff;}#sk-39bb70a8-9be2-4612-b962-8ef76ffb37cc div.sk-toggleable__content pre {margin: 0.2em;color: black;border-radius: 0.25em;background-color: #f0f8ff;}#sk-39bb70a8-9be2-4612-b962-8ef76ffb37cc input.sk-toggleable__control:checked~div.sk-toggleable__content {max-height: 200px;max-width: 100%;overflow: auto;}#sk-39bb70a8-9be2-4612-b962-8ef76ffb37cc input.sk-toggleable__control:checked~label.sk-toggleable__label-arrow:before {content: \"▾\";}#sk-39bb70a8-9be2-4612-b962-8ef76ffb37cc div.sk-estimator input.sk-toggleable__control:checked~label.sk-toggleable__label {background-color: #d4ebff;}#sk-39bb70a8-9be2-4612-b962-8ef76ffb37cc div.sk-label input.sk-toggleable__control:checked~label.sk-toggleable__label {background-color: #d4ebff;}#sk-39bb70a8-9be2-4612-b962-8ef76ffb37cc input.sk-hidden--visually {border: 0;clip: rect(1px 1px 1px 1px);clip: rect(1px, 1px, 1px, 1px);height: 1px;margin: -1px;overflow: hidden;padding: 0;position: absolute;width: 1px;}#sk-39bb70a8-9be2-4612-b962-8ef76ffb37cc div.sk-estimator {font-family: monospace;background-color: #f0f8ff;border: 1px dotted black;border-radius: 0.25em;box-sizing: border-box;margin-bottom: 0.5em;}#sk-39bb70a8-9be2-4612-b962-8ef76ffb37cc div.sk-estimator:hover {background-color: #d4ebff;}#sk-39bb70a8-9be2-4612-b962-8ef76ffb37cc div.sk-parallel-item::after {content: \"\";width: 100%;border-bottom: 1px solid gray;flex-grow: 1;}#sk-39bb70a8-9be2-4612-b962-8ef76ffb37cc div.sk-label:hover label.sk-toggleable__label {background-color: #d4ebff;}#sk-39bb70a8-9be2-4612-b962-8ef76ffb37cc div.sk-serial::before {content: \"\";position: absolute;border-left: 1px solid gray;box-sizing: border-box;top: 2em;bottom: 0;left: 50%;}#sk-39bb70a8-9be2-4612-b962-8ef76ffb37cc div.sk-serial {display: flex;flex-direction: column;align-items: center;background-color: white;padding-right: 0.2em;padding-left: 0.2em;}#sk-39bb70a8-9be2-4612-b962-8ef76ffb37cc div.sk-item {z-index: 1;}#sk-39bb70a8-9be2-4612-b962-8ef76ffb37cc div.sk-parallel {display: flex;align-items: stretch;justify-content: center;background-color: white;}#sk-39bb70a8-9be2-4612-b962-8ef76ffb37cc div.sk-parallel::before {content: \"\";position: absolute;border-left: 1px solid gray;box-sizing: border-box;top: 2em;bottom: 0;left: 50%;}#sk-39bb70a8-9be2-4612-b962-8ef76ffb37cc div.sk-parallel-item {display: flex;flex-direction: column;position: relative;background-color: white;}#sk-39bb70a8-9be2-4612-b962-8ef76ffb37cc div.sk-parallel-item:first-child::after {align-self: flex-end;width: 50%;}#sk-39bb70a8-9be2-4612-b962-8ef76ffb37cc div.sk-parallel-item:last-child::after {align-self: flex-start;width: 50%;}#sk-39bb70a8-9be2-4612-b962-8ef76ffb37cc div.sk-parallel-item:only-child::after {width: 0;}#sk-39bb70a8-9be2-4612-b962-8ef76ffb37cc div.sk-dashed-wrapped {border: 1px dashed gray;margin: 0 0.4em 0.5em 0.4em;box-sizing: border-box;padding-bottom: 0.4em;background-color: white;position: relative;}#sk-39bb70a8-9be2-4612-b962-8ef76ffb37cc div.sk-label label {font-family: monospace;font-weight: bold;background-color: white;display: inline-block;line-height: 1.2em;}#sk-39bb70a8-9be2-4612-b962-8ef76ffb37cc div.sk-label-container {position: relative;z-index: 2;text-align: center;}#sk-39bb70a8-9be2-4612-b962-8ef76ffb37cc div.sk-container {/* jupyter's `normalize.less` sets `[hidden] { display: none; }` but bootstrap.min.css set `[hidden] { display: none !important; }` so we also need the `!important` here to be able to override the default hidden behavior on the sphinx rendered scikit-learn.org. See: https://github.com/scikit-learn/scikit-learn/issues/21755 */display: inline-block !important;position: relative;}#sk-39bb70a8-9be2-4612-b962-8ef76ffb37cc div.sk-text-repr-fallback {display: none;}</style><div id=\"sk-39bb70a8-9be2-4612-b962-8ef76ffb37cc\" class=\"sk-top-container\"><div class=\"sk-text-repr-fallback\"><pre>ColumnTransformer(transformers=[(&#x27;categorical&#x27;,\n",
       "                                 Pipeline(steps=[(&#x27;imputation_constant&#x27;,\n",
       "                                                  SimpleImputer(fill_value=&#x27;missing&#x27;,\n",
       "                                                                strategy=&#x27;constant&#x27;)),\n",
       "                                                 (&#x27;onehot_encoding&#x27;,\n",
       "                                                  OneHotEncoder(handle_unknown=&#x27;ignore&#x27;))]),\n",
       "                                 [&#x27;gender&#x27;, &#x27;City&#x27;]),\n",
       "                                (&#x27;numerical&#x27;,\n",
       "                                 Pipeline(steps=[(&#x27;imputation_mean&#x27;,\n",
       "                                                  SimpleImputer()),\n",
       "                                                 (&#x27;scaler&#x27;, StandardScaler())]),\n",
       "                                 [&#x27;age&#x27;, &#x27;height&#x27;])])</pre><b>Please rerun this cell to show the HTML repr or trust the notebook.</b></div><div class=\"sk-container\" hidden><div class=\"sk-item sk-dashed-wrapped\"><div class=\"sk-label-container\"><div class=\"sk-label sk-toggleable\"><input class=\"sk-toggleable__control sk-hidden--visually\" id=\"66b4b630-abab-4fe9-907a-f0c3d64dd656\" type=\"checkbox\" ><label for=\"66b4b630-abab-4fe9-907a-f0c3d64dd656\" class=\"sk-toggleable__label sk-toggleable__label-arrow\">ColumnTransformer</label><div class=\"sk-toggleable__content\"><pre>ColumnTransformer(transformers=[(&#x27;categorical&#x27;,\n",
       "                                 Pipeline(steps=[(&#x27;imputation_constant&#x27;,\n",
       "                                                  SimpleImputer(fill_value=&#x27;missing&#x27;,\n",
       "                                                                strategy=&#x27;constant&#x27;)),\n",
       "                                                 (&#x27;onehot_encoding&#x27;,\n",
       "                                                  OneHotEncoder(handle_unknown=&#x27;ignore&#x27;))]),\n",
       "                                 [&#x27;gender&#x27;, &#x27;City&#x27;]),\n",
       "                                (&#x27;numerical&#x27;,\n",
       "                                 Pipeline(steps=[(&#x27;imputation_mean&#x27;,\n",
       "                                                  SimpleImputer()),\n",
       "                                                 (&#x27;scaler&#x27;, StandardScaler())]),\n",
       "                                 [&#x27;age&#x27;, &#x27;height&#x27;])])</pre></div></div></div><div class=\"sk-parallel\"><div class=\"sk-parallel-item\"><div class=\"sk-item\"><div class=\"sk-label-container\"><div class=\"sk-label sk-toggleable\"><input class=\"sk-toggleable__control sk-hidden--visually\" id=\"06b9b26b-8ef1-43a7-a80b-a31ed381be2f\" type=\"checkbox\" ><label for=\"06b9b26b-8ef1-43a7-a80b-a31ed381be2f\" class=\"sk-toggleable__label sk-toggleable__label-arrow\">categorical</label><div class=\"sk-toggleable__content\"><pre>[&#x27;gender&#x27;, &#x27;City&#x27;]</pre></div></div></div><div class=\"sk-serial\"><div class=\"sk-item\"><div class=\"sk-serial\"><div class=\"sk-item\"><div class=\"sk-estimator sk-toggleable\"><input class=\"sk-toggleable__control sk-hidden--visually\" id=\"c4afdfe6-7d10-46ee-80ea-7a69996b5933\" type=\"checkbox\" ><label for=\"c4afdfe6-7d10-46ee-80ea-7a69996b5933\" class=\"sk-toggleable__label sk-toggleable__label-arrow\">SimpleImputer</label><div class=\"sk-toggleable__content\"><pre>SimpleImputer(fill_value=&#x27;missing&#x27;, strategy=&#x27;constant&#x27;)</pre></div></div></div><div class=\"sk-item\"><div class=\"sk-estimator sk-toggleable\"><input class=\"sk-toggleable__control sk-hidden--visually\" id=\"f22ac759-a2dd-459d-aaba-ba476804ce0b\" type=\"checkbox\" ><label for=\"f22ac759-a2dd-459d-aaba-ba476804ce0b\" class=\"sk-toggleable__label sk-toggleable__label-arrow\">OneHotEncoder</label><div class=\"sk-toggleable__content\"><pre>OneHotEncoder(handle_unknown=&#x27;ignore&#x27;)</pre></div></div></div></div></div></div></div></div><div class=\"sk-parallel-item\"><div class=\"sk-item\"><div class=\"sk-label-container\"><div class=\"sk-label sk-toggleable\"><input class=\"sk-toggleable__control sk-hidden--visually\" id=\"9b888ad4-0453-4f10-8cb8-b5a4fa76b7fd\" type=\"checkbox\" ><label for=\"9b888ad4-0453-4f10-8cb8-b5a4fa76b7fd\" class=\"sk-toggleable__label sk-toggleable__label-arrow\">numerical</label><div class=\"sk-toggleable__content\"><pre>[&#x27;age&#x27;, &#x27;height&#x27;]</pre></div></div></div><div class=\"sk-serial\"><div class=\"sk-item\"><div class=\"sk-serial\"><div class=\"sk-item\"><div class=\"sk-estimator sk-toggleable\"><input class=\"sk-toggleable__control sk-hidden--visually\" id=\"fbdf81d5-4b4f-4847-ad25-f45db0eebf89\" type=\"checkbox\" ><label for=\"fbdf81d5-4b4f-4847-ad25-f45db0eebf89\" class=\"sk-toggleable__label sk-toggleable__label-arrow\">SimpleImputer</label><div class=\"sk-toggleable__content\"><pre>SimpleImputer()</pre></div></div></div><div class=\"sk-item\"><div class=\"sk-estimator sk-toggleable\"><input class=\"sk-toggleable__control sk-hidden--visually\" id=\"37fd16be-1959-4195-9afc-54f87e7bc686\" type=\"checkbox\" ><label for=\"37fd16be-1959-4195-9afc-54f87e7bc686\" class=\"sk-toggleable__label sk-toggleable__label-arrow\">StandardScaler</label><div class=\"sk-toggleable__content\"><pre>StandardScaler()</pre></div></div></div></div></div></div></div></div></div></div></div></div>"
      ],
      "text/plain": [
       "ColumnTransformer(transformers=[('categorical',\n",
       "                                 Pipeline(steps=[('imputation_constant',\n",
       "                                                  SimpleImputer(fill_value='missing',\n",
       "                                                                strategy='constant')),\n",
       "                                                 ('onehot_encoding',\n",
       "                                                  OneHotEncoder(handle_unknown='ignore'))]),\n",
       "                                 ['gender', 'City']),\n",
       "                                ('numerical',\n",
       "                                 Pipeline(steps=[('imputation_mean',\n",
       "                                                  SimpleImputer()),\n",
       "                                                 ('scaler', StandardScaler())]),\n",
       "                                 ['age', 'height'])])"
      ]
     },
     "execution_count": 40,
     "metadata": {},
     "output_type": "execute_result"
    }
   ],
   "source": [
    "preprocessor"
   ]
  },
  {
   "cell_type": "markdown",
   "id": "1935af5c",
   "metadata": {},
   "source": [
    "**Inference:**\n",
    "    \n",
    "    We combined both the pipelines. In categorical, first simple imputer is applied followed by One hot encoder.\n",
    "    In numerical, first simple imputer is applied followed by standard scaler.\n",
    "    \n",
    "    Here, gender, city, age and height are columns."
   ]
  },
  {
   "cell_type": "markdown",
   "id": "417c4446",
   "metadata": {},
   "source": [
    "## 5. Create a custom pipeline and combine with an estimator"
   ]
  },
  {
   "cell_type": "code",
   "execution_count": 41,
   "id": "2a123f41",
   "metadata": {},
   "outputs": [],
   "source": [
    "from sklearn.pipeline import make_pipeline"
   ]
  },
  {
   "cell_type": "code",
   "execution_count": 44,
   "id": "a3643f88",
   "metadata": {},
   "outputs": [],
   "source": [
    "pipe = make_pipeline(preprocessor, LogisticRegression()) \n",
    "\n",
    "# estimator - LogicticRegression."
   ]
  },
  {
   "cell_type": "code",
   "execution_count": 43,
   "id": "aeff7fc7",
   "metadata": {},
   "outputs": [
    {
     "data": {
      "text/html": [
       "<style>#sk-37ca11c9-458a-4ee6-8666-10f3de6ef13c {color: black;background-color: white;}#sk-37ca11c9-458a-4ee6-8666-10f3de6ef13c pre{padding: 0;}#sk-37ca11c9-458a-4ee6-8666-10f3de6ef13c div.sk-toggleable {background-color: white;}#sk-37ca11c9-458a-4ee6-8666-10f3de6ef13c label.sk-toggleable__label {cursor: pointer;display: block;width: 100%;margin-bottom: 0;padding: 0.3em;box-sizing: border-box;text-align: center;}#sk-37ca11c9-458a-4ee6-8666-10f3de6ef13c label.sk-toggleable__label-arrow:before {content: \"▸\";float: left;margin-right: 0.25em;color: #696969;}#sk-37ca11c9-458a-4ee6-8666-10f3de6ef13c label.sk-toggleable__label-arrow:hover:before {color: black;}#sk-37ca11c9-458a-4ee6-8666-10f3de6ef13c div.sk-estimator:hover label.sk-toggleable__label-arrow:before {color: black;}#sk-37ca11c9-458a-4ee6-8666-10f3de6ef13c div.sk-toggleable__content {max-height: 0;max-width: 0;overflow: hidden;text-align: left;background-color: #f0f8ff;}#sk-37ca11c9-458a-4ee6-8666-10f3de6ef13c div.sk-toggleable__content pre {margin: 0.2em;color: black;border-radius: 0.25em;background-color: #f0f8ff;}#sk-37ca11c9-458a-4ee6-8666-10f3de6ef13c input.sk-toggleable__control:checked~div.sk-toggleable__content {max-height: 200px;max-width: 100%;overflow: auto;}#sk-37ca11c9-458a-4ee6-8666-10f3de6ef13c input.sk-toggleable__control:checked~label.sk-toggleable__label-arrow:before {content: \"▾\";}#sk-37ca11c9-458a-4ee6-8666-10f3de6ef13c div.sk-estimator input.sk-toggleable__control:checked~label.sk-toggleable__label {background-color: #d4ebff;}#sk-37ca11c9-458a-4ee6-8666-10f3de6ef13c div.sk-label input.sk-toggleable__control:checked~label.sk-toggleable__label {background-color: #d4ebff;}#sk-37ca11c9-458a-4ee6-8666-10f3de6ef13c input.sk-hidden--visually {border: 0;clip: rect(1px 1px 1px 1px);clip: rect(1px, 1px, 1px, 1px);height: 1px;margin: -1px;overflow: hidden;padding: 0;position: absolute;width: 1px;}#sk-37ca11c9-458a-4ee6-8666-10f3de6ef13c div.sk-estimator {font-family: monospace;background-color: #f0f8ff;border: 1px dotted black;border-radius: 0.25em;box-sizing: border-box;margin-bottom: 0.5em;}#sk-37ca11c9-458a-4ee6-8666-10f3de6ef13c div.sk-estimator:hover {background-color: #d4ebff;}#sk-37ca11c9-458a-4ee6-8666-10f3de6ef13c div.sk-parallel-item::after {content: \"\";width: 100%;border-bottom: 1px solid gray;flex-grow: 1;}#sk-37ca11c9-458a-4ee6-8666-10f3de6ef13c div.sk-label:hover label.sk-toggleable__label {background-color: #d4ebff;}#sk-37ca11c9-458a-4ee6-8666-10f3de6ef13c div.sk-serial::before {content: \"\";position: absolute;border-left: 1px solid gray;box-sizing: border-box;top: 2em;bottom: 0;left: 50%;}#sk-37ca11c9-458a-4ee6-8666-10f3de6ef13c div.sk-serial {display: flex;flex-direction: column;align-items: center;background-color: white;padding-right: 0.2em;padding-left: 0.2em;}#sk-37ca11c9-458a-4ee6-8666-10f3de6ef13c div.sk-item {z-index: 1;}#sk-37ca11c9-458a-4ee6-8666-10f3de6ef13c div.sk-parallel {display: flex;align-items: stretch;justify-content: center;background-color: white;}#sk-37ca11c9-458a-4ee6-8666-10f3de6ef13c div.sk-parallel::before {content: \"\";position: absolute;border-left: 1px solid gray;box-sizing: border-box;top: 2em;bottom: 0;left: 50%;}#sk-37ca11c9-458a-4ee6-8666-10f3de6ef13c div.sk-parallel-item {display: flex;flex-direction: column;position: relative;background-color: white;}#sk-37ca11c9-458a-4ee6-8666-10f3de6ef13c div.sk-parallel-item:first-child::after {align-self: flex-end;width: 50%;}#sk-37ca11c9-458a-4ee6-8666-10f3de6ef13c div.sk-parallel-item:last-child::after {align-self: flex-start;width: 50%;}#sk-37ca11c9-458a-4ee6-8666-10f3de6ef13c div.sk-parallel-item:only-child::after {width: 0;}#sk-37ca11c9-458a-4ee6-8666-10f3de6ef13c div.sk-dashed-wrapped {border: 1px dashed gray;margin: 0 0.4em 0.5em 0.4em;box-sizing: border-box;padding-bottom: 0.4em;background-color: white;position: relative;}#sk-37ca11c9-458a-4ee6-8666-10f3de6ef13c div.sk-label label {font-family: monospace;font-weight: bold;background-color: white;display: inline-block;line-height: 1.2em;}#sk-37ca11c9-458a-4ee6-8666-10f3de6ef13c div.sk-label-container {position: relative;z-index: 2;text-align: center;}#sk-37ca11c9-458a-4ee6-8666-10f3de6ef13c div.sk-container {/* jupyter's `normalize.less` sets `[hidden] { display: none; }` but bootstrap.min.css set `[hidden] { display: none !important; }` so we also need the `!important` here to be able to override the default hidden behavior on the sphinx rendered scikit-learn.org. See: https://github.com/scikit-learn/scikit-learn/issues/21755 */display: inline-block !important;position: relative;}#sk-37ca11c9-458a-4ee6-8666-10f3de6ef13c div.sk-text-repr-fallback {display: none;}</style><div id=\"sk-37ca11c9-458a-4ee6-8666-10f3de6ef13c\" class=\"sk-top-container\"><div class=\"sk-text-repr-fallback\"><pre>Pipeline(steps=[(&#x27;columntransformer&#x27;,\n",
       "                 ColumnTransformer(transformers=[(&#x27;categorical&#x27;,\n",
       "                                                  Pipeline(steps=[(&#x27;imputation_constant&#x27;,\n",
       "                                                                   SimpleImputer(fill_value=&#x27;missing&#x27;,\n",
       "                                                                                 strategy=&#x27;constant&#x27;)),\n",
       "                                                                  (&#x27;onehot_encoding&#x27;,\n",
       "                                                                   OneHotEncoder(handle_unknown=&#x27;ignore&#x27;))]),\n",
       "                                                  [&#x27;gender&#x27;, &#x27;City&#x27;]),\n",
       "                                                 (&#x27;numerical&#x27;,\n",
       "                                                  Pipeline(steps=[(&#x27;imputation_mean&#x27;,\n",
       "                                                                   SimpleImputer()),\n",
       "                                                                  (&#x27;scaler&#x27;,\n",
       "                                                                   StandardScaler())]),\n",
       "                                                  [&#x27;age&#x27;, &#x27;height&#x27;])])),\n",
       "                (&#x27;logisticregression&#x27;, LogisticRegression())])</pre><b>Please rerun this cell to show the HTML repr or trust the notebook.</b></div><div class=\"sk-container\" hidden><div class=\"sk-item sk-dashed-wrapped\"><div class=\"sk-label-container\"><div class=\"sk-label sk-toggleable\"><input class=\"sk-toggleable__control sk-hidden--visually\" id=\"c48d38a4-4778-4b8c-b244-8b4ea025a86a\" type=\"checkbox\" ><label for=\"c48d38a4-4778-4b8c-b244-8b4ea025a86a\" class=\"sk-toggleable__label sk-toggleable__label-arrow\">Pipeline</label><div class=\"sk-toggleable__content\"><pre>Pipeline(steps=[(&#x27;columntransformer&#x27;,\n",
       "                 ColumnTransformer(transformers=[(&#x27;categorical&#x27;,\n",
       "                                                  Pipeline(steps=[(&#x27;imputation_constant&#x27;,\n",
       "                                                                   SimpleImputer(fill_value=&#x27;missing&#x27;,\n",
       "                                                                                 strategy=&#x27;constant&#x27;)),\n",
       "                                                                  (&#x27;onehot_encoding&#x27;,\n",
       "                                                                   OneHotEncoder(handle_unknown=&#x27;ignore&#x27;))]),\n",
       "                                                  [&#x27;gender&#x27;, &#x27;City&#x27;]),\n",
       "                                                 (&#x27;numerical&#x27;,\n",
       "                                                  Pipeline(steps=[(&#x27;imputation_mean&#x27;,\n",
       "                                                                   SimpleImputer()),\n",
       "                                                                  (&#x27;scaler&#x27;,\n",
       "                                                                   StandardScaler())]),\n",
       "                                                  [&#x27;age&#x27;, &#x27;height&#x27;])])),\n",
       "                (&#x27;logisticregression&#x27;, LogisticRegression())])</pre></div></div></div><div class=\"sk-serial\"><div class=\"sk-item sk-dashed-wrapped\"><div class=\"sk-label-container\"><div class=\"sk-label sk-toggleable\"><input class=\"sk-toggleable__control sk-hidden--visually\" id=\"bcf85fdb-1522-4515-80c5-976767e707c1\" type=\"checkbox\" ><label for=\"bcf85fdb-1522-4515-80c5-976767e707c1\" class=\"sk-toggleable__label sk-toggleable__label-arrow\">columntransformer: ColumnTransformer</label><div class=\"sk-toggleable__content\"><pre>ColumnTransformer(transformers=[(&#x27;categorical&#x27;,\n",
       "                                 Pipeline(steps=[(&#x27;imputation_constant&#x27;,\n",
       "                                                  SimpleImputer(fill_value=&#x27;missing&#x27;,\n",
       "                                                                strategy=&#x27;constant&#x27;)),\n",
       "                                                 (&#x27;onehot_encoding&#x27;,\n",
       "                                                  OneHotEncoder(handle_unknown=&#x27;ignore&#x27;))]),\n",
       "                                 [&#x27;gender&#x27;, &#x27;City&#x27;]),\n",
       "                                (&#x27;numerical&#x27;,\n",
       "                                 Pipeline(steps=[(&#x27;imputation_mean&#x27;,\n",
       "                                                  SimpleImputer()),\n",
       "                                                 (&#x27;scaler&#x27;, StandardScaler())]),\n",
       "                                 [&#x27;age&#x27;, &#x27;height&#x27;])])</pre></div></div></div><div class=\"sk-parallel\"><div class=\"sk-parallel-item\"><div class=\"sk-item\"><div class=\"sk-label-container\"><div class=\"sk-label sk-toggleable\"><input class=\"sk-toggleable__control sk-hidden--visually\" id=\"3f50ec99-c72d-4861-9230-3723e73cd462\" type=\"checkbox\" ><label for=\"3f50ec99-c72d-4861-9230-3723e73cd462\" class=\"sk-toggleable__label sk-toggleable__label-arrow\">categorical</label><div class=\"sk-toggleable__content\"><pre>[&#x27;gender&#x27;, &#x27;City&#x27;]</pre></div></div></div><div class=\"sk-serial\"><div class=\"sk-item\"><div class=\"sk-serial\"><div class=\"sk-item\"><div class=\"sk-estimator sk-toggleable\"><input class=\"sk-toggleable__control sk-hidden--visually\" id=\"e44ee368-107b-456c-9b19-6adc5d4bc539\" type=\"checkbox\" ><label for=\"e44ee368-107b-456c-9b19-6adc5d4bc539\" class=\"sk-toggleable__label sk-toggleable__label-arrow\">SimpleImputer</label><div class=\"sk-toggleable__content\"><pre>SimpleImputer(fill_value=&#x27;missing&#x27;, strategy=&#x27;constant&#x27;)</pre></div></div></div><div class=\"sk-item\"><div class=\"sk-estimator sk-toggleable\"><input class=\"sk-toggleable__control sk-hidden--visually\" id=\"4e706628-393c-4ea6-9c20-d245a4db94a9\" type=\"checkbox\" ><label for=\"4e706628-393c-4ea6-9c20-d245a4db94a9\" class=\"sk-toggleable__label sk-toggleable__label-arrow\">OneHotEncoder</label><div class=\"sk-toggleable__content\"><pre>OneHotEncoder(handle_unknown=&#x27;ignore&#x27;)</pre></div></div></div></div></div></div></div></div><div class=\"sk-parallel-item\"><div class=\"sk-item\"><div class=\"sk-label-container\"><div class=\"sk-label sk-toggleable\"><input class=\"sk-toggleable__control sk-hidden--visually\" id=\"78cc6f96-64c5-4435-aaaf-d3f334e14d50\" type=\"checkbox\" ><label for=\"78cc6f96-64c5-4435-aaaf-d3f334e14d50\" class=\"sk-toggleable__label sk-toggleable__label-arrow\">numerical</label><div class=\"sk-toggleable__content\"><pre>[&#x27;age&#x27;, &#x27;height&#x27;]</pre></div></div></div><div class=\"sk-serial\"><div class=\"sk-item\"><div class=\"sk-serial\"><div class=\"sk-item\"><div class=\"sk-estimator sk-toggleable\"><input class=\"sk-toggleable__control sk-hidden--visually\" id=\"c7d38333-8fc9-4fd2-93cc-a1ce63bea1de\" type=\"checkbox\" ><label for=\"c7d38333-8fc9-4fd2-93cc-a1ce63bea1de\" class=\"sk-toggleable__label sk-toggleable__label-arrow\">SimpleImputer</label><div class=\"sk-toggleable__content\"><pre>SimpleImputer()</pre></div></div></div><div class=\"sk-item\"><div class=\"sk-estimator sk-toggleable\"><input class=\"sk-toggleable__control sk-hidden--visually\" id=\"03ae647e-3ccc-4546-b797-e214a03daf3e\" type=\"checkbox\" ><label for=\"03ae647e-3ccc-4546-b797-e214a03daf3e\" class=\"sk-toggleable__label sk-toggleable__label-arrow\">StandardScaler</label><div class=\"sk-toggleable__content\"><pre>StandardScaler()</pre></div></div></div></div></div></div></div></div></div></div><div class=\"sk-item\"><div class=\"sk-estimator sk-toggleable\"><input class=\"sk-toggleable__control sk-hidden--visually\" id=\"dce9a13f-a066-4da2-bf09-c009a00f476d\" type=\"checkbox\" ><label for=\"dce9a13f-a066-4da2-bf09-c009a00f476d\" class=\"sk-toggleable__label sk-toggleable__label-arrow\">LogisticRegression</label><div class=\"sk-toggleable__content\"><pre>LogisticRegression()</pre></div></div></div></div></div></div></div>"
      ],
      "text/plain": [
       "Pipeline(steps=[('columntransformer',\n",
       "                 ColumnTransformer(transformers=[('categorical',\n",
       "                                                  Pipeline(steps=[('imputation_constant',\n",
       "                                                                   SimpleImputer(fill_value='missing',\n",
       "                                                                                 strategy='constant')),\n",
       "                                                                  ('onehot_encoding',\n",
       "                                                                   OneHotEncoder(handle_unknown='ignore'))]),\n",
       "                                                  ['gender', 'City']),\n",
       "                                                 ('numerical',\n",
       "                                                  Pipeline(steps=[('imputation_mean',\n",
       "                                                                   SimpleImputer()),\n",
       "                                                                  ('scaler',\n",
       "                                                                   StandardScaler())]),\n",
       "                                                  ['age', 'height'])])),\n",
       "                ('logisticregression', LogisticRegression())])"
      ]
     },
     "execution_count": 43,
     "metadata": {},
     "output_type": "execute_result"
    }
   ],
   "source": [
    "pipe"
   ]
  },
  {
   "cell_type": "code",
   "execution_count": null,
   "id": "11502e3f",
   "metadata": {},
   "outputs": [],
   "source": []
  }
 ],
 "metadata": {
  "kernelspec": {
   "display_name": "Python 3 (ipykernel)",
   "language": "python",
   "name": "python3"
  },
  "language_info": {
   "codemirror_mode": {
    "name": "ipython",
    "version": 3
   },
   "file_extension": ".py",
   "mimetype": "text/x-python",
   "name": "python",
   "nbconvert_exporter": "python",
   "pygments_lexer": "ipython3",
   "version": "3.9.12"
  }
 },
 "nbformat": 4,
 "nbformat_minor": 5
}
